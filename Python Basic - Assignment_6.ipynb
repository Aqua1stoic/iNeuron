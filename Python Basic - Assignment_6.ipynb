{
 "cells": [
  {
   "cell_type": "markdown",
   "id": "4f5fac1c",
   "metadata": {},
   "source": [
    "##### 1. What are escape characters, and how do you use them?"
   ]
  },
  {
   "cell_type": "markdown",
   "id": "4fff97c7",
   "metadata": {},
   "source": [
    "Escape characters are special characters that are used to represent other characters or symbols that are not directly typable on a keyboard. They are typically represented with a backslash () followed by a specific character or combination of characters.\n",
    "\n",
    "Here are some common examples of escape characters and their uses:\n",
    "\n",
    ">\\n - represents a new line character\n",
    "\n",
    ">\\t - represents a tab character\n",
    "\n",
    ">\\r - represents a carriage return character\n",
    "\n",
    ">' - represents a single quote character\n",
    "\n",
    ">\" - represents a double quote character"
   ]
  },
  {
   "cell_type": "markdown",
   "id": "ce48ca19",
   "metadata": {},
   "source": [
    "Escape characters are commonly used in programming languages such as C, Java, and Python, to insert special characters into strings or to format output. For example, in Python, you can use the escape character \\n to insert a line break in a string, \\t - tab escape sequence to insert a tab space or \\r - carriage return to move the cursor to the beginning of the line, to mention a few."
   ]
  },
  {
   "cell_type": "code",
   "execution_count": 3,
   "id": "bd30a76e",
   "metadata": {},
   "outputs": [
    {
     "name": "stdout",
     "output_type": "stream",
     "text": [
      "Hello\n",
      "World\n",
      "Hello\tWorld\n",
      "Hello\r",
      "World\n"
     ]
    }
   ],
   "source": [
    "print(\"Hello\\nWorld\")\n",
    "\n",
    "print(\"Hello\\tWorld\")\n",
    "\n",
    "print(\"Hello\\rWorld\")\n"
   ]
  },
  {
   "cell_type": "markdown",
   "id": "f2858653",
   "metadata": {},
   "source": [
    "##### 2. What do the escape characters n and t stand for?"
   ]
  },
  {
   "cell_type": "markdown",
   "id": "69d9d58d",
   "metadata": {},
   "source": [
    "In Python, the escape character \\n stands for \"newline\" and the escape character \\t stands for \"tab\".\n",
    "\n",
    ">The \\n character is used to insert a new line in a string, which means the cursor moves to the next line. This is often used to format text in a way that is more readable, or to separate lines of output.\n",
    "\n",
    ">The \\t character, on the other hand, is used to insert a horizontal tab in a string. This means that the cursor moves to the next tab stop, which is usually a fixed distance from the left margin of the page. This is often used to align text in a way that is more readable, or to separate columns of data."
   ]
  },
  {
   "cell_type": "code",
   "execution_count": 4,
   "id": "32202eaa",
   "metadata": {},
   "outputs": [
    {
     "name": "stdout",
     "output_type": "stream",
     "text": [
      "First line\n",
      "Second line\n",
      "Name:\tJohn\tAge:\t35\n"
     ]
    }
   ],
   "source": [
    "print(\"First line\\nSecond line\")\n",
    "\n",
    "\n",
    "print(\"Name:\\tJohn\\tAge:\\t35\")\n"
   ]
  },
  {
   "cell_type": "markdown",
   "id": "5023af28",
   "metadata": {},
   "source": [
    "##### 3. What is the way to include backslash characters in a string?"
   ]
  },
  {
   "cell_type": "markdown",
   "id": "5c233530",
   "metadata": {},
   "source": [
    "In Python, you can include a backslash character in a string by escaping it with another backslash. This is known as the \"escape character\" and is used to represent special characters within a string.\n",
    "\n",
    "For example, to include a backslash in a string, you can use the following syntax:"
   ]
  },
  {
   "cell_type": "code",
   "execution_count": 6,
   "id": "177ead26",
   "metadata": {},
   "outputs": [
    {
     "name": "stdout",
     "output_type": "stream",
     "text": [
      "This is a backslash: \\\n"
     ]
    }
   ],
   "source": [
    "my_string = \"This is a backslash: \\\\\"\n",
    "print(my_string)\n"
   ]
  },
  {
   "cell_type": "markdown",
   "id": "58acee69",
   "metadata": {},
   "source": [
    "##### 4. The string \"Howl's Moving Castle\" is a correct value. Why isn't the single quote character in the word Howl's not escaped a problem?"
   ]
  },
  {
   "cell_type": "markdown",
   "id": "8489081c",
   "metadata": {},
   "source": [
    "In programming, single quotes (') are often used to delimit strings. However, if a string itself contains a single quote, it can cause a problem because the interpreter may interpret the quote as the end of the string.\n",
    "\n",
    "To avoid this problem, one would need to escape the single quote by using a backslash (') before the quote. For example, the string \"Howl's Moving Castle\" would be the correct syntax.\n",
    "\n",
    "However, in some programming languages and contexts, it is not necessary to escape single quotes inside double-quoted strings. As long as the string is enclosed in double quotes (\" \"), single quotes can be used without escaping them. This is the case in many languages, including Python.\n",
    "\n",
    "So, in the case of \"Howl's Moving Castle\", since the entire string is enclosed in double quotes, the single quote does not need to be escaped and will not cause a problem."
   ]
  },
  {
   "cell_type": "code",
   "execution_count": 7,
   "id": "1b8ab951",
   "metadata": {},
   "outputs": [
    {
     "name": "stdout",
     "output_type": "stream",
     "text": [
      "Howl's Moving Castle\n"
     ]
    }
   ],
   "source": [
    "print(\"Howl's Moving Castle\")"
   ]
  },
  {
   "cell_type": "markdown",
   "id": "b0e8ff14",
   "metadata": {},
   "source": [
    "##### 5. How do you write a string of newlines if you don't want to use the n character?"
   ]
  },
  {
   "cell_type": "markdown",
   "id": "7b012410",
   "metadata": {},
   "source": [
    "If you don't want to use the \"n\" character to create a string of newlines, you can use the ASCII code for newline, which is 10. You can create a string of newlines by repeating the ASCII code for newline as many times as you need.\n",
    "\n",
    "In Python, you can use the chr() function to convert an ASCII code into its corresponding character. chr(10) converts the ASCII code for newline (10) into the newline character, and then the * operator repeats the newline character three times to create a string of three newlines. Here's an example code snippet that creates a string of three newlines using the ASCII code for newline:"
   ]
  },
  {
   "cell_type": "code",
   "execution_count": 9,
   "id": "998b81a6",
   "metadata": {},
   "outputs": [
    {
     "name": "stdout",
     "output_type": "stream",
     "text": [
      "I really need to be a ML Engineer ASAP \n",
      "\n",
      "\n",
      "\n",
      "because my wife needs money\n"
     ]
    }
   ],
   "source": [
    "newlines = chr(10) * 3\n",
    "print(\"I really need to be a ML Engineer ASAP\", newlines)\n",
    "print(\"because my wife needs money\")"
   ]
  },
  {
   "cell_type": "markdown",
   "id": "22bae55c",
   "metadata": {},
   "source": [
    "### OR\n",
    "using a Library"
   ]
  },
  {
   "cell_type": "markdown",
   "id": "f6f0c683",
   "metadata": {},
   "source": [
    "Alternatively, you can use the os module in Python to get the newline character for the current operating system. Here's an example code snippet that creates a string of three newlines using the os.linesep attribute:"
   ]
  },
  {
   "cell_type": "code",
   "execution_count": 11,
   "id": "bbc6008a",
   "metadata": {},
   "outputs": [
    {
     "name": "stdout",
     "output_type": "stream",
     "text": [
      "need Job \r\n",
      "\r\n",
      "\r\n",
      " ASAP\n"
     ]
    }
   ],
   "source": [
    "import os\n",
    "newlines = os.linesep *3\n",
    "print('need Job', newlines,\"ASAP\")"
   ]
  },
  {
   "cell_type": "markdown",
   "id": "2a3f23c8",
   "metadata": {},
   "source": [
    "##### 6. What are the values of the given expressions?"
   ]
  },
  {
   "cell_type": "code",
   "execution_count": 12,
   "id": "0449c868",
   "metadata": {},
   "outputs": [
    {
     "data": {
      "text/plain": [
       "'e'"
      ]
     },
     "execution_count": 12,
     "metadata": {},
     "output_type": "execute_result"
    }
   ],
   "source": [
    "'Hello, world!'[1]"
   ]
  },
  {
   "cell_type": "code",
   "execution_count": 16,
   "id": "6fd816b3",
   "metadata": {},
   "outputs": [
    {
     "data": {
      "text/plain": [
       "'Hello'"
      ]
     },
     "execution_count": 16,
     "metadata": {},
     "output_type": "execute_result"
    }
   ],
   "source": [
    "'Hello, world!'[0:5]"
   ]
  },
  {
   "cell_type": "code",
   "execution_count": 17,
   "id": "97ff0c4c",
   "metadata": {},
   "outputs": [
    {
     "data": {
      "text/plain": [
       "'Hello'"
      ]
     },
     "execution_count": 17,
     "metadata": {},
     "output_type": "execute_result"
    }
   ],
   "source": [
    "'Hello, world!'[:5]"
   ]
  },
  {
   "cell_type": "code",
   "execution_count": 18,
   "id": "e037681f",
   "metadata": {},
   "outputs": [
    {
     "data": {
      "text/plain": [
       "'lo, world!'"
      ]
     },
     "execution_count": 18,
     "metadata": {},
     "output_type": "execute_result"
    }
   ],
   "source": [
    "'Hello, world!'[3:]"
   ]
  },
  {
   "cell_type": "markdown",
   "id": "4b90f2c9",
   "metadata": {},
   "source": [
    "##### 7. What are the values of the following expressions?"
   ]
  },
  {
   "cell_type": "code",
   "execution_count": 19,
   "id": "cca93776",
   "metadata": {},
   "outputs": [
    {
     "data": {
      "text/plain": [
       "'HELLO'"
      ]
     },
     "execution_count": 19,
     "metadata": {},
     "output_type": "execute_result"
    }
   ],
   "source": [
    "'Hello'.upper()"
   ]
  },
  {
   "cell_type": "code",
   "execution_count": 20,
   "id": "3e50ce2a",
   "metadata": {},
   "outputs": [
    {
     "data": {
      "text/plain": [
       "True"
      ]
     },
     "execution_count": 20,
     "metadata": {},
     "output_type": "execute_result"
    }
   ],
   "source": [
    "'Hello'.upper().isupper()"
   ]
  },
  {
   "cell_type": "code",
   "execution_count": 22,
   "id": "40ba321b",
   "metadata": {},
   "outputs": [
    {
     "data": {
      "text/plain": [
       "'hello'"
      ]
     },
     "execution_count": 22,
     "metadata": {},
     "output_type": "execute_result"
    }
   ],
   "source": [
    "'Hello'.upper().lower()"
   ]
  },
  {
   "cell_type": "markdown",
   "id": "ff2421b8",
   "metadata": {},
   "source": [
    "##### 8. What are the values of the following expressions?"
   ]
  },
  {
   "cell_type": "code",
   "execution_count": 23,
   "id": "ba1d477f",
   "metadata": {},
   "outputs": [
    {
     "data": {
      "text/plain": [
       "['Remember,', 'remember,', 'the', 'fifth', 'of', 'July.']"
      ]
     },
     "execution_count": 23,
     "metadata": {},
     "output_type": "execute_result"
    }
   ],
   "source": [
    "'Remember, remember, the fifth of July.'.split()"
   ]
  },
  {
   "cell_type": "code",
   "execution_count": 24,
   "id": "d0b68574",
   "metadata": {},
   "outputs": [
    {
     "data": {
      "text/plain": [
       "'There-can-only-one.'"
      ]
     },
     "execution_count": 24,
     "metadata": {},
     "output_type": "execute_result"
    }
   ],
   "source": [
    "'-'.join('There can only one.'.split())"
   ]
  },
  {
   "cell_type": "markdown",
   "id": "3cced767",
   "metadata": {},
   "source": [
    "##### 9. What are the methods for right-justifying, left-justifying, and centering a string?"
   ]
  },
  {
   "cell_type": "markdown",
   "id": "50416a1d",
   "metadata": {},
   "source": [
    ">Right-justifying a string: To right-justify a string, you need to add spaces to the left of the string until the desired width is reached. In Python, you can use the string method rjust() to right-justify a string. For example:"
   ]
  },
  {
   "cell_type": "code",
   "execution_count": 26,
   "id": "4024a6da",
   "metadata": {},
   "outputs": [
    {
     "name": "stdout",
     "output_type": "stream",
     "text": [
      "                         Hello\n"
     ]
    }
   ],
   "source": [
    "text = 'Hello'\n",
    "width = 30\n",
    "justified_text = text.rjust(width)\n",
    "print(justified_text)\n"
   ]
  },
  {
   "cell_type": "markdown",
   "id": "d54f87d6",
   "metadata": {},
   "source": [
    ">Left-justifying a string: To left-justify a string, you need to add spaces to the right of the string until the desired width is reached. In Python, you can use the string method ljust() to left-justify a string. For example:"
   ]
  },
  {
   "cell_type": "code",
   "execution_count": 27,
   "id": "f9b7201c",
   "metadata": {},
   "outputs": [
    {
     "name": "stdout",
     "output_type": "stream",
     "text": [
      "Hello     \n"
     ]
    }
   ],
   "source": [
    "text = 'Hello'\n",
    "width = 10\n",
    "justified_text = text.ljust(width)\n",
    "print(justified_text)\n"
   ]
  },
  {
   "cell_type": "markdown",
   "id": "ff29b4c9",
   "metadata": {},
   "source": [
    ">Centering a string: To center a string, you need to add spaces to both the left and right of the string until the desired width is reached, with an equal number of spaces on both sides. In Python, you can use the string method center() to center a string. For example:"
   ]
  },
  {
   "cell_type": "code",
   "execution_count": 33,
   "id": "e707ef43",
   "metadata": {},
   "outputs": [
    {
     "name": "stdout",
     "output_type": "stream",
     "text": [
      "                                                                        Hello                                                                         \n"
     ]
    }
   ],
   "source": [
    "text = 'Hello'\n",
    "width = 150\n",
    "justified_text = text.center(width)\n",
    "print(justified_text)\n"
   ]
  },
  {
   "cell_type": "markdown",
   "id": "5efb9a8c",
   "metadata": {},
   "source": [
    "##### 10. What is the best way to remove whitespace characters from the start or end?"
   ]
  },
  {
   "cell_type": "markdown",
   "id": "e1687dda",
   "metadata": {},
   "source": [
    ">The best way to remove whitespace characters from the start or end of a string is to use the strip() method.\n",
    "\n",
    "The strip() method removes any whitespace characters from the beginning and end of the string, including spaces, tabs, and newline characters. Here's an example:"
   ]
  },
  {
   "cell_type": "code",
   "execution_count": 34,
   "id": "faa9e5e9",
   "metadata": {},
   "outputs": [
    {
     "name": "stdout",
     "output_type": "stream",
     "text": [
      "Hello world!\n"
     ]
    }
   ],
   "source": [
    "text = \"   Hello world!   \"\n",
    "stripped_text = text.strip()\n",
    "print(stripped_text)\n"
   ]
  },
  {
   "cell_type": "markdown",
   "id": "9d60e6ee",
   "metadata": {},
   "source": [
    "If you only want to remove whitespace characters from the beginning of the string, you can use the lstrip() method. If you only want to remove whitespace characters from the end of the string, you can use the rstrip() method. Here's an example of each:"
   ]
  },
  {
   "cell_type": "code",
   "execution_count": 35,
   "id": "0eb3cd11",
   "metadata": {},
   "outputs": [
    {
     "name": "stdout",
     "output_type": "stream",
     "text": [
      "Hello world!   \n",
      "   Hello world!\n"
     ]
    }
   ],
   "source": [
    "text = \"   Hello world!   \"\n",
    "left_stripped_text = text.lstrip()\n",
    "right_stripped_text = text.rstrip()\n",
    "\n",
    "print(left_stripped_text)   # Output: \"Hello world!   \"\n",
    "print(right_stripped_text)  # Output: \"   Hello world!\"\n"
   ]
  },
  {
   "cell_type": "code",
   "execution_count": null,
   "id": "dff7e759",
   "metadata": {},
   "outputs": [],
   "source": []
  }
 ],
 "metadata": {
  "kernelspec": {
   "display_name": "Python 3",
   "language": "python",
   "name": "python3"
  },
  "language_info": {
   "codemirror_mode": {
    "name": "ipython",
    "version": 3
   },
   "file_extension": ".py",
   "mimetype": "text/x-python",
   "name": "python",
   "nbconvert_exporter": "python",
   "pygments_lexer": "ipython3",
   "version": "3.8.8"
  }
 },
 "nbformat": 4,
 "nbformat_minor": 5
}
