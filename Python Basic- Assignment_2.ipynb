{
 "cells": [
  {
   "cell_type": "markdown",
   "id": "465dd832",
   "metadata": {},
   "source": [
    "##### 1.What are the two values of the Boolean data type? How do you write them?"
   ]
  },
  {
   "cell_type": "markdown",
   "id": "3d3c54ae",
   "metadata": {},
   "source": [
    "The two values of the Boolean data type are True and False and, they are written as seen below, i.e. with an initial uppercase letter for each value."
   ]
  },
  {
   "cell_type": "code",
   "execution_count": 1,
   "id": "63047b75",
   "metadata": {},
   "outputs": [
    {
     "data": {
      "text/plain": [
       "True"
      ]
     },
     "execution_count": 1,
     "metadata": {},
     "output_type": "execute_result"
    }
   ],
   "source": [
    "True or False"
   ]
  },
  {
   "cell_type": "markdown",
   "id": "34a35822",
   "metadata": {},
   "source": [
    "##### 2. What are the three different types of Boolean operators?"
   ]
  },
  {
   "cell_type": "code",
   "execution_count": null,
   "id": "4fc5788d",
   "metadata": {},
   "outputs": [],
   "source": [
    "and or not"
   ]
  },
  {
   "cell_type": "markdown",
   "id": "d05493a7",
   "metadata": {},
   "source": [
    ">Logical AND (and): The and operator returns True if both operands are True, otherwise it returns False.\n",
    "\n",
    ">Logical OR (or): The or operator returns True if at least one of the operands is True, otherwise it returns False.\n",
    "\n",
    ">Logical NOT (not): The not operator returns the opposite of the Boolean value of its operand. If the operand is True, then not returns False, and if the operand is False, then not returns True."
   ]
  },
  {
   "cell_type": "markdown",
   "id": "b9aa384d",
   "metadata": {},
   "source": [
    "##### 3. Make a list of each Boolean operator's truth tables (i.e. every possible combination of Boolean values for the operator and what it evaluate ). "
   ]
  },
  {
   "cell_type": "markdown",
   "id": "7a15c2d2",
   "metadata": {},
   "source": [
    "For the And Boolean operator\n",
    "\n",
    "|  A  ||  B  ||  A and B  |\n",
    "|-||-||---|\n",
    "|True||True||True|\n",
    "|True||False||False|\n",
    "|False||True||False|\n",
    "|False||False||False|\n",
    "\n",
    "\n",
    "\n",
    "For Or Operator\n",
    "\n",
    "|A||B||A or B|\n",
    "|-||-||---|\n",
    "|True||True||True|\n",
    "|True||False||True|\n",
    "|False||True||True|\n",
    "|False||False||False|\n",
    "\n",
    "\n",
    "For Not\n",
    "\n",
    "|A||not A|\n",
    "|-||-|\n",
    "|True||False|\n",
    "|False||True|"
   ]
  },
  {
   "cell_type": "markdown",
   "id": "9aa700ad",
   "metadata": {},
   "source": [
    "##### 4. What are the values of the following expressions?"
   ]
  },
  {
   "cell_type": "code",
   "execution_count": 6,
   "id": "8e647c43",
   "metadata": {},
   "outputs": [
    {
     "data": {
      "text/plain": [
       "True"
      ]
     },
     "execution_count": 6,
     "metadata": {},
     "output_type": "execute_result"
    }
   ],
   "source": [
    "(5 > 4) and (3 == 5)"
   ]
  },
  {
   "cell_type": "code",
   "execution_count": 5,
   "id": "0adc8a7d",
   "metadata": {},
   "outputs": [
    {
     "data": {
      "text/plain": [
       "False"
      ]
     },
     "execution_count": 5,
     "metadata": {},
     "output_type": "execute_result"
    }
   ],
   "source": [
    "not (5 > 4)"
   ]
  },
  {
   "cell_type": "code",
   "execution_count": 7,
   "id": "82e0a44f",
   "metadata": {},
   "outputs": [
    {
     "data": {
      "text/plain": [
       "True"
      ]
     },
     "execution_count": 7,
     "metadata": {},
     "output_type": "execute_result"
    }
   ],
   "source": [
    "(5 > 4) or (3 == 5)"
   ]
  },
  {
   "cell_type": "code",
   "execution_count": 8,
   "id": "065c3a3d",
   "metadata": {},
   "outputs": [
    {
     "data": {
      "text/plain": [
       "False"
      ]
     },
     "execution_count": 8,
     "metadata": {},
     "output_type": "execute_result"
    }
   ],
   "source": [
    "not ((5 > 4) or (3 == 5))"
   ]
  },
  {
   "cell_type": "code",
   "execution_count": 9,
   "id": "ca00ebf2",
   "metadata": {},
   "outputs": [
    {
     "data": {
      "text/plain": [
       "False"
      ]
     },
     "execution_count": 9,
     "metadata": {},
     "output_type": "execute_result"
    }
   ],
   "source": [
    "(True and True) and (True == False)"
   ]
  },
  {
   "cell_type": "code",
   "execution_count": 10,
   "id": "c06074da",
   "metadata": {},
   "outputs": [
    {
     "data": {
      "text/plain": [
       "True"
      ]
     },
     "execution_count": 10,
     "metadata": {},
     "output_type": "execute_result"
    }
   ],
   "source": [
    "(not False) or (not True)"
   ]
  },
  {
   "cell_type": "markdown",
   "id": "8509d90b",
   "metadata": {},
   "source": [
    "##### 5. What are the six comparison operators?"
   ]
  },
  {
   "cell_type": "markdown",
   "id": "a8d50dea",
   "metadata": {},
   "source": [
    "The six comparison operators in Python are:\n",
    "\n",
    ">Equal to (==): This operator returns True if the values being compared are equal, otherwise it returns False.\n",
    "\n",
    ">Not equal to (!=): This operator returns True if the values being compared are not equal, otherwise it returns False.\n",
    "\n",
    ">Greater than (>): This operator returns True if the value on the left is greater than the value on the right, otherwise it returns False.\n",
    "\n",
    ">Less than (<): This operator returns True if the value on the left is less than the value on the right, otherwise it returns False.\n",
    "\n",
    ">Greater than or equal to (>=): This operator returns True if the value on the left is greater than or equal to the value on the right, otherwise it returns False.\n",
    "\n",
    ">Less than or equal to (<=): This operator returns True if the value on the left is less than or equal to the value on the right, otherwise it returns False."
   ]
  },
  {
   "cell_type": "markdown",
   "id": "64b5fc80",
   "metadata": {},
   "source": [
    "##### 6. How do you tell the difference between the equal to and assignment operators?Describe a condition and when you would use one."
   ]
  },
  {
   "cell_type": "markdown",
   "id": "40ab1dfd",
   "metadata": {},
   "source": [
    "Th the equal to operator \"==\" is used for comparison, while the assignment operator \"=\" is used for assignment of a value to a variable. You would use the equal to operator when you need to compare two values for equality, such as in an if statement. You would use the assignment operator when you need to assign a value to a variable, such as when initializing a variable with a value or updating its value later in your code.\n",
    "Example is aa seen below:"
   ]
  },
  {
   "cell_type": "code",
   "execution_count": 11,
   "id": "e1b1adc9",
   "metadata": {},
   "outputs": [
    {
     "name": "stdout",
     "output_type": "stream",
     "text": [
      "x is not equal to y\n"
     ]
    }
   ],
   "source": [
    "x = 5 # assigns the value 5 to the variable x\n",
    "y = 10 # assigns the value 10 to the variable y\n",
    "\n",
    "if x == y:\n",
    "  print(\"x is equal to y\")\n",
    "else:\n",
    "  print(\"x is not equal to y\")\n"
   ]
  },
  {
   "cell_type": "markdown",
   "id": "38f9ef11",
   "metadata": {},
   "source": [
    "##### 7. Identify the three blocks in this code:\n",
    "spam = 0\n",
    "\n",
    "if spam == 10:\n",
    "\n",
    "print(\"eggs\")\n",
    "\n",
    "if spam < 5:\n",
    "\n",
    "print(\"bacon\")\n",
    "\n",
    "else:\n",
    "\n",
    "print(\"ham\")\n",
    "\n",
    "print(\"spam\")\n",
    "\n",
    "print(\"spam\")\n"
   ]
  },
  {
   "cell_type": "markdown",
   "id": "7fce39cf",
   "metadata": {},
   "source": [
    "Answer > Based on the indentation, the three blocks in the code are:\n",
    "\n",
    "The first block initializes the variable \"spam\" to 0."
   ]
  },
  {
   "cell_type": "code",
   "execution_count": 12,
   "id": "2d642995",
   "metadata": {},
   "outputs": [],
   "source": [
    "spam = 0\n"
   ]
  },
  {
   "cell_type": "markdown",
   "id": "a6536ebf",
   "metadata": {},
   "source": [
    "The second block is an if statement that checks if \"spam\" is equal to 10. Since \"spam\" is not equal to 10, the code inside this block is not executed."
   ]
  },
  {
   "cell_type": "code",
   "execution_count": 13,
   "id": "9577cfe0",
   "metadata": {},
   "outputs": [],
   "source": [
    "if spam == 10:\n",
    "  print(\"eggs\")\n"
   ]
  },
  {
   "cell_type": "markdown",
   "id": "65c6ca18",
   "metadata": {},
   "source": [
    "The third block is an if-else statement that checks if \"spam\" is less than 5. Since \"spam\" is equal to 0, which is less than 5, the code inside the if block is executed, which prints \"bacon\" to the console. The code inside the else block is not executed. The two print statements after the if-else statement are not indented, so they are not part of this block."
   ]
  },
  {
   "cell_type": "code",
   "execution_count": 14,
   "id": "cee3f7a6",
   "metadata": {},
   "outputs": [
    {
     "name": "stdout",
     "output_type": "stream",
     "text": [
      "bacon\n",
      "spam\n",
      "spam\n"
     ]
    }
   ],
   "source": [
    "if spam < 5:\n",
    "  print(\"bacon\")\n",
    "else:\n",
    "  print(\"ham\")\n",
    "print(\"spam\")\n",
    "print(\"spam\")\n"
   ]
  },
  {
   "cell_type": "code",
   "execution_count": null,
   "id": "c55f708d",
   "metadata": {},
   "outputs": [],
   "source": []
  },
  {
   "cell_type": "markdown",
   "id": "b45d1bdc",
   "metadata": {},
   "source": [
    "##### 8. Write code that prints Hello if 1 is stored in spam, prints Howdy if 2 is stored in spam, and prints Greetings! if anything else is stored in spam."
   ]
  },
  {
   "cell_type": "code",
   "execution_count": 16,
   "id": "018389f8",
   "metadata": {
    "scrolled": true
   },
   "outputs": [
    {
     "name": "stdout",
     "output_type": "stream",
     "text": [
      "Hello\n"
     ]
    }
   ],
   "source": [
    "spam = 1\n",
    "\n",
    "if spam == 1:\n",
    "    print(\"Hello\")\n",
    "elif spam == 2:\n",
    "    print(\"Howdy\")\n",
    "else:\n",
    "    print(\"Greetings!\")\n"
   ]
  },
  {
   "cell_type": "markdown",
   "id": "2c11c761",
   "metadata": {},
   "source": [
    "##### 8. If your programme is stuck in an endless loop, what keys you’ll press in python?"
   ]
  },
  {
   "cell_type": "markdown",
   "id": "bf8de6db",
   "metadata": {},
   "source": [
    "On Jupyter Notebook, If a python programme is stuck on an endless loop, we have to Restart the current kernal to stop the endless loop.\n",
    "We can do that by pressing \"0\"\"0\" while our highlight or cursor is not on the text cell\n",
    "\n",
    "If a on terminal, and the Python program is stuck in an endless loop, you can press the Ctrl + C keys in the command line interface to terminate the program. This sends a keyboard interrupt signal to the running program and stops its execution.\n",
    "\n",
    "Alternatively, you can also try to interrupt the program using the Ctrl + Break keys if you're on Windows or Ctrl + \\ if you're on Linux or macOS. This sends a break signal to the running program and can terminate its execution."
   ]
  },
  {
   "cell_type": "code",
   "execution_count": null,
   "id": "d9e48a11",
   "metadata": {},
   "outputs": [],
   "source": []
  },
  {
   "cell_type": "markdown",
   "id": "a4c1feb2",
   "metadata": {},
   "source": [
    "##### 10. How can you tell the difference between break and continue?"
   ]
  },
  {
   "cell_type": "markdown",
   "id": "9dddc7d5",
   "metadata": {},
   "source": [
    "In Python, break and continue are two different control statements used inside loops (for loop, while loop) to alter their normal flow. The main difference between the two is that break is used to exit out of the loop completely while continue is used to skip the current iteration and move on to the next iteration.\n",
    "For Example:"
   ]
  },
  {
   "cell_type": "code",
   "execution_count": 17,
   "id": "5b1a8688",
   "metadata": {},
   "outputs": [
    {
     "name": "stdout",
     "output_type": "stream",
     "text": [
      "0\n",
      "1\n",
      "2\n",
      "3\n",
      "4\n"
     ]
    }
   ],
   "source": [
    "#break: When break is executed inside a loop, it immediately terminates the loop and moves\n",
    "#the control to the next statement outside of the loop. \n",
    "#This means that any remaining statements inside the loop will be skipped,\n",
    "#and the loop will not continue its execution.\n",
    "\n",
    "for i in range(10):\n",
    "    if i == 5:\n",
    "        break\n",
    "    print(i)\n",
    "#In this example, the loop exits when i becomes equal to 5, and the remaining iterations are skipped."
   ]
  },
  {
   "cell_type": "code",
   "execution_count": 18,
   "id": "7eeacb34",
   "metadata": {},
   "outputs": [
    {
     "name": "stdout",
     "output_type": "stream",
     "text": [
      "1\n",
      "3\n",
      "5\n",
      "7\n",
      "9\n"
     ]
    }
   ],
   "source": [
    "#continue: When continue is executed inside a loop, it skips the current iteration and moves\n",
    "#on to the next iteration. This means that any remaining statements inside the loop\n",
    "#for the current iteration will be skipped,\n",
    "#and the loop will continue with the next iteration.\n",
    "\n",
    "for i in range(10):\n",
    "    if i % 2 == 0:\n",
    "        continue\n",
    "    print(i)\n",
    "#In this example, continue is used to skip the even numbers and move on to the next odd number."
   ]
  },
  {
   "cell_type": "code",
   "execution_count": null,
   "id": "a3f33030",
   "metadata": {},
   "outputs": [],
   "source": []
  },
  {
   "cell_type": "markdown",
   "id": "cd1c6139",
   "metadata": {},
   "source": [
    "##### 11. In a for loop, what is the difference between range(10), range(0, 10), and range(0, 10, 1)?"
   ]
  },
  {
   "cell_type": "markdown",
   "id": "d15dcefb",
   "metadata": {},
   "source": [
    "range(10) and range(0, 10) generate the same sequence of numbers from 0 up to (but not including) 10, while range(0, 10, 1) is equivalent to them and also specifies the start value and step size. As shown below"
   ]
  },
  {
   "cell_type": "code",
   "execution_count": 20,
   "id": "3ddf8fc2",
   "metadata": {},
   "outputs": [
    {
     "name": "stdout",
     "output_type": "stream",
     "text": [
      "for range(10)\n",
      "0\n",
      "1\n",
      "2\n",
      "3\n",
      "4\n",
      "5\n",
      "6\n",
      "7\n",
      "8\n",
      "9\n",
      "for range(0,10)\n",
      "0\n",
      "1\n",
      "2\n",
      "3\n",
      "4\n",
      "5\n",
      "6\n",
      "7\n",
      "8\n",
      "9\n",
      "for range(0,10,1)\n",
      "0\n",
      "1\n",
      "2\n",
      "3\n",
      "4\n",
      "5\n",
      "6\n",
      "7\n",
      "8\n",
      "9\n"
     ]
    }
   ],
   "source": [
    "print(\"for range(10)\")\n",
    "for i in range(10):\n",
    "    print(i)\n",
    "print(\"for range(0,10)\")\n",
    "for i in range(0, 10):\n",
    "    print(i)\n",
    "print(\"for range(0,10,1)\")\n",
    "for i in range(0, 10, 1):\n",
    "    print(i)\n"
   ]
  },
  {
   "cell_type": "markdown",
   "id": "2da0ab6f",
   "metadata": {},
   "source": [
    "##### 12. Write a short program that prints the numbers 1 to 10 using a for loop. Then write an equivalent program that prints the numbers 1 to 10 using a while loop."
   ]
  },
  {
   "cell_type": "code",
   "execution_count": 22,
   "id": "30e71760",
   "metadata": {},
   "outputs": [
    {
     "name": "stdout",
     "output_type": "stream",
     "text": [
      "Programme output for For-Loop\n",
      "1\n",
      "2\n",
      "3\n",
      "4\n",
      "5\n",
      "6\n",
      "7\n",
      "8\n",
      "9\n",
      "10\n",
      "Programme output for While-Loop\n",
      "1\n",
      "2\n",
      "3\n",
      "4\n",
      "5\n",
      "6\n",
      "7\n",
      "8\n",
      "9\n",
      "10\n"
     ]
    }
   ],
   "source": [
    "print(\"Programme output for For-Loop\")\n",
    "for i in range(1,11):\n",
    "    print(i)\n",
    "    \n",
    "print(\"Programme output for While-Loop\")\n",
    "i = 1\n",
    "while i <= 10:\n",
    "    print(i)\n",
    "    i += 1\n"
   ]
  },
  {
   "cell_type": "markdown",
   "id": "86656d54",
   "metadata": {},
   "source": [
    "##### 13. If you had a function named bacon() inside a module named spam, how would you call it after importing spam?"
   ]
  },
  {
   "cell_type": "code",
   "execution_count": null,
   "id": "7f9df41b",
   "metadata": {},
   "outputs": [],
   "source": [
    "import spam\n",
    "spam.bacon()\n",
    "#This is calling the bacon() function from the spam module."
   ]
  },
  {
   "cell_type": "code",
   "execution_count": null,
   "id": "3cbf8149",
   "metadata": {},
   "outputs": [],
   "source": []
  }
 ],
 "metadata": {
  "kernelspec": {
   "display_name": "Python 3",
   "language": "python",
   "name": "python3"
  },
  "language_info": {
   "codemirror_mode": {
    "name": "ipython",
    "version": 3
   },
   "file_extension": ".py",
   "mimetype": "text/x-python",
   "name": "python",
   "nbconvert_exporter": "python",
   "pygments_lexer": "ipython3",
   "version": "3.8.8"
  }
 },
 "nbformat": 4,
 "nbformat_minor": 5
}
