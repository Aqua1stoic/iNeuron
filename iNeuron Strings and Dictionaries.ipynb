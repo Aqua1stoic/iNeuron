{
 "cells": [
  {
   "cell_type": "markdown",
   "id": "be77dbd2",
   "metadata": {},
   "source": [
    "# String"
   ]
  },
  {
   "cell_type": "code",
   "execution_count": 1,
   "id": "7a208cef",
   "metadata": {},
   "outputs": [],
   "source": [
    "my_string1= \"\"\"i\n",
    "am going\n",
    "to be a great \n",
    "software and hardware\n",
    "computer scientist\"\"\""
   ]
  },
  {
   "cell_type": "code",
   "execution_count": 2,
   "id": "9e04ee0f",
   "metadata": {
    "scrolled": true
   },
   "outputs": [
    {
     "data": {
      "text/plain": [
       "'i\\nam going\\nto be a great \\nsoftware and hardware\\ncomputer scientist'"
      ]
     },
     "execution_count": 2,
     "metadata": {},
     "output_type": "execute_result"
    }
   ],
   "source": [
    "my_string1"
   ]
  },
  {
   "cell_type": "code",
   "execution_count": 3,
   "id": "93f1c767",
   "metadata": {},
   "outputs": [
    {
     "name": "stdout",
     "output_type": "stream",
     "text": [
      "i\n",
      "am going\n",
      "to be a great \n",
      "software and hardware\n",
      "computer scientist\n"
     ]
    }
   ],
   "source": [
    "print(my_string1)"
   ]
  },
  {
   "cell_type": "code",
   "execution_count": 4,
   "id": "db59a6c4",
   "metadata": {},
   "outputs": [
    {
     "data": {
      "text/plain": [
       "'i\\nam going\\nto be a great \\nsoftware and hardware\\ncomputer scientist'"
      ]
     },
     "execution_count": 4,
     "metadata": {},
     "output_type": "execute_result"
    }
   ],
   "source": [
    "my_string1"
   ]
  },
  {
   "cell_type": "code",
   "execution_count": 5,
   "id": "d91cdb0f",
   "metadata": {},
   "outputs": [
    {
     "data": {
      "text/plain": [
       "101"
      ]
     },
     "execution_count": 5,
     "metadata": {},
     "output_type": "execute_result"
    }
   ],
   "source": [
    "ord(my_string1[60])"
   ]
  },
  {
   "cell_type": "markdown",
   "id": "92ab313e",
   "metadata": {},
   "source": [
    "WAP to take input from user and print it in reverse order. \n",
    "\n",
    "znotez: Don't use slicing operator"
   ]
  },
  {
   "cell_type": "code",
   "execution_count": 6,
   "id": "bddd6a45",
   "metadata": {},
   "outputs": [
    {
     "name": "stdout",
     "output_type": "stream",
     "text": [
      "enter your nameshin ntui akwa\n",
      "a w k a   i u t n   n i h s "
     ]
    }
   ],
   "source": [
    "name = input('enter your name')\n",
    "for x in range(len(name)-1,-1,-1):\n",
    "    print(name[x],end=\" \")"
   ]
  },
  {
   "cell_type": "code",
   "execution_count": 7,
   "id": "c3f67158",
   "metadata": {},
   "outputs": [
    {
     "data": {
      "text/plain": [
       "'banana'"
      ]
     },
     "execution_count": 7,
     "metadata": {},
     "output_type": "execute_result"
    }
   ],
   "source": [
    "'ba'+'na'*2"
   ]
  },
  {
   "cell_type": "code",
   "execution_count": 8,
   "id": "d0c62e2a",
   "metadata": {},
   "outputs": [
    {
     "data": {
      "text/plain": [
       "'byebye'"
      ]
     },
     "execution_count": 8,
     "metadata": {},
     "output_type": "execute_result"
    }
   ],
   "source": [
    "'bye'*2"
   ]
  },
  {
   "cell_type": "code",
   "execution_count": 9,
   "id": "e0a22023",
   "metadata": {},
   "outputs": [
    {
     "data": {
      "text/plain": [
       "True"
      ]
     },
     "execution_count": 9,
     "metadata": {},
     "output_type": "execute_result"
    }
   ],
   "source": [
    "'software' in my_string1"
   ]
  },
  {
   "cell_type": "code",
   "execution_count": 10,
   "id": "7d2fa900",
   "metadata": {},
   "outputs": [
    {
     "data": {
      "text/plain": [
       "66"
      ]
     },
     "execution_count": 10,
     "metadata": {},
     "output_type": "execute_result"
    }
   ],
   "source": [
    "len(my_string1)"
   ]
  },
  {
   "cell_type": "code",
   "execution_count": 11,
   "id": "dbcd7ea7",
   "metadata": {},
   "outputs": [
    {
     "data": {
      "text/plain": [
       "'w'"
      ]
     },
     "execution_count": 11,
     "metadata": {},
     "output_type": "execute_result"
    }
   ],
   "source": [
    "max(my_string1)"
   ]
  },
  {
   "cell_type": "code",
   "execution_count": 12,
   "id": "ea186596",
   "metadata": {},
   "outputs": [
    {
     "data": {
      "text/plain": [
       "'\\n'"
      ]
     },
     "execution_count": 12,
     "metadata": {},
     "output_type": "execute_result"
    }
   ],
   "source": [
    "min(my_string1)"
   ]
  },
  {
   "cell_type": "code",
   "execution_count": 13,
   "id": "899a7ac0",
   "metadata": {},
   "outputs": [
    {
     "data": {
      "text/plain": [
       "'\\x01'"
      ]
     },
     "execution_count": 13,
     "metadata": {},
     "output_type": "execute_result"
    }
   ],
   "source": [
    "chr(1)"
   ]
  },
  {
   "cell_type": "code",
   "execution_count": 14,
   "id": "5dce3487",
   "metadata": {},
   "outputs": [
    {
     "data": {
      "text/plain": [
       "0"
      ]
     },
     "execution_count": 14,
     "metadata": {},
     "output_type": "execute_result"
    }
   ],
   "source": [
    "ord('\\x00')"
   ]
  },
  {
   "cell_type": "code",
   "execution_count": 15,
   "id": "dab385a6",
   "metadata": {
    "scrolled": true
   },
   "outputs": [
    {
     "data": {
      "text/plain": [
       "'Shin ntui akwa'"
      ]
     },
     "execution_count": 15,
     "metadata": {},
     "output_type": "execute_result"
    }
   ],
   "source": [
    "prop = name.capitalize()\n",
    "prop"
   ]
  },
  {
   "cell_type": "code",
   "execution_count": 16,
   "id": "0b861c9b",
   "metadata": {},
   "outputs": [
    {
     "data": {
      "text/plain": [
       "'SHIN NTUI AKWA'"
      ]
     },
     "execution_count": 16,
     "metadata": {},
     "output_type": "execute_result"
    }
   ],
   "source": [
    "name.upper()"
   ]
  },
  {
   "cell_type": "code",
   "execution_count": 17,
   "id": "66160f67",
   "metadata": {},
   "outputs": [
    {
     "data": {
      "text/plain": [
       "'shin ntui akwa'"
      ]
     },
     "execution_count": 17,
     "metadata": {},
     "output_type": "execute_result"
    }
   ],
   "source": [
    "name"
   ]
  },
  {
   "cell_type": "code",
   "execution_count": 18,
   "id": "62179f8a",
   "metadata": {},
   "outputs": [
    {
     "data": {
      "text/plain": [
       "'shin ntui akwa'"
      ]
     },
     "execution_count": 18,
     "metadata": {},
     "output_type": "execute_result"
    }
   ],
   "source": [
    "name.lower()"
   ]
  },
  {
   "cell_type": "code",
   "execution_count": 19,
   "id": "cb6cc4c5",
   "metadata": {},
   "outputs": [
    {
     "data": {
      "text/plain": [
       "'SHIN NTUI AKWA'"
      ]
     },
     "execution_count": 19,
     "metadata": {},
     "output_type": "execute_result"
    }
   ],
   "source": [
    "name.swapcase()"
   ]
  },
  {
   "cell_type": "code",
   "execution_count": 20,
   "id": "8796bca6",
   "metadata": {},
   "outputs": [
    {
     "data": {
      "text/plain": [
       "'Shin Ntui Akwa'"
      ]
     },
     "execution_count": 20,
     "metadata": {},
     "output_type": "execute_result"
    }
   ],
   "source": [
    "name.title()"
   ]
  },
  {
   "cell_type": "code",
   "execution_count": 21,
   "id": "641baa6d",
   "metadata": {},
   "outputs": [
    {
     "data": {
      "text/plain": [
       "True"
      ]
     },
     "execution_count": 21,
     "metadata": {},
     "output_type": "execute_result"
    }
   ],
   "source": [
    "name.islower()"
   ]
  },
  {
   "cell_type": "code",
   "execution_count": 22,
   "id": "f9cec5c2",
   "metadata": {},
   "outputs": [
    {
     "data": {
      "text/plain": [
       "False"
      ]
     },
     "execution_count": 22,
     "metadata": {},
     "output_type": "execute_result"
    }
   ],
   "source": [
    "name.isupper()"
   ]
  },
  {
   "cell_type": "code",
   "execution_count": 23,
   "id": "db423d67",
   "metadata": {},
   "outputs": [
    {
     "data": {
      "text/plain": [
       "False"
      ]
     },
     "execution_count": 23,
     "metadata": {},
     "output_type": "execute_result"
    }
   ],
   "source": [
    "name.isalpha()"
   ]
  },
  {
   "cell_type": "code",
   "execution_count": 24,
   "id": "5016d13e",
   "metadata": {},
   "outputs": [
    {
     "data": {
      "text/plain": [
       "False"
      ]
     },
     "execution_count": 24,
     "metadata": {},
     "output_type": "execute_result"
    }
   ],
   "source": [
    "name.isdigit()"
   ]
  },
  {
   "cell_type": "code",
   "execution_count": 25,
   "id": "523564ea",
   "metadata": {},
   "outputs": [
    {
     "data": {
      "text/plain": [
       "False"
      ]
     },
     "execution_count": 25,
     "metadata": {},
     "output_type": "execute_result"
    }
   ],
   "source": [
    "name.isalnum()"
   ]
  },
  {
   "cell_type": "code",
   "execution_count": 26,
   "id": "86dad14c",
   "metadata": {},
   "outputs": [
    {
     "data": {
      "text/plain": [
       "False"
      ]
     },
     "execution_count": 26,
     "metadata": {},
     "output_type": "execute_result"
    }
   ],
   "source": [
    "name.isspace()"
   ]
  },
  {
   "cell_type": "code",
   "execution_count": 27,
   "id": "38e08bed",
   "metadata": {},
   "outputs": [
    {
     "data": {
      "text/plain": [
       "False"
      ]
     },
     "execution_count": 27,
     "metadata": {},
     "output_type": "execute_result"
    }
   ],
   "source": [
    "name.startswith('Shin')"
   ]
  },
  {
   "cell_type": "code",
   "execution_count": 28,
   "id": "5865dedf",
   "metadata": {},
   "outputs": [
    {
     "data": {
      "text/plain": [
       "False"
      ]
     },
     "execution_count": 28,
     "metadata": {},
     "output_type": "execute_result"
    }
   ],
   "source": [
    "name.endswith('Ntui')"
   ]
  },
  {
   "cell_type": "code",
   "execution_count": 31,
   "id": "8a68796f",
   "metadata": {},
   "outputs": [
    {
     "data": {
      "text/plain": [
       "0"
      ]
     },
     "execution_count": 31,
     "metadata": {},
     "output_type": "execute_result"
    }
   ],
   "source": [
    "name.index('shi')"
   ]
  },
  {
   "cell_type": "code",
   "execution_count": 32,
   "id": "51852be1",
   "metadata": {},
   "outputs": [
    {
     "data": {
      "text/plain": [
       "'akwa'"
      ]
     },
     "execution_count": 32,
     "metadata": {},
     "output_type": "execute_result"
    }
   ],
   "source": [
    "name[10:16]"
   ]
  },
  {
   "cell_type": "code",
   "execution_count": 34,
   "id": "63ac2f57",
   "metadata": {},
   "outputs": [
    {
     "data": {
      "text/plain": [
       "2"
      ]
     },
     "execution_count": 34,
     "metadata": {},
     "output_type": "execute_result"
    }
   ],
   "source": [
    "name.count('i')"
   ]
  },
  {
   "cell_type": "code",
   "execution_count": 35,
   "id": "b9327cf6",
   "metadata": {},
   "outputs": [],
   "source": [
    "list_name = name.split()"
   ]
  },
  {
   "cell_type": "code",
   "execution_count": 36,
   "id": "fe5e0b44",
   "metadata": {},
   "outputs": [
    {
     "data": {
      "text/plain": [
       "'s*h*i*n* *n*t*u*i* *a*k*w*a'"
      ]
     },
     "execution_count": 36,
     "metadata": {},
     "output_type": "execute_result"
    }
   ],
   "source": [
    "\"*\".join(name)"
   ]
  },
  {
   "cell_type": "code",
   "execution_count": 38,
   "id": "2770bf18",
   "metadata": {},
   "outputs": [
    {
     "name": "stdout",
     "output_type": "stream",
     "text": [
      "My name is shin ntui akwa and I am age 32\n"
     ]
    }
   ],
   "source": [
    "age = 32\n",
    "print('My name is',name,'and I am age', age)"
   ]
  },
  {
   "cell_type": "markdown",
   "id": "0be1e22b",
   "metadata": {},
   "source": [
    "##### f-string or String interpolation"
   ]
  },
  {
   "cell_type": "code",
   "execution_count": 41,
   "id": "917b0f1e",
   "metadata": {},
   "outputs": [
    {
     "name": "stdout",
     "output_type": "stream",
     "text": [
      "My and is shin ntui akwa and my age is 32\n"
     ]
    }
   ],
   "source": [
    "print(f\"My and is {name} and my age is {age}\")"
   ]
  },
  {
   "cell_type": "code",
   "execution_count": 39,
   "id": "63b25fce",
   "metadata": {},
   "outputs": [
    {
     "name": "stdout",
     "output_type": "stream",
     "text": [
      "My name is %s and I am aged %d shin ntui akwa 32\n"
     ]
    }
   ],
   "source": [
    "print('My name is %s and I am aged %d', name, age)"
   ]
  },
  {
   "cell_type": "code",
   "execution_count": 48,
   "id": "2b52ae74",
   "metadata": {},
   "outputs": [
    {
     "name": "stdout",
     "output_type": "stream",
     "text": [
      "my surname name is ntui and my tech name is shin but the great name is akwa\n"
     ]
    }
   ],
   "source": [
    "print(f\"my surname name is {list_name[1]} and my tech name is {list_name[0]} but the great name is {min(list_name)}\")"
   ]
  },
  {
   "cell_type": "markdown",
   "id": "29b8a435",
   "metadata": {},
   "source": [
    "# Dictionary"
   ]
  },
  {
   "cell_type": "code",
   "execution_count": 61,
   "id": "3c937502",
   "metadata": {},
   "outputs": [],
   "source": [
    "experts = {'sammy':['python','c','c++','rust',('computer vision','deep learning','neural networks')], 'elisha':['excel','python','power BI',('business intel','data analytics','dax function')], 'alfred':['python','c','machine learning',('python frame works')]}"
   ]
  },
  {
   "cell_type": "code",
   "execution_count": 62,
   "id": "534b10aa",
   "metadata": {},
   "outputs": [],
   "source": [
    "experts.get('power B')"
   ]
  },
  {
   "cell_type": "code",
   "execution_count": 77,
   "id": "62cd69f4",
   "metadata": {},
   "outputs": [
    {
     "name": "stdout",
     "output_type": "stream",
     "text": [
      "sammy, this expert knows ['python', 'c', 'c++', 'rust', ('computer vision', 'deep learning', 'neural networks')]\n",
      "elisha, this expert knows ['excel', 'python', 'power BI', ('business intel', 'data analytics', 'dax function')]\n",
      "alfred, this expert knows ['python', 'c', 'machine learning', 'python frame works']\n"
     ]
    }
   ],
   "source": [
    "for x,f in experts.items():\n",
    "    print(f\"{x}, this expert knows {f}\")"
   ]
  },
  {
   "cell_type": "code",
   "execution_count": 78,
   "id": "f7bab713",
   "metadata": {},
   "outputs": [],
   "source": [
    "monthend = {'jan':31, 'feb':28, 'mar':31, 'apr':30, 'may':31, 'jun':30, 'jul':31, 'aug':31, 'sep':30, 'oct':31, 'nov':30, 'dec':31}"
   ]
  },
  {
   "cell_type": "code",
   "execution_count": 81,
   "id": "344f0cb1",
   "metadata": {},
   "outputs": [
    {
     "data": {
      "text/plain": [
       "['apr',\n",
       " 'aug',\n",
       " 'dec',\n",
       " 'feb',\n",
       " 'jan',\n",
       " 'jul',\n",
       " 'jun',\n",
       " 'mar',\n",
       " 'may',\n",
       " 'nov',\n",
       " 'oct',\n",
       " 'sep']"
      ]
     },
     "execution_count": 81,
     "metadata": {},
     "output_type": "execute_result"
    }
   ],
   "source": [
    "len(monthend)\n",
    "max(monthend)\n",
    "sorted(monthend)"
   ]
  },
  {
   "cell_type": "code",
   "execution_count": 87,
   "id": "747e724e",
   "metadata": {},
   "outputs": [],
   "source": [
    "days_of_months = monthend.copy()"
   ]
  },
  {
   "cell_type": "code",
   "execution_count": 91,
   "id": "0cde2334",
   "metadata": {},
   "outputs": [],
   "source": [
    "days_of_months.update({'aries':[22, 21]})"
   ]
  },
  {
   "cell_type": "code",
   "execution_count": 95,
   "id": "a6067592",
   "metadata": {},
   "outputs": [],
   "source": [
    "monthend.setdefault('aries', \"feb\")"
   ]
  },
  {
   "cell_type": "code",
   "execution_count": 97,
   "id": "2c9980b3",
   "metadata": {},
   "outputs": [],
   "source": [
    "monthend.pop('f')"
   ]
  },
  {
   "cell_type": "code",
   "execution_count": 99,
   "id": "02c2c420",
   "metadata": {},
   "outputs": [
    {
     "data": {
      "text/plain": [
       "('aries', None)"
      ]
     },
     "execution_count": 99,
     "metadata": {},
     "output_type": "execute_result"
    }
   ],
   "source": [
    "monthend.popitem()"
   ]
  },
  {
   "cell_type": "code",
   "execution_count": 100,
   "id": "f9d9c5be",
   "metadata": {},
   "outputs": [
    {
     "data": {
      "text/plain": [
       "{'jan': 31,\n",
       " 'feb': 28,\n",
       " 'mar': 31,\n",
       " 'apr': 30,\n",
       " 'may': 31,\n",
       " 'jun': 30,\n",
       " 'jul': 31,\n",
       " 'aug': 31,\n",
       " 'sep': 30,\n",
       " 'oct': 31,\n",
       " 'nov': 30,\n",
       " 'dec': 31}"
      ]
     },
     "execution_count": 100,
     "metadata": {},
     "output_type": "execute_result"
    }
   ],
   "source": [
    "monthend"
   ]
  },
  {
   "cell_type": "code",
   "execution_count": 101,
   "id": "4b8eb3e1",
   "metadata": {},
   "outputs": [
    {
     "data": {
      "text/plain": [
       "'e no dey here'"
      ]
     },
     "execution_count": 101,
     "metadata": {},
     "output_type": "execute_result"
    }
   ],
   "source": [
    "monthend.pop('aries', 'e no dey here')"
   ]
  },
  {
   "cell_type": "code",
   "execution_count": 106,
   "id": "01064bfb",
   "metadata": {},
   "outputs": [
    {
     "data": {
      "text/plain": [
       "365"
      ]
     },
     "execution_count": 106,
     "metadata": {},
     "output_type": "execute_result"
    }
   ],
   "source": [
    "sum(monthend.values())"
   ]
  },
  {
   "cell_type": "code",
   "execution_count": 109,
   "id": "4da17e18",
   "metadata": {},
   "outputs": [],
   "source": [
    "collect= days_of_months.setdefault(\"aries\", 'does it exist')"
   ]
  },
  {
   "cell_type": "code",
   "execution_count": 110,
   "id": "4ffd47e7",
   "metadata": {},
   "outputs": [
    {
     "data": {
      "text/plain": [
       "{'jan': 31,\n",
       " 'feb': 28,\n",
       " 'mar': 31,\n",
       " 'apr': 30,\n",
       " 'may': 31,\n",
       " 'jun': 30,\n",
       " 'jul': 31,\n",
       " 'aug': 31,\n",
       " 'sep': 30,\n",
       " 'oct': 31,\n",
       " 'nov': 30,\n",
       " 'dec': 31,\n",
       " 'aries': [22, 21]}"
      ]
     },
     "execution_count": 110,
     "metadata": {},
     "output_type": "execute_result"
    }
   ],
   "source": [
    "days_of_months"
   ]
  },
  {
   "cell_type": "code",
   "execution_count": 111,
   "id": "a6d65db3",
   "metadata": {},
   "outputs": [
    {
     "data": {
      "text/plain": [
       "[22, 21]"
      ]
     },
     "execution_count": 111,
     "metadata": {},
     "output_type": "execute_result"
    }
   ],
   "source": [
    "collect"
   ]
  },
  {
   "cell_type": "code",
   "execution_count": null,
   "id": "cbfbfb87",
   "metadata": {},
   "outputs": [],
   "source": []
  }
 ],
 "metadata": {
  "kernelspec": {
   "display_name": "Python 3",
   "language": "python",
   "name": "python3"
  },
  "language_info": {
   "codemirror_mode": {
    "name": "ipython",
    "version": 3
   },
   "file_extension": ".py",
   "mimetype": "text/x-python",
   "name": "python",
   "nbconvert_exporter": "python",
   "pygments_lexer": "ipython3",
   "version": "3.8.8"
  }
 },
 "nbformat": 4,
 "nbformat_minor": 5
}
