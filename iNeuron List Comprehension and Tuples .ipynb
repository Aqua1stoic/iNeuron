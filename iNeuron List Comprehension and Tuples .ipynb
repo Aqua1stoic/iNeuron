{
 "cells": [
  {
   "cell_type": "markdown",
   "id": "5a1f21e1",
   "metadata": {},
   "source": [
    "# LIST COMPREHENSION"
   ]
  },
  {
   "cell_type": "code",
   "execution_count": 3,
   "id": "e4ac2738",
   "metadata": {},
   "outputs": [
    {
     "data": {
      "text/plain": [
       "['B', 'o', 'l', 'a', 'T', 'i', 'n', 'u', 'b', 'u']"
      ]
     },
     "execution_count": 3,
     "metadata": {},
     "output_type": "execute_result"
    }
   ],
   "source": [
    "town_hall='Bola Ahmed Tinubu'\n",
    "[x for x in town_hall]"
   ]
  },
  {
   "cell_type": "markdown",
   "id": "c7ba7389",
   "metadata": {},
   "source": [
    "##### write a progrom to produce square of numbeers from 1 to 5, store them in a list and print the list"
   ]
  },
  {
   "cell_type": "code",
   "execution_count": 11,
   "id": "d8975d3b",
   "metadata": {},
   "outputs": [
    {
     "name": "stdout",
     "output_type": "stream",
     "text": [
      "[1, 4, 9, 16, 25]\n"
     ]
    }
   ],
   "source": [
    "squared_list = []\n",
    "for i in range(1,6):\n",
    "    squared_list.append(i**2)\n",
    "print(squared_list)"
   ]
  },
  {
   "cell_type": "code",
   "execution_count": 13,
   "id": "193a8d7f",
   "metadata": {},
   "outputs": [
    {
     "name": "stdout",
     "output_type": "stream",
     "text": [
      "[1, 4, 9, 16, 25, 36, 49, 64, 81, 100]\n"
     ]
    }
   ],
   "source": [
    "square_numbs = [x*x for x in range(1,11)]\n",
    "print(square_numbs)"
   ]
  },
  {
   "cell_type": "markdown",
   "id": "c7b51bbb",
   "metadata": {},
   "source": [
    "Write a program to accept a string from user and covert each letter of the string into Upper case and store it in a list and print that list"
   ]
  },
  {
   "cell_type": "code",
   "execution_count": 3,
   "id": "259d71d0",
   "metadata": {},
   "outputs": [
    {
     "name": "stdout",
     "output_type": "stream",
     "text": [
      "Enter the string naofvv\n",
      "[' ', 'N', 'A', 'O', 'F', 'V', 'V']\n"
     ]
    }
   ],
   "source": [
    "capital =[]\n",
    "passd_str = input('Enter the string')\n",
    "for i in passd_str:\n",
    "    capital.append(i.upper())\n",
    "print(capital)"
   ]
  },
  {
   "cell_type": "code",
   "execution_count": 7,
   "id": "55d44115",
   "metadata": {},
   "outputs": [
    {
     "name": "stdout",
     "output_type": "stream",
     "text": [
      "enter stringsgjksdg\n"
     ]
    },
    {
     "data": {
      "text/plain": [
       "['S', 'G', 'J', 'K', 'S', 'D', 'G']"
      ]
     },
     "execution_count": 7,
     "metadata": {},
     "output_type": "execute_result"
    }
   ],
   "source": [
    "acceptd_str = input('enter string')\n",
    "[x.upper() for x in acceptd_str]"
   ]
  },
  {
   "cell_type": "code",
   "execution_count": 9,
   "id": "c6c208f1",
   "metadata": {},
   "outputs": [
    {
     "data": {
      "text/plain": [
       "['NTUI', 'AKWA', 'SAMUEL']"
      ]
     },
     "execution_count": 9,
     "metadata": {},
     "output_type": "execute_result"
    }
   ],
   "source": [
    "[g.upper() for g in 'ntui akwa samuel'.split()]"
   ]
  },
  {
   "cell_type": "markdown",
   "id": "9637ff8b",
   "metadata": {},
   "source": [
    "Write a program to accept 5 integers from a user and store them in a list, and now display the sum of the element and the element of list."
   ]
  },
  {
   "cell_type": "code",
   "execution_count": 30,
   "id": "9b826e61",
   "metadata": {},
   "outputs": [
    {
     "name": "stdout",
     "output_type": "stream",
     "text": [
      "enter 5 integers: 1 2 3 4 5 6 7\n",
      "[1, 2, 3, 4, 5, 6, 7]\n"
     ]
    },
    {
     "data": {
      "text/plain": [
       "28"
      ]
     },
     "execution_count": 30,
     "metadata": {},
     "output_type": "execute_result"
    }
   ],
   "source": [
    "accept= input('enter 5 integers: ').split()\n",
    "holding=[]\n",
    "for i in accept:\n",
    "    holding.append(int(i))\n",
    "print(holding)\n",
    "sum(holding)"
   ]
  },
  {
   "cell_type": "code",
   "execution_count": 29,
   "id": "1ad0b230",
   "metadata": {},
   "outputs": [
    {
     "name": "stdout",
     "output_type": "stream",
     "text": [
      "22\n",
      "32\n",
      "37\n",
      "41\n",
      "40\n"
     ]
    },
    {
     "data": {
      "text/plain": [
       "172"
      ]
     },
     "execution_count": 29,
     "metadata": {},
     "output_type": "execute_result"
    }
   ],
   "source": [
    "my_list=[]\n",
    "for i in range(5):\n",
    "    num=int(input())\n",
    "    my_list.append(num)\n",
    "sum(my_list)"
   ]
  },
  {
   "cell_type": "code",
   "execution_count": 27,
   "id": "bc625718",
   "metadata": {},
   "outputs": [
    {
     "data": {
      "text/plain": [
       "5"
      ]
     },
     "execution_count": 27,
     "metadata": {},
     "output_type": "execute_result"
    }
   ],
   "source": [
    "numbers"
   ]
  },
  {
   "cell_type": "code",
   "execution_count": null,
   "id": "9570391c",
   "metadata": {},
   "outputs": [],
   "source": []
  },
  {
   "cell_type": "markdown",
   "id": "420ece2b",
   "metadata": {},
   "source": [
    "WAP to produce square of odd numbers from 1-50, then store numbers in a list and print the list\n",
    "\n",
    "1) procedures in for Loops\n",
    "2) Procedures in List comprehension"
   ]
  },
  {
   "cell_type": "code",
   "execution_count": 23,
   "id": "ce22142f",
   "metadata": {},
   "outputs": [
    {
     "name": "stdout",
     "output_type": "stream",
     "text": [
      "[1, 9, 25, 49, 81, 121, 169, 225, 289, 361, 441, 529, 625, 729, 841, 961, 1089, 1225, 1369, 1521, 1681, 1849, 2025, 2209, 2401]\n"
     ]
    }
   ],
   "source": [
    "odd_squares = []\n",
    "for i in range(1,51):\n",
    "    if i%2!=0:\n",
    "        odd_squares.append(i**2)\n",
    "print(odd_squares)"
   ]
  },
  {
   "cell_type": "code",
   "execution_count": 21,
   "id": "3291176c",
   "metadata": {},
   "outputs": [
    {
     "data": {
      "text/plain": [
       "[1,\n",
       " 9,\n",
       " 25,\n",
       " 49,\n",
       " 81,\n",
       " 121,\n",
       " 169,\n",
       " 225,\n",
       " 289,\n",
       " 361,\n",
       " 441,\n",
       " 529,\n",
       " 625,\n",
       " 729,\n",
       " 841,\n",
       " 961,\n",
       " 1089,\n",
       " 1225,\n",
       " 1369,\n",
       " 1521,\n",
       " 1681,\n",
       " 1849,\n",
       " 2025,\n",
       " 2209,\n",
       " 2401]"
      ]
     },
     "execution_count": 21,
     "metadata": {},
     "output_type": "execute_result"
    }
   ],
   "source": [
    "[x**2 for x in range(1,51) if x%2!=0]"
   ]
  },
  {
   "cell_type": "markdown",
   "id": "f26311c1",
   "metadata": {},
   "source": [
    "create a function called removevowels() which accepts a string as an argument and returns a list with all the vowels removed from the string\n",
    "\n",
    "1) using for loop\n",
    "\n",
    "2) using List comprehension"
   ]
  },
  {
   "cell_type": "code",
   "execution_count": null,
   "id": "61fa4aa7",
   "metadata": {},
   "outputs": [],
   "source": []
  },
  {
   "cell_type": "markdown",
   "id": "1ffdf905",
   "metadata": {},
   "source": [
    "# TUPLES"
   ]
  },
  {
   "cell_type": "code",
   "execution_count": 31,
   "id": "e02c39c8",
   "metadata": {},
   "outputs": [],
   "source": [
    "my_tuple= ('yam', 4, 2+2j, 0, 434.234, True, range(1,11))"
   ]
  },
  {
   "cell_type": "code",
   "execution_count": 33,
   "id": "daad0a42",
   "metadata": {},
   "outputs": [
    {
     "data": {
      "text/plain": [
       "tuple"
      ]
     },
     "execution_count": 33,
     "metadata": {},
     "output_type": "execute_result"
    }
   ],
   "source": [
    "type(my_tuple)"
   ]
  },
  {
   "cell_type": "code",
   "execution_count": 34,
   "id": "75a7c4e8",
   "metadata": {},
   "outputs": [],
   "source": [
    "nums =44,23, 76, 86"
   ]
  },
  {
   "cell_type": "code",
   "execution_count": 35,
   "id": "4306c72a",
   "metadata": {},
   "outputs": [
    {
     "data": {
      "text/plain": [
       "(44, 23, 76, 86)"
      ]
     },
     "execution_count": 35,
     "metadata": {},
     "output_type": "execute_result"
    }
   ],
   "source": [
    "nums"
   ]
  },
  {
   "cell_type": "code",
   "execution_count": 36,
   "id": "74708ae8",
   "metadata": {},
   "outputs": [],
   "source": [
    "v,w,x,y = nums"
   ]
  },
  {
   "cell_type": "code",
   "execution_count": 46,
   "id": "724e97a8",
   "metadata": {},
   "outputs": [
    {
     "data": {
      "text/plain": [
       "[44, 23, 76, 86]"
      ]
     },
     "execution_count": 46,
     "metadata": {},
     "output_type": "execute_result"
    }
   ],
   "source": [
    "list(nums)"
   ]
  },
  {
   "cell_type": "code",
   "execution_count": 48,
   "id": "844e29b5",
   "metadata": {},
   "outputs": [
    {
     "data": {
      "text/plain": [
       "(1, 2, 3, 4, 5, 6, 7, 8, 9, 10)"
      ]
     },
     "execution_count": 48,
     "metadata": {},
     "output_type": "execute_result"
    }
   ],
   "source": [
    "tuple(my_tuple[6])"
   ]
  },
  {
   "cell_type": "code",
   "execution_count": 43,
   "id": "88a522a1",
   "metadata": {},
   "outputs": [
    {
     "name": "stdout",
     "output_type": "stream",
     "text": [
      "range(0, 11)\n"
     ]
    }
   ],
   "source": [
    "x=range(11)\n",
    "print(x)"
   ]
  },
  {
   "cell_type": "code",
   "execution_count": 1,
   "id": "49da09cb",
   "metadata": {},
   "outputs": [
    {
     "data": {
      "text/plain": [
       "{-9, -8, -7, -6, -5, -4, -3, -2, -1, 0, 1}"
      ]
     },
     "execution_count": 1,
     "metadata": {},
     "output_type": "execute_result"
    }
   ],
   "source": [
    "set(range(1,-10,-1))"
   ]
  },
  {
   "cell_type": "code",
   "execution_count": 5,
   "id": "94951b44",
   "metadata": {},
   "outputs": [
    {
     "data": {
      "text/plain": [
       "{11, 12, 13}"
      ]
     },
     "execution_count": 5,
     "metadata": {},
     "output_type": "execute_result"
    }
   ],
   "source": [
    "set(range(13,10,-1))"
   ]
  },
  {
   "cell_type": "code",
   "execution_count": null,
   "id": "0aa0bd6b",
   "metadata": {},
   "outputs": [],
   "source": []
  }
 ],
 "metadata": {
  "kernelspec": {
   "display_name": "Python 3",
   "language": "python",
   "name": "python3"
  },
  "language_info": {
   "codemirror_mode": {
    "name": "ipython",
    "version": 3
   },
   "file_extension": ".py",
   "mimetype": "text/x-python",
   "name": "python",
   "nbconvert_exporter": "python",
   "pygments_lexer": "ipython3",
   "version": "3.8.8"
  }
 },
 "nbformat": 4,
 "nbformat_minor": 5
}
