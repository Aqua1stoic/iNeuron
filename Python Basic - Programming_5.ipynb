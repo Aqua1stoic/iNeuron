{
 "cells": [
  {
   "cell_type": "markdown",
   "id": "bac4548d",
   "metadata": {},
   "source": [
    "##### 1. Write a Python Program to Find LCM?"
   ]
  },
  {
   "cell_type": "code",
   "execution_count": 2,
   "id": "6b04ddb7",
   "metadata": {},
   "outputs": [
    {
     "name": "stdout",
     "output_type": "stream",
     "text": [
      "Enter first number: 50\n",
      "Enter second number: 35\n",
      "LCM of 50 and 35 is 350\n"
     ]
    }
   ],
   "source": [
    "# take input from user for two numbers\n",
    "num1 = int(input(\"Enter first number: \"))\n",
    "num2 = int(input(\"Enter second number: \"))\n",
    "\n",
    "# find the maximum of the two numbers\n",
    "max_num = max(num1, num2)\n",
    "\n",
    "# loop through multiples of the maximum number until a common multiple is found\n",
    "while True:\n",
    "    if max_num % num1 == 0 and max_num % num2 == 0:\n",
    "        lcm = max_num\n",
    "        break\n",
    "    max_num += 1\n",
    "\n",
    "# print the LCM of the two numbers\n",
    "print(\"LCM of\", num1, \"and\", num2, \"is\", lcm)\n"
   ]
  },
  {
   "cell_type": "markdown",
   "id": "73003060",
   "metadata": {},
   "source": [
    "### OR\n",
    "using function"
   ]
  },
  {
   "cell_type": "code",
   "execution_count": 1,
   "id": "498eb639",
   "metadata": {},
   "outputs": [
    {
     "name": "stdout",
     "output_type": "stream",
     "text": [
      "Enter first number: 50\n",
      "Enter second number: 35\n",
      "LCM of 50 and 35 is 350\n"
     ]
    }
   ],
   "source": [
    "# function to find the GCD of two numbers\n",
    "def gcd(a, b):\n",
    "    if b == 0:\n",
    "        return a\n",
    "    return gcd(b, a % b)\n",
    "\n",
    "# function to find the LCM of two numbers\n",
    "def lcm(a, b):\n",
    "    return (a*b)//gcd(a, b)\n",
    "\n",
    "# main function to take input from user and call lcm function\n",
    "def main():\n",
    "    num1 = int(input(\"Enter first number: \"))\n",
    "    num2 = int(input(\"Enter second number: \"))\n",
    "    print(\"LCM of\", num1, \"and\", num2, \"is\", lcm(num1, num2))\n",
    "\n",
    "# calling the main function\n",
    "if __name__ == '__main__':\n",
    "    main()\n"
   ]
  },
  {
   "cell_type": "markdown",
   "id": "da88307c",
   "metadata": {},
   "source": [
    "The program first takes input from the user for two numbers. It then finds the maximum of the two numbers and initializes a loop to check for common multiples.\n",
    "\n",
    "Inside the loop, the program checks if the maximum number is divisible by both the input numbers. If it is, then the LCM is set to the maximum number and the loop is broken. If not, the program increments the maximum number and continues to the next iteration of the loop.\n",
    "\n",
    "Finally, the program prints the LCM of the two numbers."
   ]
  },
  {
   "cell_type": "markdown",
   "id": "b079198d",
   "metadata": {},
   "source": [
    "##### 2. Write a Python Program to Find HCF?"
   ]
  },
  {
   "cell_type": "code",
   "execution_count": 10,
   "id": "1a8e36f1",
   "metadata": {},
   "outputs": [
    {
     "name": "stdout",
     "output_type": "stream",
     "text": [
      "Enter first number: 323\n",
      "Enter second number: 344\n",
      "The HCF of 323 and 344 is 1\n"
     ]
    }
   ],
   "source": [
    "# get input from user\n",
    "num1 = int(input(\"Enter first number: \"))\n",
    "num2 = int(input(\"Enter second number: \"))\n",
    "\n",
    "# find the smaller number\n",
    "if num1 > num2:\n",
    "    smaller = num2\n",
    "else:\n",
    "    smaller = num1\n",
    "\n",
    "# loop through the possible factors of the smaller number\n",
    "for i in range(1, smaller+1):\n",
    "    if (num1 % i == 0) and (num2 % i == 0):\n",
    "        hcf = i\n",
    "\n",
    "# print the HCF\n",
    "print(\"The HCF of\", num1, \"and\", num2, \"is\", hcf)\n"
   ]
  },
  {
   "cell_type": "markdown",
   "id": "00864968",
   "metadata": {},
   "source": [
    "### OR \n",
    "using function"
   ]
  },
  {
   "cell_type": "code",
   "execution_count": 5,
   "id": "205ee569",
   "metadata": {},
   "outputs": [
    {
     "name": "stdout",
     "output_type": "stream",
     "text": [
      "Enter first number: 45\n",
      "Enter second number: 76\n",
      "The HCF of 45 and 76 is 1\n"
     ]
    }
   ],
   "source": [
    "# define a function to find HCF\n",
    "def find_hcf(num1, num2):              #function find_hcf that takes two parameters num1 and num2.\n",
    "    while num2:                        #use a while loop that continues until num2 becomes zero.\n",
    "        num1, num2 = num2, num1 % num2 #In each iteration, we swap the values of num1 and num2, and set num2 to the remainder of num1 divided by num2.\n",
    "    return num1  #At the end of the loop, num1 will hold the HCF of the two input numbers, which we return from the function\n",
    "\n",
    "# take input from user\n",
    "num1 = int(input(\"Enter first number: \"))\n",
    "num2 = int(input(\"Enter second number: \"))\n",
    "\n",
    "# call the function and print the result\n",
    "hcf = find_hcf(num1, num2)\n",
    "print(\"The HCF of\", num1, \"and\", num2, \"is\", hcf)\n"
   ]
  },
  {
   "cell_type": "markdown",
   "id": "617e746a",
   "metadata": {},
   "source": [
    "##### 3. Write a Python Program to Convert Decimal to Binary, Octal and Hexadecimal?"
   ]
  },
  {
   "cell_type": "code",
   "execution_count": 6,
   "id": "f033cc0a",
   "metadata": {},
   "outputs": [
    {
     "name": "stdout",
     "output_type": "stream",
     "text": [
      "Enter a decimal number: 865\n",
      "Binary equivalent: 0b1101100001\n",
      "Octal equivalent: 0o1541\n",
      "Hexadecimal equivalent: 0x361\n"
     ]
    }
   ],
   "source": [
    "decimal_num = int(input(\"Enter a decimal number: \"))\n",
    "\n",
    "# Convert to binary\n",
    "binary_num = bin(decimal_num)\n",
    "print(\"Binary equivalent:\", binary_num)\n",
    "\n",
    "# Convert to octal\n",
    "octal_num = oct(decimal_num)\n",
    "print(\"Octal equivalent:\", octal_num)\n",
    "\n",
    "# Convert to hexadecimal\n",
    "hex_num = hex(decimal_num)\n",
    "print(\"Hexadecimal equivalent:\", hex_num)\n"
   ]
  },
  {
   "cell_type": "markdown",
   "id": "1bff145d",
   "metadata": {},
   "source": [
    "##### 4. Write a Python Program To Find ASCII value of a character?"
   ]
  },
  {
   "cell_type": "code",
   "execution_count": 8,
   "id": "bc55b201",
   "metadata": {},
   "outputs": [
    {
     "name": "stdout",
     "output_type": "stream",
     "text": [
      "Enter a character: h\n",
      "The ASCII value of h is 104\n"
     ]
    }
   ],
   "source": [
    "char = input(\"Enter a character: \")\n",
    "\n",
    "# Convert character to ASCII value\n",
    "ascii_val = ord(char)\n",
    "\n",
    "print(\"The ASCII value of\", char, \"is\", ascii_val)\n"
   ]
  },
  {
   "cell_type": "markdown",
   "id": "3f7040e3",
   "metadata": {},
   "source": [
    "##### 5. Write a Python Program to Make a Simple Calculator with 4 basic mathematical operations?"
   ]
  },
  {
   "cell_type": "code",
   "execution_count": null,
   "id": "26ba3704",
   "metadata": {},
   "outputs": [],
   "source": []
  },
  {
   "cell_type": "code",
   "execution_count": null,
   "id": "b4fc838e",
   "metadata": {},
   "outputs": [],
   "source": []
  },
  {
   "cell_type": "code",
   "execution_count": 9,
   "id": "474bccce",
   "metadata": {},
   "outputs": [
    {
     "name": "stdout",
     "output_type": "stream",
     "text": [
      "Enter first number: 244\n",
      "Enter operator (+,-,*,/): *\n",
      "Enter second number: 3\n",
      "Result is: 732.0\n"
     ]
    }
   ],
   "source": [
    "# define a function to perform basic operations\n",
    "def calculator(num1, operator, num2):\n",
    "    if operator == '+':\n",
    "        return num1 + num2\n",
    "    elif operator == '-':\n",
    "        return num1 - num2\n",
    "    elif operator == '*':\n",
    "        return num1 * num2\n",
    "    elif operator == '/':\n",
    "        if num2 == 0:\n",
    "            return \"Division by zero is not possible\"\n",
    "        else:\n",
    "            return num1 / num2\n",
    "    else:\n",
    "        return \"Invalid operator\"\n",
    "\n",
    "# get input from user\n",
    "num1 = float(input(\"Enter first number: \"))\n",
    "operator = input(\"Enter operator (+,-,*,/): \")\n",
    "num2 = float(input(\"Enter second number: \"))\n",
    "\n",
    "# call the calculator function and print the result\n",
    "result = calculator(num1, operator, num2)\n",
    "print(\"Result is:\", result)\n"
   ]
  },
  {
   "cell_type": "code",
   "execution_count": null,
   "id": "04b75273",
   "metadata": {},
   "outputs": [],
   "source": []
  }
 ],
 "metadata": {
  "kernelspec": {
   "display_name": "Python 3",
   "language": "python",
   "name": "python3"
  },
  "language_info": {
   "codemirror_mode": {
    "name": "ipython",
    "version": 3
   },
   "file_extension": ".py",
   "mimetype": "text/x-python",
   "name": "python",
   "nbconvert_exporter": "python",
   "pygments_lexer": "ipython3",
   "version": "3.8.8"
  }
 },
 "nbformat": 4,
 "nbformat_minor": 5
}
