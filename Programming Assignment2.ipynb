{
 "cells": [
  {
   "cell_type": "markdown",
   "id": "22775ebf",
   "metadata": {},
   "source": [
    "##### 1. Write a Python program to convert kilometers to miles?"
   ]
  },
  {
   "cell_type": "code",
   "execution_count": 5,
   "id": "3a63bf3b",
   "metadata": {},
   "outputs": [
    {
     "name": "stdout",
     "output_type": "stream",
     "text": [
      "10 kilometers = 6.21 miles\n"
     ]
    }
   ],
   "source": [
    "# Function to convert kilometers to miles\n",
    "def km_to_miles(km):\n",
    "    miles = km / 1.609344\n",
    "    return miles\n",
    "\n",
    "# Test the function\n",
    "km = 10\n",
    "miles = km_to_miles(km)\n",
    "print(f\"{km} kilometers = {miles:.2f} miles\")\n"
   ]
  },
  {
   "cell_type": "code",
   "execution_count": 6,
   "id": "5b441dc7",
   "metadata": {},
   "outputs": [
    {
     "name": "stdout",
     "output_type": "stream",
     "text": [
      "Enter Kilometer to be converted to miles10\n",
      "10.0 kilometers = 6.21 miles\n"
     ]
    }
   ],
   "source": [
    "km = float(input(\"Enter Kilometer to be converted to miles\"))\n",
    "miles = km / 1.609344\n",
    "print(f\"{km} kilometers = {miles:.2f} miles\")"
   ]
  },
  {
   "cell_type": "markdown",
   "id": "49260ed1",
   "metadata": {},
   "source": [
    "##### 2. Write a Python program to convert Celsius to Fahrenheit?"
   ]
  },
  {
   "cell_type": "code",
   "execution_count": 7,
   "id": "628d73b3",
   "metadata": {},
   "outputs": [
    {
     "name": "stdout",
     "output_type": "stream",
     "text": [
      "Enter temperature in Celsius: 56\n",
      "56.0°C is equal to 132.8°F.\n"
     ]
    }
   ],
   "source": [
    "celsius = float(input(\"Enter temperature in Celsius: \"))\n",
    "\n",
    "# Convert Celsius to Fahrenheit using the formula (°C × 9/5) + 32\n",
    "fahrenheit = (celsius * 9/5) + 32\n",
    "\n",
    "print(f\"{celsius}°C is equal to {fahrenheit}°F.\")\n"
   ]
  },
  {
   "cell_type": "markdown",
   "id": "9a6c5414",
   "metadata": {},
   "source": [
    "###### 3. Write a Python program to display calendar?"
   ]
  },
  {
   "cell_type": "code",
   "execution_count": 8,
   "id": "350dd056",
   "metadata": {},
   "outputs": [
    {
     "name": "stdout",
     "output_type": "stream",
     "text": [
      "Enter year: 2023\n",
      "Enter month (1-12): 4\n",
      "     April 2023\n",
      "Mo Tu We Th Fr Sa Su\n",
      "                1  2\n",
      " 3  4  5  6  7  8  9\n",
      "10 11 12 13 14 15 16\n",
      "17 18 19 20 21 22 23\n",
      "24 25 26 27 28 29 30\n",
      "\n"
     ]
    }
   ],
   "source": [
    "import calendar\n",
    "\n",
    "year = int(input(\"Enter year: \"))\n",
    "month = int(input(\"Enter month (1-12): \"))\n",
    "\n",
    "# display the calendar for the given year and month\n",
    "print(calendar.month(year, month))\n"
   ]
  },
  {
   "cell_type": "markdown",
   "id": "522f6ef0",
   "metadata": {},
   "source": [
    "##### 4. Write a Python program to solve quadratic equation?"
   ]
  },
  {
   "cell_type": "code",
   "execution_count": 9,
   "id": "a6406fdf",
   "metadata": {},
   "outputs": [
    {
     "name": "stdout",
     "output_type": "stream",
     "text": [
      "Enter the coefficient of x^2: 3\n",
      "Enter the coefficient of x: 6\n",
      "Enter the constant term: 18\n",
      "The roots are complex.\n",
      "Root 1 =  -1.0 + 2.23606797749979 i\n",
      "Root 2 =  -1.0 - 2.23606797749979 i\n"
     ]
    }
   ],
   "source": [
    "import math\n",
    "\n",
    "a = float(input(\"Enter the coefficient of x^2: \"))\n",
    "b = float(input(\"Enter the coefficient of x: \"))\n",
    "c = float(input(\"Enter the constant term: \"))\n",
    "\n",
    "# Calculate the discriminant\n",
    "discriminant = b**2 - 4*a*c\n",
    "#calculate the discriminant b^2 - 4ac to determine if the roots are real or complex, and computes the roots accordingly.\n",
    "# Check if the roots are real or complex\n",
    "if discriminant > 0:\n",
    "    root1 = (-b + math.sqrt(discriminant)) / (2*a)\n",
    "    root2 = (-b - math.sqrt(discriminant)) / (2*a)\n",
    "    print(\"The roots are real and distinct.\")\n",
    "    print(\"Root 1 = \", root1)\n",
    "    print(\"Root 2 = \", root2)\n",
    "elif discriminant == 0:\n",
    "    root = -b / (2*a)\n",
    "    print(\"The roots are real and equal.\")\n",
    "    print(\"Root 1 = Root 2 = \", root)\n",
    "else:\n",
    "    realPart = -b / (2*a)\n",
    "    imaginaryPart = math.sqrt(-discriminant) / (2*a)\n",
    "    print(\"The roots are complex.\")\n",
    "    print(\"Root 1 = \", realPart, \"+\", imaginaryPart, \"i\")\n",
    "    print(\"Root 2 = \", realPart, \"-\", imaginaryPart, \"i\")\n"
   ]
  },
  {
   "cell_type": "markdown",
   "id": "6cbb4ad8",
   "metadata": {},
   "source": [
    "##### 5. Write a Python program to swap two variables without temp variable?"
   ]
  },
  {
   "cell_type": "code",
   "execution_count": 10,
   "id": "2b24cc30",
   "metadata": {},
   "outputs": [
    {
     "name": "stdout",
     "output_type": "stream",
     "text": [
      "Enter the value of x: 10\n",
      "Enter the value of y: 5\n",
      "Before swapping - x: 10 , y: 5\n",
      "After swapping - x: 5 , y: 10\n"
     ]
    }
   ],
   "source": [
    "# Taking input values from user\n",
    "x = input('Enter the value of x: ')\n",
    "y = input('Enter the value of y: ')\n",
    "\n",
    "# Printing the values of x and y before swapping\n",
    "print('Before swapping - x:', x, ', y:', y)\n",
    "\n",
    "# Swapping the values of x and y without using a temporary variable\n",
    "x, y = y, x\n",
    "\n",
    "# Printing the values of x and y after swapping\n",
    "print('After swapping - x:', x, ', y:', y)\n"
   ]
  },
  {
   "cell_type": "code",
   "execution_count": null,
   "id": "22e30d2b",
   "metadata": {},
   "outputs": [],
   "source": []
  }
 ],
 "metadata": {
  "kernelspec": {
   "display_name": "Python 3",
   "language": "python",
   "name": "python3"
  },
  "language_info": {
   "codemirror_mode": {
    "name": "ipython",
    "version": 3
   },
   "file_extension": ".py",
   "mimetype": "text/x-python",
   "name": "python",
   "nbconvert_exporter": "python",
   "pygments_lexer": "ipython3",
   "version": "3.8.8"
  }
 },
 "nbformat": 4,
 "nbformat_minor": 5
}
