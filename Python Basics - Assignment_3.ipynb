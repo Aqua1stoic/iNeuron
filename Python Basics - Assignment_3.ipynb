{
 "cells": [
  {
   "cell_type": "markdown",
   "id": "43f84d59",
   "metadata": {},
   "source": [
    "##### 1. Why are functions advantageous to have in your programs?"
   ]
  },
  {
   "cell_type": "markdown",
   "id": "4725b277",
   "metadata": {},
   "source": [
    "Overall, functions help to improve the readability, maintainability, and efficiency of a program, making them an essential tool for any programmer. However to elaborate, here are a few reasons why functions are advantageous.\n",
    "\n",
    ">Reusability: Functions can be reused multiple times in a program, making the code more efficient and reducing the amount of code duplication.\n",
    "\n",
    ">Modularity: Functions allow a program to be broken down into smaller, more manageable parts, which makes it easier to understand, debug, and maintain.\n",
    "\n",
    ">Abstraction: Functions hide complex operations behind a simple interface, allowing the user to focus on the overall functionality of the program rather than the details of individual operations.\n",
    "\n",
    ">Encapsulation: Functions can encapsulate data and operations, allowing them to be used in a program without exposing the underlying implementation details.\n",
    "\n",
    ">Code organization: Functions provide a clear structure to a program and help to organize code into logical units, making it easier to navigate and maintain."
   ]
  },
  {
   "cell_type": "markdown",
   "id": "a4092d59",
   "metadata": {},
   "source": [
    "##### 2. When does the code in a function run: when it&#39;s specified or when it&#39;s called?"
   ]
  },
  {
   "cell_type": "markdown",
   "id": "8e431243",
   "metadata": {},
   "source": [
    "The code in a function runs when it is called, not when it is specified. When you define a function, you are essentially creating a template for a specific set of actions or instructions. This template is stored in memory, but it doesn't actually execute any code until the function is called.\n",
    "\n",
    "When the function is called, the program will jump to the location in memory where the function is defined, and execute the code inside the function's block. The function can be called multiple times from different parts of the program, each time executing the same code defined inside the function."
   ]
  },
  {
   "cell_type": "markdown",
   "id": "48c4bfcb",
   "metadata": {},
   "source": [
    "##### 3. What statement creates a function?"
   ]
  },
  {
   "cell_type": "markdown",
   "id": "cea7663f",
   "metadata": {},
   "source": [
    "In Python, the def statement is used to create a function. The syntax for creating a function is as follows:"
   ]
  },
  {
   "cell_type": "code",
   "execution_count": 3,
   "id": "026ef83e",
   "metadata": {},
   "outputs": [],
   "source": [
    "                                 # def is the keyword that tells Python that you are defining a function.\n",
    "def function_name(arguments):    #function_name is the name you choose for your function. It should be descriptive and follow the same naming conventions as variables\n",
    "                                 #arguments is a comma-separated list of parameters that the function expects to receive when it is called. If the function doesn't take any arguments, this section can be left empty\n",
    "    pass \n",
    "    return [expression]         #return is an optional statement that specifies the value that the function should return when it is called. If the function doesn't return anything, this statement can be omitted.\n",
    "                                # code block to be executed when the function is called\n",
    "                                #Once you have defined a function using the def statement, you can call it from anywhere in your code by using its name followed by parentheses, like this:"
   ]
  },
  {
   "cell_type": "markdown",
   "id": "6c1c984c",
   "metadata": {},
   "source": [
    "##### 4. What is the difference between a function and a function call?"
   ]
  },
  {
   "cell_type": "markdown",
   "id": "fdc16ac4",
   "metadata": {},
   "source": [
    ">A function is a block of reusable code that performs a specific task when called. It is defined using the def keyword in Python, and can accept inputs (arguments) and return output (return value).\n",
    "\n",
    ">A function call, on the other hand, is when you actually invoke or execute the function with specific arguments (if any) and receive the return value (if any). A function call consists of the function name followed by parentheses containing any arguments, like this:"
   ]
  },
  {
   "cell_type": "code",
   "execution_count": 5,
   "id": "40ecb0ae",
   "metadata": {},
   "outputs": [
    {
     "name": "stdout",
     "output_type": "stream",
     "text": [
      "8\n"
     ]
    }
   ],
   "source": [
    "# define a function that adds two numbers\n",
    "def add_numbers(a, b):\n",
    "    return a + b\n",
    "\n",
    "# call the function with arguments 3 and 5\n",
    "result = add_numbers(3, 5)\n",
    "print(result)"
   ]
  },
  {
   "cell_type": "markdown",
   "id": "f4b887b7",
   "metadata": {},
   "source": [
    "##### 5. How many global scopes are there in a Python program? How many local scopes?"
   ]
  },
  {
   "cell_type": "markdown",
   "id": "6cd55610",
   "metadata": {},
   "source": [
    ">In a Python program, there is one global scope and multiple local scopes.The global scope is the highest level of scope in a Python program and is accessible throughout the entire program. It is created when a program starts running and contains all the global variables and functions defined in the program. \n",
    "\n",
    ">A local scope, on the other hand, is created whenever a function is called, and it exists only within that function. Any variables or functions defined within a local scope can only be accessed within that function, and they are destroyed when the function returns. Each time a function is called, a new local scope is created for that function.\n",
    "\n",
    "It's important to note that while there is only one global scope, there can be multiple local scopes created during the execution of a program, depending on how many functions are called and how deeply they are nested. Additionally, nested functions can access variables in their parent scopes, but not the other way around.\n",
    "\n"
   ]
  },
  {
   "cell_type": "code",
   "execution_count": 6,
   "id": "6c57c459",
   "metadata": {
    "scrolled": true
   },
   "outputs": [
    {
     "name": "stdout",
     "output_type": "stream",
     "text": [
      "Local variable: 5\n",
      "Global variable: 10\n"
     ]
    }
   ],
   "source": [
    "# global scope\n",
    "global_var = 10\n",
    "\n",
    "def my_function():\n",
    "    # local scope\n",
    "    local_var = 5\n",
    "    print(\"Local variable:\", local_var)\n",
    "    print(\"Global variable:\", global_var)\n",
    "\n",
    "my_function()\n",
    "# Output:\n",
    "# Local variable: 5\n",
    "# Global variable: 10\n"
   ]
  },
  {
   "cell_type": "markdown",
   "id": "9fa69293",
   "metadata": {},
   "source": [
    "In this example, global_var is a global variable defined in the global scope, while local_var is a local variable defined within the my_function() function. When the function is called, local_var is created within the local scope and is destroyed when the function returns. global_var is accessible within the function because it is defined in the global scope."
   ]
  },
  {
   "cell_type": "markdown",
   "id": "2c23cdd6",
   "metadata": {},
   "source": [
    "##### 6. What happens to variables in a local scope when the function call returns?"
   ]
  },
  {
   "cell_type": "markdown",
   "id": "eeeec9ed",
   "metadata": {},
   "source": [
    "When a function call returns, the local scope of the function is destroyed, and any variables defined within that local scope are also destroyed. This means that the values of those variables are no longer accessible or meaningful outside of the function."
   ]
  },
  {
   "cell_type": "code",
   "execution_count": 7,
   "id": "f1a09074",
   "metadata": {
    "scrolled": false
   },
   "outputs": [
    {
     "name": "stdout",
     "output_type": "stream",
     "text": [
      "10\n"
     ]
    },
    {
     "ename": "NameError",
     "evalue": "name 'x' is not defined",
     "output_type": "error",
     "traceback": [
      "\u001b[1;31m---------------------------------------------------------------------------\u001b[0m",
      "\u001b[1;31mNameError\u001b[0m                                 Traceback (most recent call last)",
      "\u001b[1;32m<ipython-input-7-afbcc84bdbfa>\u001b[0m in \u001b[0;36m<module>\u001b[1;34m\u001b[0m\n\u001b[0;32m      4\u001b[0m \u001b[1;33m\u001b[0m\u001b[0m\n\u001b[0;32m      5\u001b[0m \u001b[0mmy_function\u001b[0m\u001b[1;33m(\u001b[0m\u001b[1;33m)\u001b[0m\u001b[1;33m\u001b[0m\u001b[1;33m\u001b[0m\u001b[0m\n\u001b[1;32m----> 6\u001b[1;33m \u001b[0mprint\u001b[0m\u001b[1;33m(\u001b[0m\u001b[0mx\u001b[0m\u001b[1;33m)\u001b[0m\u001b[1;33m\u001b[0m\u001b[1;33m\u001b[0m\u001b[0m\n\u001b[0m",
      "\u001b[1;31mNameError\u001b[0m: name 'x' is not defined"
     ]
    }
   ],
   "source": [
    "def my_function():\n",
    "    x = 10\n",
    "    print(x)\n",
    "\n",
    "my_function()\n",
    "print(x)\n"
   ]
  },
  {
   "cell_type": "markdown",
   "id": "e9239617",
   "metadata": {},
   "source": [
    "When this code is executed, the function my_function is called, which defines a variable x with a value of 10. The print statement within the function then outputs the value of x to the console. However, once the function call returns, the local scope of the function is destroyed, and the variable x is no longer accessible.\n",
    "\n",
    "Therefore, the second print statement outside of the function will result in a NameError, since x is not defined in the global scope."
   ]
  },
  {
   "cell_type": "markdown",
   "id": "645e7678",
   "metadata": {},
   "source": [
    "##### 7. What is the concept of a return value? Is it possible to have a return value in an expression?"
   ]
  },
  {
   "cell_type": "markdown",
   "id": "cb074d04",
   "metadata": {},
   "source": [
    "A return value is the value that a function returns to the caller upon its completion. It can be any object, such as an integer, string, list, tuple, dictionary, or even another function.\n",
    "\n",
    "When a function is called, it may or may not accept input arguments, and it can also optionally return a value to the caller. The caller can then use the returned value in its own computations or operations.\n",
    "\n",
    "Yes, it is possible to have a return value in an expression in Python. An expression is any valid combination of operators, values, variables, and function calls that can be evaluated to a single value. If a function returns a value, that value can be used as part of an expression."
   ]
  },
  {
   "cell_type": "code",
   "execution_count": 10,
   "id": "e618851f",
   "metadata": {},
   "outputs": [
    {
     "name": "stdout",
     "output_type": "stream",
     "text": [
      "14\n"
     ]
    }
   ],
   "source": [
    "def add_numbers(a, b):        #the add_numbers() function takes two arguments a and b,\n",
    "    return a + b              #adds them together, and returns the result\n",
    "#The sum variable is then assigned the value of the expression add_numbers(2, 3) + add_numbers(4, 5),\n",
    "summtn = add_numbers(2, 3) + add_numbers(4, 5)                  #which evaluates to 5 + 9 = 14.\n",
    "print(summtn)                #Finally, the sum value is printed to the console."
   ]
  },
  {
   "cell_type": "markdown",
   "id": "ed57d759",
   "metadata": {},
   "source": [
    "##### 8. If a function does not have a return statement, what is the return value of a call to that function?"
   ]
  },
  {
   "cell_type": "markdown",
   "id": "b93710e5",
   "metadata": {},
   "source": [
    ">If a function in Python does not contain a return statement, the function implicitly returns None when it reaches the end of its code block.\n",
    "\n",
    "For Example"
   ]
  },
  {
   "cell_type": "code",
   "execution_count": 11,
   "id": "d48ddff9",
   "metadata": {},
   "outputs": [],
   "source": [
    "def print_hello():\n",
    "    print(\"Hello, World!\")\n",
    "#when we call the function on the next line we see what happens"
   ]
  },
  {
   "cell_type": "code",
   "execution_count": 12,
   "id": "0406c993",
   "metadata": {},
   "outputs": [
    {
     "name": "stdout",
     "output_type": "stream",
     "text": [
      "Hello, World!\n",
      "None\n"
     ]
    }
   ],
   "source": [
    "result = print_hello()\n",
    "print(result)"
   ]
  },
  {
   "cell_type": "markdown",
   "id": "553cb147",
   "metadata": {},
   "source": [
    "##### 9. How do you make a function variable refer to the global variable?"
   ]
  },
  {
   "cell_type": "markdown",
   "id": "6042639b",
   "metadata": {},
   "source": [
    ">We can use the 'global' keyword to indicate that a variable within a function refers to a global variable with the same name.\n",
    "\n",
    "In the example below, we first define a global variable x with a value of 10. We then define a function my_function() which changes the value of x to 5. However, by default, the x variable within the function refers to a local variable that is separate from the global variable. To indicate that we want to modify the global variable x instead, we use the global keyword to specify that the x variable within the function should refer to the global variable with the same name."
   ]
  },
  {
   "cell_type": "code",
   "execution_count": 1,
   "id": "c428f8c1",
   "metadata": {},
   "outputs": [
    {
     "name": "stdout",
     "output_type": "stream",
     "text": [
      "10\n",
      "5\n"
     ]
    }
   ],
   "source": [
    "x = 10  # global variable\n",
    "\n",
    "def my_function():\n",
    "    global x  # indicate that x refers to the global variable with the same name\n",
    "    x = 5    # change the value of the global variable\n",
    "\n",
    "print(x)  # output: 10\n",
    "my_function()\n",
    "print(x)  # output: 5\n"
   ]
  },
  {
   "cell_type": "markdown",
   "id": "b089b94a",
   "metadata": {},
   "source": [
    "##### 10. What is the data type of None?"
   ]
  },
  {
   "cell_type": "markdown",
   "id": "5cb4e20c",
   "metadata": {},
   "source": [
    ">In Python, None is a special constant object that represents the absence of a value or the null value. It is often used as a placeholder or a default value for function arguments or variable initialization.\n",
    "\n",
    ">None is considered a data type of its own, called the NoneType or type(None). It is a singleton object, which means that there is only one instance of the None object in a given Python interpreter session."
   ]
  },
  {
   "cell_type": "code",
   "execution_count": 2,
   "id": "43b9bb97",
   "metadata": {},
   "outputs": [
    {
     "data": {
      "text/plain": [
       "NoneType"
      ]
     },
     "execution_count": 2,
     "metadata": {},
     "output_type": "execute_result"
    }
   ],
   "source": [
    "type(None)"
   ]
  },
  {
   "cell_type": "markdown",
   "id": "3716c218",
   "metadata": {},
   "source": [
    "##### 11. What does the sentence import areallyourpetsnamederic do?"
   ]
  },
  {
   "cell_type": "markdown",
   "id": "2d38aeb6",
   "metadata": {},
   "source": [
    "In Python when you use the \"import\" statement, you are essentially loading a module into your program so that you can use its functions, classes, and variables. The module name should follow the rules of Python's naming conventions and should correspond to an existing module or package.\n",
    "\n",
    ">The sentence import areallyourpetsnamederic is not a valid Python module import statement because areallyourpetsnamederic is not a valid Python module name."
   ]
  },
  {
   "cell_type": "code",
   "execution_count": 3,
   "id": "b0674cc9",
   "metadata": {},
   "outputs": [
    {
     "ename": "ModuleNotFoundError",
     "evalue": "No module named 'areallyourpetsnamederic'",
     "output_type": "error",
     "traceback": [
      "\u001b[1;31m---------------------------------------------------------------------------\u001b[0m",
      "\u001b[1;31mModuleNotFoundError\u001b[0m                       Traceback (most recent call last)",
      "\u001b[1;32m<ipython-input-3-b1ea9cb2228f>\u001b[0m in \u001b[0;36m<module>\u001b[1;34m\u001b[0m\n\u001b[1;32m----> 1\u001b[1;33m \u001b[1;32mimport\u001b[0m \u001b[0mareallyourpetsnamederic\u001b[0m\u001b[1;33m\u001b[0m\u001b[1;33m\u001b[0m\u001b[0m\n\u001b[0m",
      "\u001b[1;31mModuleNotFoundError\u001b[0m: No module named 'areallyourpetsnamederic'"
     ]
    }
   ],
   "source": [
    "import areallyourpetsnamederic"
   ]
  },
  {
   "cell_type": "markdown",
   "id": "c1917cb5",
   "metadata": {},
   "source": [
    "##### 12. If you had a bacon() feature in a spam module, what would you call it after importing spam?"
   ]
  },
  {
   "cell_type": "code",
   "execution_count": 5,
   "id": "84ca30d3",
   "metadata": {},
   "outputs": [
    {
     "ename": "ModuleNotFoundError",
     "evalue": "No module named 'spam'",
     "output_type": "error",
     "traceback": [
      "\u001b[1;31m---------------------------------------------------------------------------\u001b[0m",
      "\u001b[1;31mModuleNotFoundError\u001b[0m                       Traceback (most recent call last)",
      "\u001b[1;32m<ipython-input-5-eecba911b632>\u001b[0m in \u001b[0;36m<module>\u001b[1;34m\u001b[0m\n\u001b[1;32m----> 1\u001b[1;33m \u001b[1;32mimport\u001b[0m \u001b[0mspam\u001b[0m       \u001b[1;31m# after importing spam module\u001b[0m\u001b[1;33m\u001b[0m\u001b[1;33m\u001b[0m\u001b[0m\n\u001b[0m\u001b[0;32m      2\u001b[0m \u001b[1;33m\u001b[0m\u001b[0m\n\u001b[0;32m      3\u001b[0m \u001b[0mspam\u001b[0m\u001b[1;33m.\u001b[0m\u001b[0mbacon\u001b[0m\u001b[1;33m(\u001b[0m\u001b[1;33m)\u001b[0m      \u001b[1;31m#using the dot notation(.) you can call it assuming the bacon() function is already defined in the spam module\u001b[0m\u001b[1;33m\u001b[0m\u001b[1;33m\u001b[0m\u001b[0m\n",
      "\u001b[1;31mModuleNotFoundError\u001b[0m: No module named 'spam'"
     ]
    }
   ],
   "source": [
    "import spam       # after importing spam module\n",
    "\n",
    "spam.bacon()      #using the dot notation(.) you can call it assuming the bacon() function is already defined in the spam module"
   ]
  },
  {
   "cell_type": "markdown",
   "id": "bb8aa0a4",
   "metadata": {},
   "source": [
    "##### 13. What can you do to save a programme from crashing if it encounters an error?"
   ]
  },
  {
   "cell_type": "markdown",
   "id": "dc841eca",
   "metadata": {},
   "source": [
    " >Exception handling is the measure taken to prevent a program from crashing due to errors, you can use error handling techniques such as try-except blocks \n",
    " \n",
    "In this example, you put the code that may raise an error inside the try block. If an error occurs, the program jumps to the except block and executes the code to handle the error. "
   ]
  },
  {
   "cell_type": "code",
   "execution_count": 6,
   "id": "b79fcdbc",
   "metadata": {},
   "outputs": [
    {
     "ename": "IndentationError",
     "evalue": "expected an indented block (<ipython-input-6-eb91dbd4331d>, line 3)",
     "output_type": "error",
     "traceback": [
      "\u001b[1;36m  File \u001b[1;32m\"<ipython-input-6-eb91dbd4331d>\"\u001b[1;36m, line \u001b[1;32m3\u001b[0m\n\u001b[1;33m    except Exception as e:\u001b[0m\n\u001b[1;37m    ^\u001b[0m\n\u001b[1;31mIndentationError\u001b[0m\u001b[1;31m:\u001b[0m expected an indented block\n"
     ]
    }
   ],
   "source": [
    "try:\n",
    "    # code that may raise an error\n",
    "except Exception as e:\n",
    "    # code to handle the error\n",
    "    # you can log the error, display an error message, or perform some other action\n",
    "else:\n",
    "    # code to execute if no exception is raised\n",
    "finally:\n",
    "    # code to execute regardless of whether an exception was raised or not\n"
   ]
  },
  {
   "cell_type": "markdown",
   "id": "6337811d",
   "metadata": {},
   "source": [
    "The 'Exception' keyword catches any type of error that may occur. The <'as e'> part saves the error message in a variable named e, which you can use to log or display the error message. If no exception is raised, the program jumps to the else block and executes the code inside it. The finally block is optional and is executed regardless of whether an exception was raised or not."
   ]
  },
  {
   "cell_type": "markdown",
   "id": "6adb2769",
   "metadata": {},
   "source": [
    "##### 14. What is the purpose of the try clause? What is the purpose of the except clause?"
   ]
  },
  {
   "cell_type": "markdown",
   "id": "d14fb53d",
   "metadata": {},
   "source": [
    "the 'try' clause is used to enclose code that may raise an exception, and the 'except' clause is used to provide a block of code that will handle the exception if one is raised. Together, they enable you to write code that is more robust and can handle unexpected errors.\n",
    ">The purpose of the 'try' clause is to enclose the block of code that may raise an exception at runtime.\n",
    ">The 'try' block is executed until an exception is raised or until the block of code is completed.\n",
    ">If no exception is raised, the program will continue executing the code following the try block. However, if an exception is raised, the program flow is transferred to the except block.\n",
    "\n",
    ">The purpose of the 'except' clause is to define a block of code that will be executed if an exception is raised in the try block.\n",
    ">The 'except' block is designed to handle the exception by providing a way to recover from the error or gracefully exit the program.\n",
    ">If there are multiple 'except' clauses, the interpreter will try each one in sequence until an exception is handled. If no exception is handled, the program will terminate with an error message."
   ]
  }
 ],
 "metadata": {
  "kernelspec": {
   "display_name": "Python 3",
   "language": "python",
   "name": "python3"
  },
  "language_info": {
   "codemirror_mode": {
    "name": "ipython",
    "version": 3
   },
   "file_extension": ".py",
   "mimetype": "text/x-python",
   "name": "python",
   "nbconvert_exporter": "python",
   "pygments_lexer": "ipython3",
   "version": "3.8.8"
  }
 },
 "nbformat": 4,
 "nbformat_minor": 5
}
