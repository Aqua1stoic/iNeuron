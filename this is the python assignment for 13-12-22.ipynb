{
 "cells": [
  {
   "cell_type": "markdown",
   "id": "8cd554d3",
   "metadata": {},
   "source": [
    "●\tWrite A Program to accept two numbers from the user and display their sum"
   ]
  },
  {
   "cell_type": "code",
   "execution_count": 2,
   "id": "a3e69b8c",
   "metadata": {},
   "outputs": [
    {
     "name": "stdout",
     "output_type": "stream",
     "text": [
      "Enter your first number ~ 23\n",
      "Enter your second number ~ 23\n",
      "the sum of both numbers is 46\n"
     ]
    }
   ],
   "source": [
    "num1 = int(input('Enter your first number ~ '))\n",
    "num2 = int(input('Enter your second number ~ '))\n",
    "solution = num1 + num2\n",
    "print('the sum of both numbers is',solution)"
   ]
  },
  {
   "cell_type": "markdown",
   "id": "c0f631c2",
   "metadata": {},
   "source": [
    "●\tWrite A Program to accept radius of a Circle from the user and calculate area and circumference"
   ]
  },
  {
   "cell_type": "code",
   "execution_count": 4,
   "id": "9094d9fc",
   "metadata": {},
   "outputs": [
    {
     "name": "stdout",
     "output_type": "stream",
     "text": [
      "Enter the radius of circle to be calculated ~ 4\n",
      "the Area of the circle is 50.285714285714285 and the Circumference is 25.142857142857142\n"
     ]
    }
   ],
   "source": [
    "radius = int(input('Enter the radius of circle to be calculated ~ '))\n",
    "pi = 22/7\n",
    "area = pi * radius **2\n",
    "circumference = 2 * pi * radius\n",
    "print('the Area of the circle is {0} and the Circumference is {1}'.format(area, circumference))"
   ]
  },
  {
   "cell_type": "markdown",
   "id": "c90cf24d",
   "metadata": {},
   "source": [
    "●\tWrite A Program to accept roll number , grade and percentage as input from the user and display it back"
   ]
  },
  {
   "cell_type": "code",
   "execution_count": 9,
   "id": "58e3fccf",
   "metadata": {},
   "outputs": [
    {
     "name": "stdout",
     "output_type": "stream",
     "text": [
      "Enter your Roll Number ~ 2435\n",
      "Enter your percent score ~ 67\n",
      "2435 you are awarded the grade B\n"
     ]
    }
   ],
   "source": [
    "roll_num = input('Enter your Roll Number ~ ') \n",
    "#Roll numbers are unique identification numbers that can be \n",
    "#assigned to students at the time of admission or after admission\n",
    "#they are likened to (ordinal string variables)\n",
    "percent = float(input('Enter your percent score ~ '))\n",
    "if percent <=80:\n",
    "    print('%s you are awarded the grade B'%(roll_num))\n",
    "elif percent <=60:\n",
    "    print('%s you are awarded the grade C'%(roll_num))\n",
    "elif percent <=50:\n",
    "    print('%s you are awarded the grade D'%(roll_num))\n",
    "elif percent <=45:\n",
    "    print('%s you are awarded the grade E'%(roll_num))\n",
    "elif percent <=35:\n",
    "    print('%s you are awarded the grade F'%(roll_num))\n",
    "else:\n",
    "    print('%s you are awarded the grade A'%(roll_num))"
   ]
  },
  {
   "cell_type": "markdown",
   "id": "5edcc08a",
   "metadata": {},
   "source": [
    "●\tWrite a program that asks the user to enter his/her name and age. Print out a message ,\n",
    "displaying the user’s name along with the year in which they will turn 100 years old."
   ]
  },
  {
   "cell_type": "code",
   "execution_count": 10,
   "id": "886dc6c3",
   "metadata": {},
   "outputs": [
    {
     "name": "stdout",
     "output_type": "stream",
     "text": [
      "Please enter your nameMr James Ntui\n",
      "Please enter your age86\n",
      "Mr James Ntui, in the year 2036 you will be turning 100 years old.\n"
     ]
    }
   ],
   "source": [
    "name = input('Please enter your name ')\n",
    "age = int(input('Please enter your age '))\n",
    "year = (2022-age) + 100\n",
    "print(\"{0}, in the year {1} you will be turning 100 years old. Thank God for Longevity\".format(name,year))"
   ]
  },
  {
   "cell_type": "markdown",
   "id": "ecd8948e",
   "metadata": {},
   "source": [
    "●\tWrite a program that asks the user to input 2 integers and adds them . Accept both the numbers in a single line only"
   ]
  },
  {
   "cell_type": "code",
   "execution_count": 13,
   "id": "1829465b",
   "metadata": {},
   "outputs": [
    {
     "name": "stdout",
     "output_type": "stream",
     "text": [
      "enter first number, ~press spacebar~ then enter second number 43 64\n"
     ]
    },
    {
     "data": {
      "text/plain": [
       "107"
      ]
     },
     "execution_count": 13,
     "metadata": {},
     "output_type": "execute_result"
    }
   ],
   "source": [
    "work = input('enter first number, ~press spacebar~ then enter second number ')\n",
    "numb1,numb2 = work.split()\n",
    "int(numb1) +int(numb2)"
   ]
  },
  {
   "cell_type": "markdown",
   "id": "3984988f",
   "metadata": {},
   "source": [
    "●\tWrite a Python program which accepts the user's first and last name and print them in reverse order with a space between them."
   ]
  },
  {
   "cell_type": "code",
   "execution_count": 15,
   "id": "be57193b",
   "metadata": {},
   "outputs": [
    {
     "name": "stdout",
     "output_type": "stream",
     "text": [
      "Enter your first name Sunny\n",
      "Enter your last name Savita\n",
      "ativaS ynnuS\n"
     ]
    }
   ],
   "source": [
    "first_name = input('Enter your first name ')\n",
    "last_name = input('Enter your last name ')\n",
    "full_name = first_name + \" \" + last_name\n",
    "print(full_name[::-1])"
   ]
  }
 ],
 "metadata": {
  "kernelspec": {
   "display_name": "Python 3",
   "language": "python",
   "name": "python3"
  },
  "language_info": {
   "codemirror_mode": {
    "name": "ipython",
    "version": 3
   },
   "file_extension": ".py",
   "mimetype": "text/x-python",
   "name": "python",
   "nbconvert_exporter": "python",
   "pygments_lexer": "ipython3",
   "version": "3.8.8"
  }
 },
 "nbformat": 4,
 "nbformat_minor": 5
}
