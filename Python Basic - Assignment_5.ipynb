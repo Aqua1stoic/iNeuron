{
 "cells": [
  {
   "cell_type": "markdown",
   "id": "50d0c559",
   "metadata": {},
   "source": [
    "##### 1. What does an empty dictionary&#39;s code look like?"
   ]
  },
  {
   "cell_type": "markdown",
   "id": "01547c24",
   "metadata": {},
   "source": [
    "An empty dictionary can be defined using a pair of curly braces {} or by calling the dict() constructor with no arguments."
   ]
  },
  {
   "cell_type": "code",
   "execution_count": 2,
   "id": "5f9596a5",
   "metadata": {},
   "outputs": [
    {
     "name": "stdout",
     "output_type": "stream",
     "text": [
      "{}\n"
     ]
    }
   ],
   "source": [
    "# Using curly braces\n",
    "my_dict = {}\n",
    "\n",
    "# Using the dict constructor\n",
    "my_dict = dict()\n",
    "print(my_dict)"
   ]
  },
  {
   "cell_type": "markdown",
   "id": "21c8ab05",
   "metadata": {},
   "source": [
    "##### 2. What is the value of a dictionary value with the key 'foo' and the value 42?"
   ]
  },
  {
   "cell_type": "markdown",
   "id": "2bfcc64e",
   "metadata": {},
   "source": [
    "In a case where you have a dictionary with the key 'foo' and the value 42, you can access the value 42 by using the key 'foo'. Dictionaries are a collection of key-value pairs, where each key is unique and maps to a corresponding value. To access a value in a dictionary, you can use the key as the index, like this:"
   ]
  },
  {
   "cell_type": "code",
   "execution_count": 3,
   "id": "e63fe824",
   "metadata": {},
   "outputs": [
    {
     "name": "stdout",
     "output_type": "stream",
     "text": [
      "42\n"
     ]
    }
   ],
   "source": [
    "my_dict = { 'fee': 23, 'fai':53, 'foo': 42, 'fum': 11}\n",
    "value_of_foo = my_dict['foo']\n",
    "print(value_of_foo) # output: 42\n"
   ]
  },
  {
   "cell_type": "markdown",
   "id": "bb9254d0",
   "metadata": {},
   "source": [
    "##### 3. What is the most significant distinction between a dictionary and a list?"
   ]
  },
  {
   "cell_type": "markdown",
   "id": "a9f12dc1",
   "metadata": {},
   "source": [
    "A dictionary and a list are both common data structures in programming, but they have different characteristics and purposes. The most significant distinction between a dictionary and a list is that a dictionary stores data in key-value pairs, while a list stores data in an ordered sequence of elements.\n",
    "\n",
    ">In a dictionary, each item is accessed using a unique key, which is a label that is associated with a value. This means that you can quickly retrieve a specific value from a dictionary by specifying its corresponding key. Dictionaries are often used for tasks that involve mapping one set of values to another, such as looking up a definition of a word or finding a user's information by their username.\n",
    "\n",
    ">On the other hand, a list stores a collection of values in a specific order. Each element in a list is identified by its position or index in the sequence, starting from 0. Lists are useful for storing collections of data that need to be accessed in a specific order or iterated over in a loop, such as a list of names or a sequence of numbers.\n",
    "\n",
    "The primary difference between a dictionary and a list is that a dictionary maps keys to values, while a list stores values in an ordered sequence."
   ]
  },
  {
   "cell_type": "markdown",
   "id": "d7ebd632",
   "metadata": {},
   "source": [
    "##### 4. What happens if you try to access spam['foo'] if spam is {'bar': 100}?"
   ]
  },
  {
   "cell_type": "code",
   "execution_count": 4,
   "id": "7cbfbe33",
   "metadata": {},
   "outputs": [
    {
     "ename": "KeyError",
     "evalue": "'foo'",
     "output_type": "error",
     "traceback": [
      "\u001b[1;31m---------------------------------------------------------------------------\u001b[0m",
      "\u001b[1;31mKeyError\u001b[0m                                  Traceback (most recent call last)",
      "\u001b[1;32m<ipython-input-4-8296b042a128>\u001b[0m in \u001b[0;36m<module>\u001b[1;34m\u001b[0m\n\u001b[0;32m      1\u001b[0m \u001b[0mspam\u001b[0m \u001b[1;33m=\u001b[0m \u001b[1;33m{\u001b[0m\u001b[1;34m'bar'\u001b[0m\u001b[1;33m:\u001b[0m\u001b[1;36m100\u001b[0m\u001b[1;33m}\u001b[0m\u001b[1;33m\u001b[0m\u001b[1;33m\u001b[0m\u001b[0m\n\u001b[0;32m      2\u001b[0m \u001b[1;33m\u001b[0m\u001b[0m\n\u001b[1;32m----> 3\u001b[1;33m \u001b[0mspam\u001b[0m\u001b[1;33m[\u001b[0m\u001b[1;34m'foo'\u001b[0m\u001b[1;33m]\u001b[0m\u001b[1;33m\u001b[0m\u001b[1;33m\u001b[0m\u001b[0m\n\u001b[0m",
      "\u001b[1;31mKeyError\u001b[0m: 'foo'"
     ]
    }
   ],
   "source": [
    "spam = {'bar':100}\n",
    "\n",
    "spam['foo']"
   ]
  },
  {
   "cell_type": "markdown",
   "id": "3fd3fea3",
   "metadata": {},
   "source": [
    "In this case, trying to access spam['foo'] would result in a KeyError because the key 'foo' does not exist in the dictionary spam. When you try to access a key in a dictionary that doesn't exist, Python raises a KeyError exception. This is a way for Python to let you know that the key you are trying to access does not exist in the dictionary."
   ]
  },
  {
   "cell_type": "markdown",
   "id": "90bc525b",
   "metadata": {},
   "source": [
    "##### 5. If a dictionary is stored in spam, what is the difference between the expressions 'cat' in spam and 'cat' in spam.keys()?"
   ]
  },
  {
   "cell_type": "markdown",
   "id": "07cec628",
   "metadata": {},
   "source": [
    "If a dictionary is stored in the variable spam, the expression cat in spam will check whether the string \"cat\" is a key in the spam dictionary. It will return True if \"cat\" is a key in spam, and False otherwise.\n",
    "\n",
    "On the other hand, the expression cat in spam.keys() will also check whether \"cat\" is a key in the spam dictionary, but it does so by explicitly calling the keys() method on the spam dictionary. This method returns a list-like object that contains all the keys in the dictionary. The in operator then checks whether \"cat\" is in this list of keys.\n",
    "\n",
    "In practical terms, there is no difference between these two expressions, as they will both return the same result. However, using cat in spam is more concise and is the preferred way to check whether a key is in a dictionary."
   ]
  },
  {
   "cell_type": "markdown",
   "id": "1510478e",
   "metadata": {},
   "source": [
    "##### 6. If a dictionary is stored in spam, what is the difference between the expressions 'cat' in spam and 'cat' in spam.values()?"
   ]
  },
  {
   "cell_type": "markdown",
   "id": "f5ad5f10",
   "metadata": {},
   "source": [
    "If a dictionary is stored in the variable spam, the expression <'cat' in spam> checks whether the string 'cat' is a key in the dictionary. On the other hand, the expression <'cat' in spam.values()> checks whether the string 'cat' appears as a value in any of the dictionary's key-value pairs.\n",
    "\n",
    "In the example below, 'cat' in spam evaluates to True because 'cat' is a key in the spam dictionary. On the other hand, 'cat' in spam.values() evaluates to False because 'meow' is a value associated with the key 'cat' in the spam dictionary."
   ]
  },
  {
   "cell_type": "code",
   "execution_count": 5,
   "id": "5feffab3",
   "metadata": {},
   "outputs": [
    {
     "name": "stdout",
     "output_type": "stream",
     "text": [
      "True\n",
      "False\n"
     ]
    }
   ],
   "source": [
    "spam = {'cat': 'meow', 'dog': 'woof', 'bird': 'tweet'}\n",
    "\n",
    "# Check if 'cat' is a key in the dictionary\n",
    "print('cat' in spam)  # Output: True\n",
    "\n",
    "# Check if 'meow' is a value in the dictionary\n",
    "print('cat' in spam.values())  # Output: False\n"
   ]
  },
  {
   "cell_type": "markdown",
   "id": "685e8c62",
   "metadata": {},
   "source": [
    "##### 7. What is a shortcut for the following code?"
   ]
  },
  {
   "cell_type": "raw",
   "id": "4b10fbe4",
   "metadata": {},
   "source": [
    "if 'color' not in spam:\n",
    "    spam['color'] = 'black'"
   ]
  },
  {
   "cell_type": "code",
   "execution_count": null,
   "id": "e88670ce",
   "metadata": {},
   "outputs": [],
   "source": [
    "spam.setdefault('color', 'black')"
   ]
  },
  {
   "cell_type": "markdown",
   "id": "dc0f39e8",
   "metadata": {},
   "source": [
    "##### 8. How do you\"pretty print\" dictionary values using which module and function?"
   ]
  },
  {
   "cell_type": "markdown",
   "id": "8692c38a",
   "metadata": {},
   "source": [
    "To pretty print dictionary values in Python, you can use the built-in json module and its dumps() function. The json.dumps() function can serialize a Python object to a JSON formatted string, which can be printed in a more readable way. The output is more readable and easier to understand than the default output of a dictionary in Python."
   ]
  },
  {
   "cell_type": "code",
   "execution_count": 6,
   "id": "78fe81c7",
   "metadata": {},
   "outputs": [
    {
     "name": "stdout",
     "output_type": "stream",
     "text": [
      "{\n",
      "    \"name\": \"John\",\n",
      "    \"age\": 30,\n",
      "    \"city\": \"New York\"\n",
      "}\n"
     ]
    }
   ],
   "source": [
    "import json              #we import the json module\n",
    "\n",
    "my_dict = {              #define a dictionary my_dict with some values\n",
    "    \"name\": \"John\",\n",
    "    \"age\": 30,\n",
    "    \"city\": \"New York\"\n",
    "}\n",
    "#then use the json.dumps() function to convert the dictionary into a JSON formatted string with an indentation of 4 spaces\n",
    "print(json.dumps(my_dict, indent=4))  #we print the formatted string using the built-in print() function."
   ]
  },
  {
   "cell_type": "code",
   "execution_count": null,
   "id": "5fcd9548",
   "metadata": {},
   "outputs": [],
   "source": []
  }
 ],
 "metadata": {
  "kernelspec": {
   "display_name": "Python 3",
   "language": "python",
   "name": "python3"
  },
  "language_info": {
   "codemirror_mode": {
    "name": "ipython",
    "version": 3
   },
   "file_extension": ".py",
   "mimetype": "text/x-python",
   "name": "python",
   "nbconvert_exporter": "python",
   "pygments_lexer": "ipython3",
   "version": "3.8.8"
  }
 },
 "nbformat": 4,
 "nbformat_minor": 5
}
