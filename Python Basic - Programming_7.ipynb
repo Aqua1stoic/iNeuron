{
 "cells": [
  {
   "cell_type": "markdown",
   "id": "dfbad3fe",
   "metadata": {},
   "source": [
    "##### 1. Write a Python Program to find sum of array?"
   ]
  },
  {
   "cell_type": "code",
   "execution_count": null,
   "id": "c2dbd10f",
   "metadata": {},
   "outputs": [],
   "source": [
    "def array_sum(arr):\n",
    "    \"\"\"\n",
    "    This function takes an array as input and returns the sum of its elements.\n",
    "    \"\"\"\n",
    "    sum = 0\n",
    "    for i in range(len(arr)):\n",
    "        sum += arr[i]\n",
    "    return sum\n",
    "\n",
    "# Example usage\n",
    "arr = [1, 2, 3, 4, 5]\n",
    "print(array_sum(arr)) # Output: the sum of all the numbers in array; 15\n"
   ]
  },
  {
   "cell_type": "markdown",
   "id": "d6ebc44f",
   "metadata": {},
   "source": [
    "##### 2. Write a Python Program to find largest element in an array?"
   ]
  },
  {
   "cell_type": "code",
   "execution_count": 17,
   "id": "d0c8d6d0",
   "metadata": {},
   "outputs": [
    {
     "name": "stdout",
     "output_type": "stream",
     "text": [
      "The largest element in the array is: 19\n"
     ]
    }
   ],
   "source": [
    "def find_largest(arr):\n",
    "    # initialize the largest element to the first element in the array\n",
    "    largest = arr[0]\n",
    "    \n",
    "    # iterate through the array and compare each element to the current largest\n",
    "    for i in range(1, len(arr)):\n",
    "        if arr[i] > largest:\n",
    "            largest = arr[i]\n",
    "    \n",
    "    # return the largest element\n",
    "    return largest\n",
    "\n",
    "# Example usage:\n",
    "arr = [5, 10, 3, 8, 2, 19, 11]\n",
    "largest = find_largest(arr)\n",
    "print(\"The largest element in the array is:\", largest)\n"
   ]
  },
  {
   "cell_type": "markdown",
   "id": "5de68a42",
   "metadata": {},
   "source": [
    "##### 3. Write a Python Program for array rotation?"
   ]
  },
  {
   "cell_type": "code",
   "execution_count": 3,
   "id": "0ac58f67",
   "metadata": {},
   "outputs": [],
   "source": [
    "def rotate_array(arr, k):\n",
    "    n = len(arr)\n",
    "    k = k % n\n",
    "    arr[:] = arr[n-k:] + arr[:n-k]\n",
    "    return arr\n"
   ]
  },
  {
   "cell_type": "markdown",
   "id": "5b0fc601",
   "metadata": {},
   "source": [
    "This program takes two arguments:\n",
    "\n",
    "arr: the array to be rotated.\n",
    "k: the number of positions by which to rotate the array.\n",
    "The program first calculates the length of the array n, then uses the modulo operator to ensure that k is within the range [0, n-1]. This step is necessary because rotating an array by k positions is equivalent to rotating it by k % n positions.\n",
    "\n",
    "The program then uses Python's slice notation to create a new array that is the result of rotating the original array by k positions. Specifically, it creates a new array by concatenating the last k elements of the original array (arr[n-k:]) with the first n-k elements of the original array (arr[:n-k]), and assigns this new array back to the original array using the slice notation arr[:].\n",
    "\n",
    "Finally, the program returns the rotated array.\n",
    "\n",
    "Here's an example of how to use the program:"
   ]
  },
  {
   "cell_type": "code",
   "execution_count": 15,
   "id": "49291186",
   "metadata": {},
   "outputs": [
    {
     "data": {
      "text/plain": [
       "[22, 21, 20, 45, 44, 43, 42, 41, 40, 35, 34, 33, 32, 31, 30, 25, 24, 23]"
      ]
     },
     "execution_count": 15,
     "metadata": {},
     "output_type": "execute_result"
    }
   ],
   "source": [
    "array = [45,44,43,42,41,40,35,34,33,32,31,30,25,24,23,22,21,20]\n",
    "kf = 3\n",
    "\n",
    "rotate_array(array,kf)"
   ]
  },
  {
   "cell_type": "markdown",
   "id": "0d65d31d",
   "metadata": {},
   "source": [
    "##### 4. Write a Python Program to Split the array and add the first part to the end?"
   ]
  },
  {
   "cell_type": "code",
   "execution_count": 18,
   "id": "0068377b",
   "metadata": {},
   "outputs": [
    {
     "name": "stdout",
     "output_type": "stream",
     "text": [
      "Array after splitting and adding: [6, 7, 8, 9, 0, 1, 2, 3, 4, 5]\n"
     ]
    }
   ],
   "source": [
    "def split_and_add(arr, n):\n",
    "    # split the array into two parts and add the first part to the end\n",
    "    arr = arr[n:] + arr[:n]\n",
    "    \n",
    "    # return the modified array\n",
    "    return arr\n",
    "\n",
    "# Example usage:\n",
    "arr = [1, 2, 3, 4, 5, 6, 7, 8, 9, 0]\n",
    "n = 5\n",
    "modified_arr = split_and_add(arr, n)\n",
    "print(\"Array after splitting and adding:\", modified_arr)\n"
   ]
  },
  {
   "cell_type": "markdown",
   "id": "65785e46",
   "metadata": {},
   "source": [
    "##### 5. Write a Python Program to check if given array is Monotonic?"
   ]
  },
  {
   "cell_type": "markdown",
   "id": "a1e1088d",
   "metadata": {},
   "source": [
    "In the example usage, we test the is_monotonic function on three arrays: [1, 2, 3, 4, 5] which is monotonic increasing, [5, 4, 3, 2, 1] which is monotonic decreasing, and [1, 2, 3, 2, 1] which is not monotonic"
   ]
  },
  {
   "cell_type": "code",
   "execution_count": 19,
   "id": "88e3209e",
   "metadata": {},
   "outputs": [
    {
     "name": "stdout",
     "output_type": "stream",
     "text": [
      "arr1 is monotonic: True\n",
      "arr2 is monotonic: True\n",
      "arr3 is monotonic: False\n"
     ]
    }
   ],
   "source": [
    "def is_monotonic(arr):\n",
    "    # initialize variables to keep track of monotonicity\n",
    "    increasing = True\n",
    "    decreasing = True\n",
    "    \n",
    "    # iterate through the array and check if it is monotonic\n",
    "    for i in range(1, len(arr)):\n",
    "        if arr[i] > arr[i-1]:\n",
    "            decreasing = False\n",
    "        elif arr[i] < arr[i-1]:\n",
    "            increasing = False\n",
    "    \n",
    "    # return True if the array is monotonic, False otherwise\n",
    "    return increasing or decreasing\n",
    "\n",
    "# Example usage:\n",
    "arr1 = [1, 2, 3, 4, 5]\n",
    "arr2 = [5, 4, 3, 2, 1]\n",
    "arr3 = [1, 2, 3, 2, 1]\n",
    "print(\"arr1 is monotonic:\", is_monotonic(arr1))\n",
    "print(\"arr2 is monotonic:\", is_monotonic(arr2))\n",
    "print(\"arr3 is monotonic:\", is_monotonic(arr3))\n"
   ]
  },
  {
   "cell_type": "markdown",
   "id": "b62650c1",
   "metadata": {},
   "source": [
    "In this program, we define a function is_monotonic which takes an array arr as its argument. We initialize two variables increasing and decreasing to True, to indicate that the array is initially assumed to be monotonic. We then iterate through the array and check if the elements are increasing or decreasing, by comparing each element to the previous element. If an element violates the monotonicity condition, we set the corresponding variable to False."
   ]
  },
  {
   "cell_type": "code",
   "execution_count": null,
   "id": "b3a044ea",
   "metadata": {},
   "outputs": [],
   "source": []
  }
 ],
 "metadata": {
  "kernelspec": {
   "display_name": "Python 3",
   "language": "python",
   "name": "python3"
  },
  "language_info": {
   "codemirror_mode": {
    "name": "ipython",
    "version": 3
   },
   "file_extension": ".py",
   "mimetype": "text/x-python",
   "name": "python",
   "nbconvert_exporter": "python",
   "pygments_lexer": "ipython3",
   "version": "3.8.8"
  }
 },
 "nbformat": 4,
 "nbformat_minor": 5
}
