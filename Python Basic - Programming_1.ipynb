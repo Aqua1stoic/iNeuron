{
 "cells": [
  {
   "cell_type": "markdown",
   "id": "32eebfa4",
   "metadata": {},
   "source": [
    "##### 1. Write a Python program to print \"Hello Python\""
   ]
  },
  {
   "cell_type": "code",
   "execution_count": 1,
   "id": "76d2f830",
   "metadata": {},
   "outputs": [
    {
     "name": "stdout",
     "output_type": "stream",
     "text": [
      "Hello Python\n"
     ]
    }
   ],
   "source": [
    "print(\"Hello Python\")"
   ]
  },
  {
   "cell_type": "markdown",
   "id": "9c6d7f4d",
   "metadata": {},
   "source": [
    "##### 2. Write a Python program to do arithmetical operations addition and division?"
   ]
  },
  {
   "cell_type": "code",
   "execution_count": 2,
   "id": "f388a01d",
   "metadata": {},
   "outputs": [
    {
     "name": "stdout",
     "output_type": "stream",
     "text": [
      "Enter First number 32\n",
      "Enter second number 4\n",
      "The sum of the first and the second number is  36.0\n",
      "The dividend of the first and the second number is  8.0\n"
     ]
    }
   ],
   "source": [
    "a = int(input(\"Enter First number \"))\n",
    "b = float(input(\"Enter second number \"))\n",
    "d = a/b\n",
    "c = a+b\n",
    "print(\"The sum of the first and the second number is \",c)\n",
    "print(\"The dividend of the first and the second number is \",d)"
   ]
  },
  {
   "cell_type": "markdown",
   "id": "8a9d60e6",
   "metadata": {},
   "source": [
    "##### 3. Write a Python program to find the area of a triangle?"
   ]
  },
  {
   "cell_type": "code",
   "execution_count": 4,
   "id": "b1dcded3",
   "metadata": {},
   "outputs": [
    {
     "name": "stdout",
     "output_type": "stream",
     "text": [
      "Enter the Height of the Triangle: 33\n",
      "Enter the Base of the Triangle: 23\n",
      "The Area of your Triangle is  379.5\n"
     ]
    }
   ],
   "source": [
    "height = int(input(\"Enter the Height of the Triangle: \"))\n",
    "base = int(input(\"Enter the Base of the Triangle: \"))\n",
    "area = base*height/2\n",
    "print(\"The Area of your Triangle is \",area)"
   ]
  },
  {
   "cell_type": "markdown",
   "id": "e948b888",
   "metadata": {},
   "source": [
    "##### 4. Write a Python program to swap two variables?"
   ]
  },
  {
   "cell_type": "code",
   "execution_count": 12,
   "id": "f5bf10c6",
   "metadata": {},
   "outputs": [
    {
     "name": "stdout",
     "output_type": "stream",
     "text": [
      " 1st variable: \n",
      "2342\n",
      " 2nd variable: \n",
      "31dqd\n",
      "\n",
      "After swapping:\n",
      "x = 31dqd\n",
      "y = 2342\n"
     ]
    }
   ],
   "source": [
    "# initialize two variables and print the original values\n",
    "x = input(\" 1st variable: \\n\")\n",
    "y = input(\" 2nd variable: \\n\")\n",
    "\n",
    "# swap the values\n",
    "holder = x\n",
    "x = y\n",
    "y = holder\n",
    "\n",
    "# print the new values\n",
    "print(\"\\nAfter swapping:\")\n",
    "print(\"x =\", x)\n",
    "print(\"y =\", y)"
   ]
  },
  {
   "cell_type": "markdown",
   "id": "13ea0ac1",
   "metadata": {},
   "source": [
    "##### 5. Write a Python program to generate a random number?"
   ]
  },
  {
   "cell_type": "code",
   "execution_count": 9,
   "id": "a00eceb5",
   "metadata": {},
   "outputs": [
    {
     "name": "stdout",
     "output_type": "stream",
     "text": [
      "Random number: 15\n"
     ]
    }
   ],
   "source": [
    "import random\n",
    "\n",
    "# generate a random integer between 1 and 100 (inclusive)\n",
    "random_number = random.randint(1, 1000)\n",
    "\n",
    "# print the random number\n",
    "print(\"Random number:\", random_number)"
   ]
  },
  {
   "cell_type": "code",
   "execution_count": null,
   "id": "af5726df",
   "metadata": {},
   "outputs": [],
   "source": []
  }
 ],
 "metadata": {
  "kernelspec": {
   "display_name": "Python 3",
   "language": "python",
   "name": "python3"
  },
  "language_info": {
   "codemirror_mode": {
    "name": "ipython",
    "version": 3
   },
   "file_extension": ".py",
   "mimetype": "text/x-python",
   "name": "python",
   "nbconvert_exporter": "python",
   "pygments_lexer": "ipython3",
   "version": "3.8.8"
  }
 },
 "nbformat": 4,
 "nbformat_minor": 5
}
