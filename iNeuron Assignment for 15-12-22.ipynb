{
 "cells": [
  {
   "cell_type": "markdown",
   "id": "8f7d70b6",
   "metadata": {},
   "source": [
    "●\tWrite A Program to accept an integer from the user and check whether it is an even or odd "
   ]
  },
  {
   "cell_type": "code",
   "execution_count": 1,
   "id": "b60dae4d",
   "metadata": {},
   "outputs": [
    {
     "name": "stdout",
     "output_type": "stream",
     "text": [
      "please enter number: 323\n",
      "323 is Odd number\n"
     ]
    }
   ],
   "source": [
    "a = int(input('please enter number: '))\n",
    "if(a%2==0):print(\"%d is Even number\"%(a))\n",
    "if(a%2!=0):print(\"%d is Odd number\"%(a))"
   ]
  },
  {
   "cell_type": "markdown",
   "id": "0e96bc99",
   "metadata": {},
   "source": [
    "●\tWrite a program to accept a character from the user and check whether it is a capital letter or small letter.\n",
    "Assume user will input only alphabets"
   ]
  },
  {
   "cell_type": "code",
   "execution_count": 4,
   "id": "2ae391ca",
   "metadata": {},
   "outputs": [
    {
     "name": "stdout",
     "output_type": "stream",
     "text": [
      "please enter alphabet: U\n",
      "your input ~ U ~ is a Capital Letter\n"
     ]
    }
   ],
   "source": [
    "char = input('please enter alphabet: ')\n",
    "if 65 <= ord(char[0]) <=90:\n",
    "    print('your input ~ {0} ~ is a Capital Letter'.format(char))\n",
    "elif 97 <= ord(char[0]) <=122:\n",
    "    print('your input ~ {0} ~ is a Small Letter'.format(char))\n",
    "else:\n",
    "    print('Please enter only an alphabet')"
   ]
  },
  {
   "cell_type": "markdown",
   "id": "ac9a0ad9",
   "metadata": {},
   "source": [
    "Write a Program to accept a character from the user and check whether it is a capital letter or small letter\n",
    " or a digit or some special symbol"
   ]
  },
  {
   "cell_type": "code",
   "execution_count": 18,
   "id": "1ac5b7a6",
   "metadata": {},
   "outputs": [
    {
     "name": "stdout",
     "output_type": "stream",
     "text": [
      "please enter your character )\n",
      "your input ~ ) ~ is a Special Symbol\n"
     ]
    }
   ],
   "source": [
    "char = input('please enter your character ')\n",
    "if 65 <= ord(char[0]) <=90:\n",
    "    print('your input ~ {0} ~ is a Capital Letter'.format(char))\n",
    "elif 97 <= ord(char[0]) <=122:\n",
    "    print('your input ~ {0} ~ is a Small Letter'.format(char))\n",
    "elif 48 <= ord(char[0]) <= 57:\n",
    "    print('your input ~ {0} ~ is a Digit'.format(char))\n",
    "else:\n",
    "    print('your input ~ {0} ~ is a Special Symbol'.format(char))"
   ]
  },
  {
   "cell_type": "markdown",
   "id": "eaf7efde",
   "metadata": {},
   "source": [
    "●\tWrite a program to accept 3 integers from the user and without using any logical operator and \n",
    "\n",
    "cascading of relational operators ,\n",
    "\n",
    "find out the greatest number amongst them"
   ]
  },
  {
   "cell_type": "code",
   "execution_count": 23,
   "id": "16d7fb42",
   "metadata": {},
   "outputs": [
    {
     "name": "stdout",
     "output_type": "stream",
     "text": [
      "enter first integer 899\n",
      "enter second integer 3\n",
      "enter third integer -1\n",
      "the greatest number is  899\n"
     ]
    }
   ],
   "source": [
    "### logical operator include-     and , or , not \n",
    "### relational operators include-      < , > , >= , <= , == , !=\n",
    "\n",
    "first_int = int(input('enter first integer '))\n",
    "second_int = int(input('enter second integer '))\n",
    "third_int = int(input('enter third integer '))\n",
    "greatest = max(first_int,second_int,third_int)\n",
    "print ('the greatest number is ', greatest)"
   ]
  },
  {
   "cell_type": "code",
   "execution_count": null,
   "id": "d26e64b6",
   "metadata": {},
   "outputs": [],
   "source": []
  }
 ],
 "metadata": {
  "kernelspec": {
   "display_name": "Python 3",
   "language": "python",
   "name": "python3"
  },
  "language_info": {
   "codemirror_mode": {
    "name": "ipython",
    "version": 3
   },
   "file_extension": ".py",
   "mimetype": "text/x-python",
   "name": "python",
   "nbconvert_exporter": "python",
   "pygments_lexer": "ipython3",
   "version": "3.8.8"
  }
 },
 "nbformat": 4,
 "nbformat_minor": 5
}
