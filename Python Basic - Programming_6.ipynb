{
 "cells": [
  {
   "cell_type": "markdown",
   "id": "04bc5b7b",
   "metadata": {},
   "source": [
    "##### 1. Write a Python Program to Display Fibonacci Sequence Using Recursion?"
   ]
  },
  {
   "cell_type": "markdown",
   "id": "328aafb1",
   "metadata": {},
   "source": [
    " the fibonacci() function takes a positive integer n as its argument and returns the nth term of the Fibonacci sequence. If n is less than or equal to 1, it simply returns n. Otherwise, it recursively calls itself with n-1 and n-2 as its arguments, adds the two values together, and returns the result."
   ]
  },
  {
   "cell_type": "code",
   "execution_count": 1,
   "id": "14932d3c",
   "metadata": {},
   "outputs": [
    {
     "name": "stdout",
     "output_type": "stream",
     "text": [
      "How many terms? 15\n",
      "Fibonacci sequence:\n",
      "0\n",
      "1\n",
      "1\n",
      "2\n",
      "3\n",
      "5\n",
      "8\n",
      "13\n",
      "21\n",
      "34\n",
      "55\n",
      "89\n",
      "144\n",
      "233\n",
      "377\n"
     ]
    }
   ],
   "source": [
    "def fibonacci(n):\n",
    "    if n <= 1:\n",
    "        return n\n",
    "    else:\n",
    "        return fibonacci(n-1) + fibonacci(n-2)\n",
    "\n",
    "# take input from the user\n",
    "nterms = int(input(\"How many terms? \"))\n",
    "\n",
    "# check if the number of terms is valid\n",
    "if nterms <= 0:\n",
    "    print(\"Please enter a positive integer\")\n",
    "else:\n",
    "    print(\"Fibonacci sequence:\")\n",
    "    for i in range(nterms):\n",
    "        print(fibonacci(i))\n"
   ]
  },
  {
   "cell_type": "markdown",
   "id": "084388a2",
   "metadata": {},
   "source": [
    "##### 2. Write a Python Program to Find Factorial of Number Using Recursion?"
   ]
  },
  {
   "cell_type": "markdown",
   "id": "aa6d1bd8",
   "metadata": {},
   "source": [
    "Here, the factorial() function takes an integer n as input and recursively calculates the factorial of the number. The base case is when n is 0, in which case the function returns 1. Otherwise, the function multiplies n with the result of calling factorial() with n-1.\n",
    "\n",
    "After defining the function, the program takes an integer input from the user and checks if it is negative, positive, or zero. If the number is negative, the program prints an error message. If the number is 0, the program prints that the factorial is 1. Otherwise, the program calls the factorial() function with the input number and prints the result."
   ]
  },
  {
   "cell_type": "code",
   "execution_count": 4,
   "id": "3b982fef",
   "metadata": {},
   "outputs": [
    {
     "name": "stdout",
     "output_type": "stream",
     "text": [
      "Enter a number: 4\n",
      "Factorial of 4 is 24\n"
     ]
    }
   ],
   "source": [
    "def factorial(n):\n",
    "    if n == 0:\n",
    "        return 1\n",
    "    else:\n",
    "        return n * factorial(n-1)\n",
    "\n",
    "# Take input from user\n",
    "num = int(input(\"Enter a number: \"))\n",
    "\n",
    "# Check if the number is negative, positive or zero\n",
    "if num < 0:\n",
    "   print(\"Factorial cannot be found for negative numbers\")\n",
    "elif num == 0:\n",
    "   print(\"Factorial of 0 is 1\")\n",
    "else:\n",
    "   print(\"Factorial of\", num, \"is\", factorial(num))\n"
   ]
  },
  {
   "cell_type": "markdown",
   "id": "4a55a8f6",
   "metadata": {},
   "source": [
    "##### 3. Write a Python Program to calculate your Body Mass Index?"
   ]
  },
  {
   "cell_type": "code",
   "execution_count": 6,
   "id": "f9d69f44",
   "metadata": {},
   "outputs": [
    {
     "name": "stdout",
     "output_type": "stream",
     "text": [
      "Enter your weight in kilograms: 79\n",
      "Enter your height in meters: 1.81\n",
      "Your BMI is: 24.11\n",
      "You are of normal weight.\n"
     ]
    }
   ],
   "source": [
    "# take input from the user\n",
    "weight = float(input(\"Enter your weight in kilograms: \"))\n",
    "height = float(input(\"Enter your height in meters: \"))\n",
    "\n",
    "# calculate the BMI\n",
    "bmi = weight / (height ** 2)\n",
    "\n",
    "# display the result\n",
    "print(\"Your BMI is: {:.2f}\".format(bmi))\n",
    "\n",
    "# interpret the BMI\n",
    "if bmi < 18.5:\n",
    "    print(\"You are underweight.\")\n",
    "elif bmi < 25:\n",
    "    print(\"You are of normal weight.\")\n",
    "elif bmi < 30:\n",
    "    print(\"You are overweight.\")\n",
    "else:\n",
    "    print(\"You are obese.\")\n"
   ]
  },
  {
   "cell_type": "markdown",
   "id": "776f91fd",
   "metadata": {},
   "source": [
    "##### 4. Write a Python Program to calculate the natural logarithm of any number?"
   ]
  },
  {
   "cell_type": "markdown",
   "id": "b42823ef",
   "metadata": {},
   "source": [
    "In this program, we use the math module to access the log() function, which calculates the natural logarithm of a given number. The program prompts the user to enter a number, then calculates its natural logarithm using math.log(). The result is stored in the variable logarithm."
   ]
  },
  {
   "cell_type": "code",
   "execution_count": 7,
   "id": "3a9d7815",
   "metadata": {},
   "outputs": [
    {
     "name": "stdout",
     "output_type": "stream",
     "text": [
      "Enter a number: 42.53\n",
      "The natural logarithm of 42.53 is 3.75\n"
     ]
    }
   ],
   "source": [
    "import math\n",
    "\n",
    "# take input from the user\n",
    "number = float(input(\"Enter a number: \"))\n",
    "\n",
    "# calculate the natural logarithm\n",
    "logarithm = math.log(number)\n",
    "\n",
    "# display the result\n",
    "print(\"The natural logarithm of {} is {:.2f}\".format(number, logarithm))\n"
   ]
  },
  {
   "cell_type": "markdown",
   "id": "dd64e787",
   "metadata": {},
   "source": [
    "##### 5. Write a Python Program for cube sum of first n natural numbers?"
   ]
  },
  {
   "cell_type": "markdown",
   "id": "d1f31a95",
   "metadata": {},
   "source": [
    "In this program, the user is prompted to enter a number n. The program then uses a for loop to iterate over the first n natural numbers, calculating the cube of each number and adding it to the variable sum. The range() function is used to generate a sequence of numbers from 1 to n, and the ** operator is used to raise each number to the third power."
   ]
  },
  {
   "cell_type": "code",
   "execution_count": 8,
   "id": "73b4a310",
   "metadata": {},
   "outputs": [
    {
     "name": "stdout",
     "output_type": "stream",
     "text": [
      "Enter a number: 5\n",
      "The cube sum of the first 5 natural numbers is 225\n"
     ]
    }
   ],
   "source": [
    "# take input from the user\n",
    "n = int(input(\"Enter a number: \"))\n",
    "\n",
    "# calculate the cube sum\n",
    "sum = 0\n",
    "for i in range(1, n+1):\n",
    "    sum += i**3\n",
    "\n",
    "# display the result\n",
    "print(\"The cube sum of the first {} natural numbers is {}\".format(n, sum))\n"
   ]
  },
  {
   "cell_type": "code",
   "execution_count": null,
   "id": "6d838cf5",
   "metadata": {},
   "outputs": [],
   "source": []
  }
 ],
 "metadata": {
  "kernelspec": {
   "display_name": "Python 3",
   "language": "python",
   "name": "python3"
  },
  "language_info": {
   "codemirror_mode": {
    "name": "ipython",
    "version": 3
   },
   "file_extension": ".py",
   "mimetype": "text/x-python",
   "name": "python",
   "nbconvert_exporter": "python",
   "pygments_lexer": "ipython3",
   "version": "3.8.8"
  }
 },
 "nbformat": 4,
 "nbformat_minor": 5
}
