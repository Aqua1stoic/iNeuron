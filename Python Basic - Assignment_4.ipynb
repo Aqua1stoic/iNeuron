{
 "cells": [
  {
   "cell_type": "markdown",
   "id": "65950cfb",
   "metadata": {},
   "source": [
    "##### 1. What exactly is []?"
   ]
  },
  {
   "cell_type": "markdown",
   "id": "5bb3883c",
   "metadata": {},
   "source": [
    "In Python, the square brackets [] are used to create a list. A list is an ordered collection of items, which can be of different data types such as integers, floats, strings, or other objects. An example of a list:"
   ]
  },
  {
   "cell_type": "code",
   "execution_count": 3,
   "id": "8c856116",
   "metadata": {},
   "outputs": [
    {
     "name": "stdout",
     "output_type": "stream",
     "text": [
      "['time', 2, 'get', 1.0, 'ML', 'Job'] []\n"
     ]
    }
   ],
   "source": [
    "my_list =['time', 2, 'get', (10/10),\"ML\", \"Job\" ]\n",
    "empty_list = []\n",
    "\n",
    "print(my_list,empty_list)"
   ]
  },
  {
   "cell_type": "markdown",
   "id": "3c3271ed",
   "metadata": {},
   "source": [
    "##### 2. In a list of values stored in a variable called spam, how would you assign the value &#39;hello&#39; as thethird value? (Assume [2, 4, 6, 8, 10] are in spam.)"
   ]
  },
  {
   "cell_type": "code",
   "execution_count": 4,
   "id": "6c67a0b9",
   "metadata": {},
   "outputs": [],
   "source": [
    "#using indexing and assignment to assign the value 'hello' as the third value in a list stored in a variable\n",
    "\n",
    "spam = [2, 4, 6, 8, 10]   # original list\n",
    "spam[2] = 'hello'         # assign 'hello' to the third value in the list\n",
    "\n",
    "#Note that indexing in Python starts from 0, so the third value in the list has an index of 2."
   ]
  },
  {
   "cell_type": "markdown",
   "id": "930d7d12",
   "metadata": {},
   "source": [
    "### Let's pretend the spam includes the list ['a', 'b','c','d'] for the next three queries."
   ]
  },
  {
   "cell_type": "code",
   "execution_count": 5,
   "id": "0d6b9e74",
   "metadata": {},
   "outputs": [],
   "source": [
    "spam = ['a','b','c','d']"
   ]
  },
  {
   "cell_type": "markdown",
   "id": "d3703417",
   "metadata": {},
   "source": [
    "##### 3. What is the value of spam[int(int('3'* 2) / 11)]?"
   ]
  },
  {
   "cell_type": "code",
   "execution_count": 6,
   "id": "f6d272fc",
   "metadata": {},
   "outputs": [
    {
     "data": {
      "text/plain": [
       "'d'"
      ]
     },
     "execution_count": 6,
     "metadata": {},
     "output_type": "execute_result"
    }
   ],
   "source": [
    "spam[int(int('3'* 2) / 11)]"
   ]
  },
  {
   "cell_type": "markdown",
   "id": "7cf13e0b",
   "metadata": {},
   "source": [
    "##### 4. What is the value of spam[-1]?"
   ]
  },
  {
   "cell_type": "code",
   "execution_count": 7,
   "id": "80ec6fa9",
   "metadata": {},
   "outputs": [
    {
     "data": {
      "text/plain": [
       "'d'"
      ]
     },
     "execution_count": 7,
     "metadata": {},
     "output_type": "execute_result"
    }
   ],
   "source": [
    "spam[-1]"
   ]
  },
  {
   "cell_type": "markdown",
   "id": "dc1eac20",
   "metadata": {},
   "source": [
    "##### 5. What is the value of spam[:2]?"
   ]
  },
  {
   "cell_type": "code",
   "execution_count": 8,
   "id": "4aab93e1",
   "metadata": {},
   "outputs": [
    {
     "data": {
      "text/plain": [
       "['a', 'b']"
      ]
     },
     "execution_count": 8,
     "metadata": {},
     "output_type": "execute_result"
    }
   ],
   "source": [
    "spam[:2]"
   ]
  },
  {
   "cell_type": "markdown",
   "id": "00bdc729",
   "metadata": {},
   "source": [
    "### Let's pretend bacon has the list [3.14, 'cat', 11 ,'cat',  True] for the next three questions."
   ]
  },
  {
   "cell_type": "code",
   "execution_count": 9,
   "id": "c26c909c",
   "metadata": {},
   "outputs": [],
   "source": [
    "bacon = [3.14, 'cat', 11 ,'cat', True]"
   ]
  },
  {
   "cell_type": "markdown",
   "id": "233659b8",
   "metadata": {},
   "source": [
    "###### 6. What is the value of bacon.index('cat')?"
   ]
  },
  {
   "cell_type": "code",
   "execution_count": 10,
   "id": "481241c8",
   "metadata": {},
   "outputs": [
    {
     "data": {
      "text/plain": [
       "1"
      ]
     },
     "execution_count": 10,
     "metadata": {},
     "output_type": "execute_result"
    }
   ],
   "source": [
    "bacon.index('cat')"
   ]
  },
  {
   "cell_type": "markdown",
   "id": "e0069386",
   "metadata": {},
   "source": [
    "##### 7. How does bacon.append(99) change the look of the list value in bacon?"
   ]
  },
  {
   "cell_type": "code",
   "execution_count": 11,
   "id": "b91dba6a",
   "metadata": {},
   "outputs": [],
   "source": [
    "bacon.append(99) #the append() function is a built-in function for lists and other mutable sequence"
   ]
  },
  {
   "cell_type": "code",
   "execution_count": 12,
   "id": "fc1c8c60",
   "metadata": {},
   "outputs": [
    {
     "data": {
      "text/plain": [
       "[3.14, 'cat', 11, 'cat', True, 99]"
      ]
     },
     "execution_count": 12,
     "metadata": {},
     "output_type": "execute_result"
    }
   ],
   "source": [
    "bacon   #modifies the original list by adding the object in place to thhe end of the list\n",
    "        #and returns None. Note It does not create a new list."
   ]
  },
  {
   "cell_type": "markdown",
   "id": "8a298546",
   "metadata": {},
   "source": [
    "##### 8. How does bacon.remove('cat') change the look of the list in bacon?"
   ]
  },
  {
   "cell_type": "code",
   "execution_count": 13,
   "id": "a703f195",
   "metadata": {},
   "outputs": [],
   "source": [
    "bacon.remove('cat') #the remove() function used to remove the first occurrence of a specified element from a list"
   ]
  },
  {
   "cell_type": "code",
   "execution_count": 14,
   "id": "a31e58e3",
   "metadata": {},
   "outputs": [
    {
     "data": {
      "text/plain": [
       "[3.14, 11, 'cat', True, 99]"
      ]
     },
     "execution_count": 14,
     "metadata": {},
     "output_type": "execute_result"
    }
   ],
   "source": [
    "bacon    # If the element is present multiple times, then it removes only the first occurrence of the element\n",
    "         #If the element is not present in the list, then it raises a ValueError exception."
   ]
  },
  {
   "cell_type": "markdown",
   "id": "92c13a67",
   "metadata": {},
   "source": [
    "##### 9. What are the list concatenation and list replication operators?"
   ]
  },
  {
   "cell_type": "markdown",
   "id": "41a1634b",
   "metadata": {},
   "source": [
    ">In Python, the list concatenation operator is the plus sign (+), which allows you to combine two or more lists into a single list. For example"
   ]
  },
  {
   "cell_type": "code",
   "execution_count": 15,
   "id": "af6d756b",
   "metadata": {},
   "outputs": [
    {
     "name": "stdout",
     "output_type": "stream",
     "text": [
      "[1, 2, 3, 4, 5, 6]\n"
     ]
    }
   ],
   "source": [
    "list1 = [1, 2, 3]\n",
    "list2 = [4, 5, 6]\n",
    "concatenated_list = list1 + list2\n",
    "print(concatenated_list) # Output: [1, 2, 3, 4, 5, 6]"
   ]
  },
  {
   "cell_type": "markdown",
   "id": "984591fd",
   "metadata": {},
   "source": [
    ">The list replication operator is the asterisk (*) symbol, which allows you to create a new list by repeating an existing list a specified number of times."
   ]
  },
  {
   "cell_type": "code",
   "execution_count": 16,
   "id": "34eefce4",
   "metadata": {},
   "outputs": [
    {
     "name": "stdout",
     "output_type": "stream",
     "text": [
      "[1, 2, 3, 1, 2, 3, 1, 2, 3]\n"
     ]
    }
   ],
   "source": [
    "list1 = [1, 2, 3]\n",
    "replicated_list = list1 * 3\n",
    "print(replicated_list) # Output: [1, 2, 3, 1, 2, 3, 1, 2, 3]\n"
   ]
  },
  {
   "cell_type": "markdown",
   "id": "48c5856d",
   "metadata": {},
   "source": [
    "##### 10. What is difference between the list methods append() and insert()?"
   ]
  },
  {
   "cell_type": "markdown",
   "id": "45e8e1f3",
   "metadata": {},
   "source": [
    "append() method adds a new element to the end of a list. It takes one argument, the element that you want to add to the list, and adds it to the end of the list. For example, consider the following code:"
   ]
  },
  {
   "cell_type": "code",
   "execution_count": 17,
   "id": "1d811fec",
   "metadata": {},
   "outputs": [
    {
     "name": "stdout",
     "output_type": "stream",
     "text": [
      "[1, 2, 3, 4]\n"
     ]
    }
   ],
   "source": [
    "my_list = [1, 2, 3]\n",
    "my_list.append(4)\n",
    "print(my_list)\n"
   ]
  },
  {
   "cell_type": "markdown",
   "id": "912ca584",
   "metadata": {},
   "source": [
    "insert() method, on the other hand, adds a new element at a specified position in the list. It takes two arguments: the first argument is the index where you want to insert the new element, and the second argument is the element that you want to insert. For example, consider the following code:"
   ]
  },
  {
   "cell_type": "code",
   "execution_count": 18,
   "id": "dbe9af86",
   "metadata": {},
   "outputs": [
    {
     "name": "stdout",
     "output_type": "stream",
     "text": [
      "[1, 4, 2, 3]\n"
     ]
    }
   ],
   "source": [
    "my_list = [1, 2, 3]\n",
    "my_list.insert(1, 4)\n",
    "print(my_list)\n"
   ]
  },
  {
   "cell_type": "markdown",
   "id": "5dfb9836",
   "metadata": {},
   "source": [
    "##### 11. What are the two methods for removing items from a list?"
   ]
  },
  {
   "cell_type": "markdown",
   "id": "059d597b",
   "metadata": {},
   "source": [
    " there are two methods for removing items from a list: pop() and remove()\n",
    ">pop(): This method removes an element from a list at a specified index, and returns the removed element. It takes one optional argument, which is the index of the element that you want to remove. If no argument is passed, pop() will remove and return the last element of the list. For example:"
   ]
  },
  {
   "cell_type": "code",
   "execution_count": 20,
   "id": "4b4f2fda",
   "metadata": {},
   "outputs": [
    {
     "name": "stdout",
     "output_type": "stream",
     "text": [
      "[1, 3]\n",
      "2\n"
     ]
    }
   ],
   "source": [
    "my_list = [1, 2, 3]\n",
    "removed_element = my_list.pop(1)\n",
    "print(my_list)\n",
    "print(removed_element)\n"
   ]
  },
  {
   "cell_type": "markdown",
   "id": "0bf3e30b",
   "metadata": {},
   "source": [
    "the pop() method removed the element at index 1 from the list, which was 2, and returned it. The resulting list is [1, 3].\n",
    "If the index provided to pop() is out of range, it will raise an IndexError exception.\n",
    "\n",
    ">remove(): This method removes the first occurrence of a specified value from the list. It takes one argument, which is the value that you want to remove. For example:"
   ]
  },
  {
   "cell_type": "code",
   "execution_count": 21,
   "id": "1281869f",
   "metadata": {},
   "outputs": [
    {
     "name": "stdout",
     "output_type": "stream",
     "text": [
      "[1, 3, 2]\n"
     ]
    }
   ],
   "source": [
    "my_list = [1, 2, 3, 2]\n",
    "my_list.remove(2)\n",
    "print(my_list)\n"
   ]
  },
  {
   "cell_type": "markdown",
   "id": "529ffef0",
   "metadata": {},
   "source": [
    " the remove() method removed the first occurrence of the value 2 from the list.\n",
    "If the value to be removed is not in the list, the method will raise a ValueError exception."
   ]
  },
  {
   "cell_type": "markdown",
   "id": "58fde7c8",
   "metadata": {},
   "source": [
    "##### 12. Describe how list values and string values are identical."
   ]
  },
  {
   "cell_type": "markdown",
   "id": "0d305b56",
   "metadata": {},
   "source": [
    "List values and string values share some similarities and characteristics, which can make them interchangeable in certain situations. Here are some ways that list and string values are identical:\n",
    "\n",
    ">Both are sequences: Lists and strings are both sequences of elements. In a string, the elements are individual characters, while in a list, they can be any kind of object.\n",
    "\n",
    ">Both are ordered: The elements in both lists and strings are ordered, meaning that they have a specific index that determines their position within the sequence.\n",
    "\n",
    ">Both are iterable: Both lists and strings can be iterated over using loops, allowing you to access each element in the sequence in turn.\n",
    "\n",
    ">Both support slicing: Both lists and strings support slicing, which allows you to extract a subset of the elements from the sequence.\n",
    "\n",
    ">Both support concatenation: Both lists and strings support concatenation, which means that you can combine two or more sequences to create a new sequence."
   ]
  },
  {
   "cell_type": "markdown",
   "id": "0d9ac045",
   "metadata": {},
   "source": [
    "##### 13. What's the difference between tuples and lists?"
   ]
  },
  {
   "cell_type": "markdown",
   "id": "c5e6cc3c",
   "metadata": {},
   "source": [
    "A list is a collection of ordered and mutable elements, whereas a tuple is a collection of ordered and immutable elements. Here are some key differences between the two:\n",
    "\n",
    ">Mutability: Tuples are immutable, which means their values cannot be changed once they are created. Lists are mutable, so you can add, remove, or modify elements in a list.\n",
    "\n",
    ">Syntax: A tuple is defined using parentheses, while a list is defined using square brackets. For example, a tuple might look like this: (1, 2, 3), while a list might look like this: [1, 2, 3].\n",
    "\n",
    ">Size: Lists can grow or shrink dynamically as elements are added or removed, whereas tuples have a fixed size.\n",
    "\n",
    ">Performance: Since tuples are immutable, they are faster than lists when it comes to operations like indexing or iterating over elements."
   ]
  },
  {
   "cell_type": "markdown",
   "id": "77af4226",
   "metadata": {},
   "source": [
    "##### 14. How do you type a tuple value that only contains the integer 42?"
   ]
  },
  {
   "cell_type": "code",
   "execution_count": 22,
   "id": "1fe90b66",
   "metadata": {},
   "outputs": [],
   "source": [
    "a_tuple = (42,)       #Note that the comma after the 42 is necessary to indicate that this is a tuple with one element.\n",
    "                      #Without the comma, Python would interpret the expression as an integer rather than a tuple."
   ]
  },
  {
   "cell_type": "markdown",
   "id": "8b16b566",
   "metadata": {},
   "source": [
    "##### 15. How do you get a list value's tuple form? How do you get a tuple value's list form?"
   ]
  },
  {
   "cell_type": "markdown",
   "id": "6219a03f",
   "metadata": {},
   "source": [
    "To get a list value's tuple form in Python, you can use the built-in tuple() function. This converts the list my_list into a tuple my_tuple as seen in the example below:"
   ]
  },
  {
   "cell_type": "code",
   "execution_count": 23,
   "id": "fd753737",
   "metadata": {},
   "outputs": [
    {
     "name": "stdout",
     "output_type": "stream",
     "text": [
      "(1, 2, 3)\n"
     ]
    }
   ],
   "source": [
    "my_list = [1, 2, 3]\n",
    "my_tuple = tuple(my_list)\n",
    "print(my_tuple)  # Output: (1, 2, 3)\n"
   ]
  },
  {
   "cell_type": "markdown",
   "id": "31e116a4",
   "metadata": {},
   "source": [
    "While to get a tuple value's list form, you can use the built-in list() function.This converts the tuple my_tuple into a list my_list. Here's an example:"
   ]
  },
  {
   "cell_type": "code",
   "execution_count": 24,
   "id": "366b8fff",
   "metadata": {},
   "outputs": [
    {
     "name": "stdout",
     "output_type": "stream",
     "text": [
      "[1, 2, 3]\n"
     ]
    }
   ],
   "source": [
    "my_tuple = (1, 2, 3)\n",
    "my_list = list(my_tuple)\n",
    "print(my_list)  # Output: [1, 2, 3]\n"
   ]
  },
  {
   "cell_type": "markdown",
   "id": "4b0b1535",
   "metadata": {},
   "source": [
    "##### 16. Variables that \"contain\" list values are not necessarily lists themselves. Instead, what do they contain?"
   ]
  },
  {
   "cell_type": "markdown",
   "id": "e82f8646",
   "metadata": {},
   "source": [
    "Variables that \"contain\" list values in Python are actually references or pointers to the memory locations where the list objects are stored. This means that the variables themselves do not actually contain the list values, but rather they point to the location in memory where the list is stored.\n",
    "\n",
    "When we create a list in Python, the interpreter allocates memory to store the list's values and returns a reference to the memory location where the list is stored. We can then assign this reference to a variable, which allows us to access and manipulate the list values using that variable.\n",
    "\n",
    "This distinction can be important when working with mutable objects like lists, because changes made to the object through one variable will be reflected in all other variables that point to the same object."
   ]
  },
  {
   "cell_type": "markdown",
   "id": "d59a4c8c",
   "metadata": {},
   "source": [
    "##### 17. How do you distinguish between copy.copy() and copy.deepcopy()?"
   ]
  },
  {
   "cell_type": "markdown",
   "id": "9f5087da",
   "metadata": {},
   "source": [
    "copy.copy() and copy.deepcopy() are both functions in Python's copy module that can be used to create copies of objects. However, they behave differently when it comes to nested objects (objects that contain other objects).\n",
    "\n",
    ">copy.copy() creates a shallow copy of an object. This means that if the object being copied contains other objects, those objects are not actually copied, but are instead referenced by the new object. This can lead to unexpected behavior if the original object is modified, as the copied object may also be affected.\n",
    "\n",
    ">On the other hand, copy.deepcopy() creates a deep copy of an object. This means that all of the objects contained within the original object are also copied recursively, so that the new object is completely independent of the original object. This is useful when you want to modify the copied object without affecting the original object."
   ]
  },
  {
   "cell_type": "code",
   "execution_count": 25,
   "id": "99c0ae90",
   "metadata": {},
   "outputs": [
    {
     "name": "stdout",
     "output_type": "stream",
     "text": [
      "[[9, 2, 3], [4, 5, 6]]\n",
      "[[9, 2, 3], [4, 5, 6]]\n",
      "[[1, 2, 3], [4, 5, 6]]\n"
     ]
    }
   ],
   "source": [
    "import copy\n",
    "\n",
    "original = [[1, 2, 3], [4, 5, 6]]\n",
    "shallow_copy = copy.copy(original)\n",
    "deep_copy = copy.deepcopy(original)\n",
    "\n",
    "original[0][0] = 9\n",
    "\n",
    "print(original)     # Output: [[9, 2, 3], [4, 5, 6]]\n",
    "print(shallow_copy)  # Output: [[9, 2, 3], [4, 5, 6]]\n",
    "print(deep_copy)     # Output: [[1, 2, 3], [4, 5, 6]]\n"
   ]
  },
  {
   "cell_type": "code",
   "execution_count": null,
   "id": "6be20b75",
   "metadata": {},
   "outputs": [],
   "source": []
  }
 ],
 "metadata": {
  "kernelspec": {
   "display_name": "Python 3",
   "language": "python",
   "name": "python3"
  },
  "language_info": {
   "codemirror_mode": {
    "name": "ipython",
    "version": 3
   },
   "file_extension": ".py",
   "mimetype": "text/x-python",
   "name": "python",
   "nbconvert_exporter": "python",
   "pygments_lexer": "ipython3",
   "version": "3.8.8"
  }
 },
 "nbformat": 4,
 "nbformat_minor": 5
}
