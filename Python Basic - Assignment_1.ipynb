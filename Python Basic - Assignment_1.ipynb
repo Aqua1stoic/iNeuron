{
 "cells": [
  {
   "cell_type": "markdown",
   "id": "adfcd887",
   "metadata": {},
   "source": [
    "##### 1. In the below elements which of them are values or an expression? eg:- values can be\n",
    "integer or string and expressions will be mathematical operators.\n",
    "\n",
    "( * )  =Expression (mathematical operator)\n",
    "\n",
    "('hello')  =Value (string)\n",
    "\n",
    "(-87.8) =Value (float)\n",
    "\n",
    "( - )   =Expression (mathematical operator)\n",
    "\n",
    "( / )   =Expression (mathematical operator)\n",
    "\n",
    "( + )   =Expression (mathematical operator)\n",
    "\n",
    "( 6 )    =Value (Integer)"
   ]
  },
  {
   "cell_type": "code",
   "execution_count": null,
   "id": "6e075e8d",
   "metadata": {},
   "outputs": [],
   "source": []
  },
  {
   "cell_type": "markdown",
   "id": "7a64b736",
   "metadata": {},
   "source": [
    "##### 2. What is the difference between string and variable?\n",
    "\n",
    "\n",
    "Variables are symbols that you can use to store data in a program. They can be thought of as an empty box that you fill with some data or value, and it's content can variably be changed. \n",
    "\n",
    "While A String is an iterative data type which is typically a collection of characters with , Or we can call a string a One Dimensional Array of character terminated by a null ('\\0')"
   ]
  },
  {
   "cell_type": "code",
   "execution_count": null,
   "id": "4b4a823a",
   "metadata": {},
   "outputs": [],
   "source": []
  },
  {
   "attachments": {},
   "cell_type": "markdown",
   "id": "ab342644",
   "metadata": {},
   "source": [
    "##### 3. Describe three different data types.\n",
    "\n",
    "(1) Boolean DataType are used to represent Boolean values in Python. They can be displayed as \"bool\" can be one of two values, either True or False. We use Booleans in programming to make comparisons and to control the flow of the program.\n",
    "True and False are keywords , so case sensitivity must be remembered while assigning them otherwise Python will give error\n",
    "All test conditions in Python return the result as bool which could be either True or False\n",
    "For Example >>b = 15\n",
    "            >>a = 15.5\n",
    "            >>print(a>b)\n",
    "            False\n",
    "All test conditions in Python return the result as bool which could be either True or False \n",
    "\n",
    "\n",
    "\n",
    "\n",
    "(2) Float DataType or floating-point are real values that Python also supports which are specified with a decimal pointJust like double data type of other languages like Java/C , float in Python has a precision of 16 digits\n",
    "For example >>So 2.5 , 3.14 , 6.9 etc are all examples of float data type\n",
    "Exponential notation is a scientific notation which is represented using e or E followed by an integer and it means to the power of 10 and float value can also be a representation of Exponential values. \n",
    "For example     >> a = 3.54e4\n",
    "                >>print(a)\n",
    "                35400.0\n",
    "\n",
    "\n",
    "\n",
    "\n",
    "(3) The Complex DataType are numbers written in the form, x + yj; where x is the real part and y is the imaginary part. \n",
    "For example: 4+3j , 12+1j etc\n",
    "    The letter j is called unit imaginary number.It denotes the value of √-1 {root of minus 1}, i.e j² denotes -1\n",
    "For representing the unit imaginary number we are only allowed to use the letter j (both upper and lower case are allowed).\n",
    "Any other letter if used will generate error. The letter j , should only appear in suffix , not in prefix\n",
    "We can display real and imaginary part separately by using the attributes of complex types called “real” and “imag”.\n",
    "For example >>q = 4+3j\n",
    "            >>print(q.real)\n",
    "            4.0\n",
    "            >>print(q.imag)\n",
    "            3.0"
   ]
  },
  {
   "cell_type": "code",
   "execution_count": null,
   "id": "982d2161",
   "metadata": {},
   "outputs": [],
   "source": []
  },
  {
   "cell_type": "markdown",
   "id": "cb9487c5",
   "metadata": {},
   "source": [
    "##### 4. What is an expression made up of? What do all expressions do?\n",
    "\n",
    "\n",
    "In Python, an Expression is a combination of operands and operators to produces some value or result after being interpreted by the Python interpreter\n",
    "examples 3x + 10 -17y\n",
    "\n",
    "All Expressions are representations of value. They are different from statement in the fact that statements do something while expressions are representation of value. For example any string is also an expressions since it represents the value of the string as well."
   ]
  },
  {
   "cell_type": "code",
   "execution_count": null,
   "id": "ca29161b",
   "metadata": {},
   "outputs": [],
   "source": []
  },
  {
   "cell_type": "markdown",
   "id": "c8221d83",
   "metadata": {},
   "source": [
    "##### 5. This assignment statements, like spam = 10. What is the difference between an expression and a statement?\n",
    "\n",
    "An Expression is a combination of values, variables, operators, and function calls that evaluates to a single value. In other words, an expression is something that produces a value. Examples of expressions include:\n",
    "2 + 3\n",
    "\"hello\" + \"world\"\n",
    "5y(3+4)\n",
    "\n",
    "A Statement is a complete line of code that performs a specific action. A statement can consist of one or more expressions, as well as keywords, operators, and other elements of the programming language. Examples of statements include:\n",
    "spam = 10\n",
    "if x > 5:\n",
    "    print(\"x is greater than 5\")\n",
    "for i in range(10):\n",
    "    print(i)\n",
    "\n",
    "The main difference between an expression and a statement is that an expression produces a value, while a statement does not necessarily do so. Statements perform actions such as assigning values to variables, controlling the flow of a program with conditionals and loops, or calling functions to perform specific tasks"
   ]
  },
  {
   "cell_type": "code",
   "execution_count": null,
   "id": "74232b9a",
   "metadata": {},
   "outputs": [],
   "source": []
  },
  {
   "cell_type": "markdown",
   "id": "ba209a52",
   "metadata": {},
   "source": [
    "###### 6. After running the following code, what does the variable bacon contain?\n",
    "bacon = 22\n",
    "\n",
    "bacon + 1"
   ]
  },
  {
   "cell_type": "code",
   "execution_count": 9,
   "id": "5f12c8aa",
   "metadata": {},
   "outputs": [
    {
     "data": {
      "text/plain": [
       "23"
      ]
     },
     "execution_count": 9,
     "metadata": {},
     "output_type": "execute_result"
    }
   ],
   "source": [
    "bacon = 22\n",
    "bacon +1"
   ]
  },
  {
   "cell_type": "code",
   "execution_count": null,
   "id": "d401c871",
   "metadata": {},
   "outputs": [],
   "source": []
  },
  {
   "cell_type": "markdown",
   "id": "e959c701",
   "metadata": {},
   "source": [
    "##### 7. What should the values of the following two terms be?\n",
    ">'spam' + 'spamspam'\n",
    "\n",
    "\n",
    ">'spam'*3"
   ]
  },
  {
   "cell_type": "code",
   "execution_count": 12,
   "id": "fd22052d",
   "metadata": {},
   "outputs": [
    {
     "data": {
      "text/plain": [
       "'spamspamspam'"
      ]
     },
     "execution_count": 12,
     "metadata": {},
     "output_type": "execute_result"
    }
   ],
   "source": [
    "'spam' + 'spamspam'"
   ]
  },
  {
   "cell_type": "code",
   "execution_count": 11,
   "id": "38cd28ea",
   "metadata": {},
   "outputs": [
    {
     "data": {
      "text/plain": [
       "'spamspamspam'"
      ]
     },
     "execution_count": 11,
     "metadata": {},
     "output_type": "execute_result"
    }
   ],
   "source": [
    "'spam'*3"
   ]
  },
  {
   "cell_type": "code",
   "execution_count": null,
   "id": "b0b234a1",
   "metadata": {},
   "outputs": [],
   "source": []
  },
  {
   "cell_type": "markdown",
   "id": "b37770ea",
   "metadata": {},
   "source": [
    "##### 8. Why is eggs a valid variable name while 100 is invalid?\n",
    "\n",
    "In Python programming languages, variable names must follow certain rules in order to be considered valid. Some of the rules include:\n",
    "\n",
    "    Variable names must start with a letter or underscore (_). They cannot start with a number.\n",
    "\n",
    "    Variable names can contain letters, numbers, and underscores. They cannot contain spaces or other special characters.\n",
    "\n",
    "    Variable names are case-sensitive. For example, \"Eggs\" and \"eggs\" would be considered two different variable names."
   ]
  },
  {
   "cell_type": "markdown",
   "id": "056498ea",
   "metadata": {},
   "source": [
    "##### 9. What three functions can be used to get the integer, floating-point number, or string version of a value?\n",
    "\n",
    "The following three built-in functions can be used to convert a value to an integer, floating-point number, or string:\n",
    "\n",
    "> int(): This function can be used to convert a value to an integer. For example, int('10') would return the integer 10.\n",
    "\n",
    ">float(): This function can be used to convert a value to a floating-point number. For example, float('3.14') would return the floating-point number 3.14.\n",
    "\n",
    ">str(): This function can be used to convert a value to a string. For example, str(42) would return the string '42'."
   ]
  },
  {
   "cell_type": "markdown",
   "id": "24262fb9",
   "metadata": {},
   "source": [
    "##### 10. Why does this expression cause an error? How can you fix it?\n",
    ">\"I have eaten\" + 99 + \"burritos.\"\n",
    "\n",
    "\n",
    "The expression \"I have eaten\" + 99 + \" burritos.\" would cause a TypeError in Python because it is attempting to concatenate a string (\"I have eaten\") with an integer (99) using the (+) operator. In Python, the (+) operator cannot concatenate a string and an integer directly.\n",
    "To fix this error and concatenate the integer value with the string, we need to convert the integer to a string using the str() function. Here's the corrected expression"
   ]
  },
  {
   "cell_type": "code",
   "execution_count": 14,
   "id": "330eeb67",
   "metadata": {},
   "outputs": [
    {
     "data": {
      "text/plain": [
       "'I have eaten99burritos.'"
      ]
     },
     "execution_count": 14,
     "metadata": {},
     "output_type": "execute_result"
    }
   ],
   "source": [
    "\"I have eaten\" + str(99) + \"burritos.\""
   ]
  },
  {
   "cell_type": "code",
   "execution_count": null,
   "id": "06debb76",
   "metadata": {},
   "outputs": [],
   "source": []
  }
 ],
 "metadata": {
  "kernelspec": {
   "display_name": "Python 3",
   "language": "python",
   "name": "python3"
  },
  "language_info": {
   "codemirror_mode": {
    "name": "ipython",
    "version": 3
   },
   "file_extension": ".py",
   "mimetype": "text/x-python",
   "name": "python",
   "nbconvert_exporter": "python",
   "pygments_lexer": "ipython3",
   "version": "3.8.8"
  }
 },
 "nbformat": 4,
 "nbformat_minor": 5
}
