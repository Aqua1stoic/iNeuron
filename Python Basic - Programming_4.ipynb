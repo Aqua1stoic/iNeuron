{
 "cells": [
  {
   "cell_type": "markdown",
   "id": "78081dda",
   "metadata": {},
   "source": [
    "##### 1. Write a Python Program to Find the Factorial of a Number?"
   ]
  },
  {
   "cell_type": "code",
   "execution_count": 1,
   "id": "0ec9f1d3",
   "metadata": {},
   "outputs": [
    {
     "name": "stdout",
     "output_type": "stream",
     "text": [
      "Enter a number: 6\n",
      "The factorial of 6 is 720\n"
     ]
    }
   ],
   "source": [
    "num = int(input(\"Enter a number: \"))\n",
    "\n",
    "factorial = 1\n",
    "for i in range(1, num + 1):\n",
    "    factorial *= i\n",
    "\n",
    "print(\"The factorial of\", num, \"is\", factorial)\n"
   ]
  },
  {
   "cell_type": "markdown",
   "id": "8853ca1d",
   "metadata": {},
   "source": [
    "##### 2. Write a Python Program to Display the multiplication Table?"
   ]
  },
  {
   "cell_type": "code",
   "execution_count": 4,
   "id": "92311be5",
   "metadata": {},
   "outputs": [
    {
     "name": "stdout",
     "output_type": "stream",
     "text": [
      "Enter a number: 17\n",
      "17 x 1 = 17\n",
      "17 x 2 = 34\n",
      "17 x 3 = 51\n",
      "17 x 4 = 68\n",
      "17 x 5 = 85\n",
      "17 x 6 = 102\n",
      "17 x 7 = 119\n",
      "17 x 8 = 136\n",
      "17 x 9 = 153\n",
      "17 x 10 = 170\n"
     ]
    }
   ],
   "source": [
    "# take input from the user\n",
    "num = int(input(\"Enter a number: \"))\n",
    "\n",
    "# display the multiplication table\n",
    "for i in range(1, 11):\n",
    "   print(num, \"x\", i, \"=\", num*i)"
   ]
  },
  {
   "cell_type": "markdown",
   "id": "b768bdd1",
   "metadata": {},
   "source": [
    "##### 3. Write a Python Program to Print the Fibonacci sequence?"
   ]
  },
  {
   "cell_type": "markdown",
   "id": "f15755ad",
   "metadata": {},
   "source": [
    "The Fibonacci sequence is a series of numbers in which each number after the first two is the sum of the two preceding ones. The sequence goes like this: 0, 1, 1, 2, 3, 5, 8, 13, 21, 34, 55, 89, 144, 233, 377, 610, 987, 1597, 2584, 4181, 6765, 10946, 17711, 28657, 46368, 75025, 121393, 196418, 317811, 514229, 832040, 1346269, 2178309, 3524578, 5702887, 9227465, 14930352, 24157817, 39088169, 63245986, 102334155, 165580141, 267914296, 433494437, 701408733, 1134903170, 1836311903, etc."
   ]
  },
  {
   "cell_type": "code",
   "execution_count": 5,
   "id": "2a8467f0",
   "metadata": {},
   "outputs": [
    {
     "name": "stdout",
     "output_type": "stream",
     "text": [
      "Enter the number of terms: 5\n",
      "Fibonacci sequence:\n",
      "0\n",
      "1\n",
      "1\n",
      "2\n",
      "3\n"
     ]
    }
   ],
   "source": [
    "# take input from the user\n",
    "terms = int(input(\"Enter the number of terms: \"))\n",
    "\n",
    "# initialize variables\n",
    "num1, num2 = 0, 1\n",
    "count = 0\n",
    "\n",
    "# check if the number of terms is valid\n",
    "if terms <= 0:\n",
    "   print(\"Please enter a positive integer.\")\n",
    "elif terms == 1:\n",
    "   print(\"Fibonacci sequence upto\",terms,\":\")\n",
    "   print(num1)\n",
    "else:\n",
    "   print(\"Fibonacci sequence:\")\n",
    "   while count < terms:\n",
    "       print(num1)\n",
    "       nth = num1 + num2\n",
    "       num1 = num2\n",
    "       num2 = nth\n",
    "       count += 1\n"
   ]
  },
  {
   "cell_type": "markdown",
   "id": "35c50abd",
   "metadata": {},
   "source": [
    "##### 4. Write a Python Program to Check Armstrong Number?"
   ]
  },
  {
   "cell_type": "markdown",
   "id": "793f77fc",
   "metadata": {},
   "source": [
    ">An Armstrong number is a number that is equal to the sum of its own digits raised to the power of the number of digits. \n",
    "\n",
    "For example, 153 is an Armstrong number because it is a 3-digit number and the sum of the cubes of its digits is equal to 153, i.e., 1^3 + 5^3 + 3^3 = 153. Similarly, 371 is also an Armstrong number because 3^3 + 7^3 + 1^3 = 371."
   ]
  },
  {
   "cell_type": "code",
   "execution_count": 6,
   "id": "eeff790c",
   "metadata": {},
   "outputs": [
    {
     "name": "stdout",
     "output_type": "stream",
     "text": [
      "Enter a number: 4633\n",
      "4633 is not an Armstrong number\n"
     ]
    }
   ],
   "source": [
    "# take input from the user\n",
    "num = int(input(\"Enter a number: \"))\n",
    "\n",
    "# initialize variables\n",
    "sum = 0\n",
    "order = len(str(num))\n",
    "\n",
    "# calculate sum of the cubes of each digit\n",
    "temp = num\n",
    "while temp > 0:\n",
    "   digit = temp % 10\n",
    "   sum += digit ** order\n",
    "   temp //= 10\n",
    "\n",
    "# display the result\n",
    "if num == sum:\n",
    "   print(num,\"is an Armstrong number\")\n",
    "else:\n",
    "   print(num,\"is not an Armstrong number\")\n"
   ]
  },
  {
   "cell_type": "markdown",
   "id": "90e6c617",
   "metadata": {},
   "source": [
    "In this program, we first take an integer input from the user using the input() function and int() function. We store this input in the variable num.\n",
    "\n",
    "Then, we initialize a variable sum to 0 and calculate the order of the number, which is the number of digits in the number, using the len() function and str() function.\n",
    "\n",
    "We then use a while loop to calculate the sum of the cubes of each digit in the number. In each iteration of the loop, we extract the last digit of the number using the modulo operator %, calculate its cube, and add it to the sum. We then remove the last digit from the number using integer division //. We repeat this process until all the digits of the number have been processed.\n",
    "\n",
    "Finally, we use an if statement to check if the sum of the cubes of the digits is equal to the original number. If it is, we print a message indicating that the number is an Armstrong number. Otherwise, we print a message indicating that the number is not an Armstrong number."
   ]
  },
  {
   "cell_type": "markdown",
   "id": "1c2d7e7c",
   "metadata": {},
   "source": [
    "##### 5. Write a Python Program to Find Armstrong Number in an Interval?"
   ]
  },
  {
   "cell_type": "code",
   "execution_count": null,
   "id": "8b795145",
   "metadata": {},
   "outputs": [],
   "source": [
    "# define a function to check if a number is an Armstrong number\n",
    "def is_armstrong(num):\n",
    "    # convert the number to a string to count the digits\n",
    "    num_str = str(num)\n",
    "    # count the number of digits in the number\n",
    "    num_digits = len(num_str)\n",
    "    # calculate the sum of the digits raised to the power of the number of digits\n",
    "    digit_sum = sum([int(digit) ** num_digits for digit in num_str])\n",
    "    # if the sum of the digits raised to the power of the number of digits is equal to the number, it is an Armstrong number\n",
    "    if digit_sum == num:\n",
    "        return True\n",
    "    else:\n",
    "        return False\n",
    "\n",
    "# take user input for the lower and upper limits of the interval\n",
    "lower = int(input(\"Enter lower range: \"))\n",
    "upper = int(input(\"Enter upper range: \"))\n",
    "\n",
    "# iterate over the range of numbers and check if they are Armstrong numbers\n",
    "for num in range(lower, upper + 1):\n",
    "    if is_armstrong(num):\n",
    "        print(num)\n"
   ]
  },
  {
   "cell_type": "code",
   "execution_count": null,
   "id": "6ecbd58b",
   "metadata": {},
   "outputs": [],
   "source": []
  },
  {
   "cell_type": "markdown",
   "id": "00e81e76",
   "metadata": {},
   "source": [
    "##### 6. Write a Python Program to Find the Sum of Natural Numbers?"
   ]
  },
  {
   "cell_type": "code",
   "execution_count": 7,
   "id": "1ecf7b42",
   "metadata": {},
   "outputs": [
    {
     "name": "stdout",
     "output_type": "stream",
     "text": [
      "Enter a positive integer: 10\n",
      "The sum of the first 10 natural numbers is: 55\n"
     ]
    }
   ],
   "source": [
    "# take input from the user\n",
    "num = int(input(\"Enter a positive integer: \"))\n",
    "\n",
    "# initialize variables\n",
    "sum = 0\n",
    "\n",
    "# use a loop to add up the numbers\n",
    "for i in range(1, num+1):\n",
    "    sum += i\n",
    "\n",
    "# display the result\n",
    "print(\"The sum of the first\", num, \"natural numbers is:\", sum)\n"
   ]
  },
  {
   "cell_type": "code",
   "execution_count": null,
   "id": "854ad4be",
   "metadata": {},
   "outputs": [],
   "source": []
  }
 ],
 "metadata": {
  "kernelspec": {
   "display_name": "Python 3",
   "language": "python",
   "name": "python3"
  },
  "language_info": {
   "codemirror_mode": {
    "name": "ipython",
    "version": 3
   },
   "file_extension": ".py",
   "mimetype": "text/x-python",
   "name": "python",
   "nbconvert_exporter": "python",
   "pygments_lexer": "ipython3",
   "version": "3.8.8"
  }
 },
 "nbformat": 4,
 "nbformat_minor": 5
}
