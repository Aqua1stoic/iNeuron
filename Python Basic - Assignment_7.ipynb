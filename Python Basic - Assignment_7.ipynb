{
 "cells": [
  {
   "cell_type": "markdown",
   "id": "24b945df",
   "metadata": {},
   "source": [
    "#### 1. What is the name of the feature responsible for generating Regex objects?"
   ]
  },
  {
   "cell_type": "markdown",
   "id": "96ae26cf",
   "metadata": {},
   "source": [
    "In Python, the feature responsible for generating regular expression objects is called the \"re\" module. The \"re\" module provides functions and methods for working with regular expressions, including the ability to compile regular expressions into pattern objects.\n",
    "Here's a simple example that demonstrates the usage of the \"re\" module to create a Regex object:"
   ]
  },
  {
   "cell_type": "code",
   "execution_count": 1,
   "id": "b25bb25a",
   "metadata": {},
   "outputs": [
    {
     "name": "stdout",
     "output_type": "stream",
     "text": [
      "Valid date format\n"
     ]
    }
   ],
   "source": [
    "import re\n",
    "\n",
    "# Compile a regular expression pattern\n",
    "pattern = re.compile(r'\\d{2}-\\d{2}-\\d{4}')  # Matches date in the format \"DD-MM-YYYY\"\n",
    "\n",
    "# Use the compiled pattern for matching\n",
    "result = pattern.match('31-12-2022')\n",
    "if result:\n",
    "    print(\"Valid date format\")\n",
    "else:\n",
    "    print(\"Invalid date format\")\n"
   ]
  },
  {
   "cell_type": "markdown",
   "id": "364356d6",
   "metadata": {},
   "source": [
    "In the above example, the re.compile() function is used to create a Regex object that matches a date in the format \"DD-MM-YYYY\". The pattern.match() method is then used to check if the input string '31-12-2022' matches the pattern."
   ]
  },
  {
   "cell_type": "markdown",
   "id": "b681af9f",
   "metadata": {},
   "source": [
    "#### 2. Why do raw strings often appear in Regex objects?"
   ]
  },
  {
   "cell_type": "markdown",
   "id": "2c7292c9",
   "metadata": {},
   "source": [
    "In Python, a raw string is created by prefixing the string literal with the letter 'r'.\n",
    "Raw strings are often used in regular expressions to avoid the need for excessive escaping of special characters.\n",
    "\n",
    "\n",
    "To simplify the handling of regular expressions, raw strings are commonly used because they treat backslashes as literal characters. This means that backslashes within a raw string are not used for escaping, and the backslash retains its literal meaning. This behavior is particularly useful in regular expressions, where backslashes are frequently used to escape metacharacters or introduce special sequences.\n",
    "\n",
    "In the below code, the raw string prefix 'r' is used to create a raw string literal. As a result, the double backslash '\\', which is necessary to represent a literal backslash in a regular expression pattern, is treated as a single backslash character. Without the raw string prefix, the pattern would need four backslashes '\\\\' to represent the desired regular expression pattern."
   ]
  },
  {
   "cell_type": "code",
   "execution_count": 1,
   "id": "cdab2d4f",
   "metadata": {},
   "outputs": [],
   "source": [
    "import re\n",
    "\n",
    "pattern = re.compile(r'\\\\(\\d)')\n"
   ]
  },
  {
   "cell_type": "markdown",
   "id": "78fc4619",
   "metadata": {},
   "source": [
    "#### 3. What is the return value of the search() method?"
   ]
  },
  {
   "cell_type": "markdown",
   "id": "c34ba3cb",
   "metadata": {},
   "source": [
    "The <b>search()</b> method of a regular expression object in Python returns a match object if a match is found, or <b>'None'</b> if no match is found.\n",
    "\n",
    "The match object represents the first occurrence of a pattern within a string. It provides information about the match, such as the matched substring, the starting and ending positions of the match, and other details."
   ]
  },
  {
   "cell_type": "code",
   "execution_count": 2,
   "id": "c0a9ec17",
   "metadata": {},
   "outputs": [
    {
     "name": "stdout",
     "output_type": "stream",
     "text": [
      "Match found: apple\n",
      "Starting position: 7\n",
      "Ending position: 12\n",
      "Matched substring: apple\n"
     ]
    }
   ],
   "source": [
    "import re\n",
    "\n",
    "pattern = re.compile(r'apple')\n",
    "result = pattern.search('I like apples and oranges.')\n",
    "\n",
    "if result:\n",
    "    print(\"Match found:\", result.group())  # prints \"Match found: apple\"\n",
    "    print(\"Starting position:\", result.start())  # prints \"Starting position: 7\"\n",
    "    print(\"Ending position:\", result.end())  # prints \"Ending position: 12\"\n",
    "    print(\"Matched substring:\", result.group(0))  # prints \"Matched substring: apple\"\n",
    "else:\n",
    "    print(\"No match found.\")\n"
   ]
  },
  {
   "cell_type": "markdown",
   "id": "18e3e376",
   "metadata": {},
   "source": [
    "In the above example, the <b>'search()'</b> method is used to find the first occurrence of the pattern 'apple' in the input string 'I like apples and oranges.' Since the pattern is found at index 7, the match object is returned. We can then access various attributes and methods of the match object, such as <b>'group()' , 'start()' , 'end()'</b>, to extract information about the match."
   ]
  },
  {
   "cell_type": "markdown",
   "id": "0a6ce3bc",
   "metadata": {},
   "source": [
    "#### 4. From a Match item, how do you get the actual strings that match the pattern?"
   ]
  },
  {
   "cell_type": "markdown",
   "id": "b29d2eea",
   "metadata": {},
   "source": [
    "To obtain the actual strings that match the pattern from a match object, you can use the <b>group()</b> method. The group() method returns the substring that was matched by the regular expression.\n",
    "\n",
    "By default, calling <b>group()</b> without any arguments returns the entire match. You can also provide an optional group number or a group name as an argument to group() to retrieve a specific matched subgroup if your regular expression contains capturing groups."
   ]
  },
  {
   "cell_type": "code",
   "execution_count": 3,
   "id": "014c252f",
   "metadata": {},
   "outputs": [
    {
     "name": "stdout",
     "output_type": "stream",
     "text": [
      "Match found: 31-12-2022\n",
      "Day: 31\n",
      "Month: 12\n",
      "Year: 2022\n"
     ]
    }
   ],
   "source": [
    "import re\n",
    "\n",
    "pattern = re.compile(r'(\\d+)-(\\d+)-(\\d+)')\n",
    "result = pattern.search('Date: 31-12-2022')\n",
    "\n",
    "if result:\n",
    "    print(\"Match found:\", result.group())  # prints \"Match found: 31-12-2022\"\n",
    "    print(\"Day:\", result.group(1))  # prints \"Day: 31\"\n",
    "    print(\"Month:\", result.group(2))  # prints \"Month: 12\"\n",
    "    print(\"Year:\", result.group(3))  # prints \"Year: 2022\"\n",
    "else:\n",
    "    print(\"No match found.\")\n"
   ]
  },
  {
   "cell_type": "markdown",
   "id": "1f33d323",
   "metadata": {},
   "source": [
    "Using <b>result.group()</b>, we retrieve the entire matched substring \"31-12-2022\". Additionally, we can use <b>result.group(1)</b>, <b>result.group(2)</b>, and <b>result.group(3)</b> to access the specific captured groups, which correspond to the day, month, and year components of the date respectively."
   ]
  },
  {
   "cell_type": "markdown",
   "id": "bbae9734",
   "metadata": {},
   "source": [
    "#### 5. In the regex which created from the r&#39;(\\d\\d\\d)-(\\d\\d\\d-\\d\\d\\d\\d)&#39;, what does group zero cover? Group 2? Group 1?"
   ]
  },
  {
   "cell_type": "code",
   "execution_count": null,
   "id": "bd68636e",
   "metadata": {},
   "outputs": [],
   "source": [
    "import re\n",
    "\n",
    "pattern = re.compile(r'(\\d\\d\\d)-(\\d\\d\\d-\\d\\d\\d\\d)')\n",
    "result = pattern.search('Phone: 123-456-7890')\n",
    "\n",
    "if result:\n",
    "    print(\"Match found:\", result.group())  # prints \"Match found: 123-456-7890\"\n",
    "    print(\"Group 0 (entire match):\", result.group(0))  # prints \"Group 0 (entire match): 123-456-7890\"\n",
    "    print(\"Group 1:\", result.group(1))  # prints \"Group 1: 123\"\n",
    "    print(\"Group 2:\", result.group(2))  # prints \"Group 2: 456-7890\"\n",
    "else:\n",
    "    print(\"No match found.\")\n"
   ]
  },
  {
   "cell_type": "markdown",
   "id": "522ad6f7",
   "metadata": {},
   "source": [
    "In the regular expression r'(\\d\\d\\d)-(\\d\\d\\d-\\d\\d\\d\\d)', which consists of two capturing groups, the group numbering starts from 1. Here's what each group represents:\n",
    "\n",
    ">Group 0: The entire match. It represents the entire substring that matches the entire regular expression pattern.\n",
    "\n",
    ">Group 1: This corresponds to the first capturing group (\\d\\d\\d). It captures a sequence of three digits.\n",
    "\n",
    ">Group 2: This corresponds to the second capturing group (\\d\\d\\d-\\d\\d\\d\\d). It captures a sequence of three digits followed by a hyphen and four digits."
   ]
  },
  {
   "cell_type": "markdown",
   "id": "71de7f4b",
   "metadata": {},
   "source": [
    "#### 6. In standard expression syntax, parentheses and intervals have distinct meanings. How can you tell a regex that you want it to fit real parentheses and periods?"
   ]
  },
  {
   "cell_type": "markdown",
   "id": "cf89cf69",
   "metadata": {},
   "source": [
    "In regular expressions, parentheses and periods have special meanings, as they are used to define groups and match any character (except newline), respectively. To match literal parentheses and periods in a regular expression, you can use the backslash \\ to escape these characters. By preceding the parentheses or periods with a backslash, you can instruct the regular expression engine to interpret them as literal characters instead of special metacharacters."
   ]
  },
  {
   "cell_type": "code",
   "execution_count": 4,
   "id": "fd26fca1",
   "metadata": {},
   "outputs": [
    {
     "name": "stdout",
     "output_type": "stream",
     "text": [
      "Match found: (Hello.)\n"
     ]
    }
   ],
   "source": [
    "import re\n",
    "\n",
    "pattern = re.compile(r'\\(Hello\\.\\)')\n",
    "result = pattern.search('Say (Hello.) to the world.')\n",
    "\n",
    "if result:\n",
    "    print(\"Match found:\", result.group())  # prints \"Match found: (Hello.)\"\n",
    "else:\n",
    "    print(\"No match found.\")\n"
   ]
  },
  {
   "cell_type": "markdown",
   "id": "bd7755ba",
   "metadata": {},
   "source": [
    "In this example, the regular expression pattern \\(Hello\\.\\) is used to match the string \"(Hello.)\". The parentheses and period in the pattern are escaped using backslashes \\, indicating that they should be treated as literal characters."
   ]
  },
  {
   "cell_type": "markdown",
   "id": "03168122",
   "metadata": {},
   "source": [
    "#### 7. The findall() method returns a string list or a list of string tuples. What causes it to return one of the two options?"
   ]
  },
  {
   "cell_type": "markdown",
   "id": "8981f4f2",
   "metadata": {},
   "source": [
    "The findall() method of a regular expression object in Python returns either a list of strings or a list of string tuples, depending on the presence of capturing groups in the regular expression pattern.\n",
    "\n",
    "If the regular expression pattern contains capturing groups, the findall() method returns a list of string tuples. Each tuple represents a match, and each element within the tuple corresponds to the captured groups.\n",
    "\n",
    "On the other hand, if the regular expression pattern does not contain any capturing groups, the findall() method returns a list of strings. Each string represents a complete match of the pattern.\n",
    "\n",
    "To illustrate the behavior, let's consider an example:"
   ]
  },
  {
   "cell_type": "code",
   "execution_count": 5,
   "id": "679ebee2",
   "metadata": {},
   "outputs": [
    {
     "name": "stdout",
     "output_type": "stream",
     "text": [
      "[('123', 'abc'), ('456', 'def')]\n"
     ]
    }
   ],
   "source": [
    "import re\n",
    "\n",
    "pattern = re.compile(r'(\\d+)-(\\w+)')\n",
    "result = pattern.findall('123-abc 456-def')\n",
    "\n",
    "print(result)\n"
   ]
  },
  {
   "cell_type": "markdown",
   "id": "e1b32db8",
   "metadata": {},
   "source": [
    "#### 8. In standard expressions, what does the | character mean?"
   ]
  },
  {
   "cell_type": "markdown",
   "id": "d6ebbf99",
   "metadata": {},
   "source": [
    "In regular expressions, the <b> \"|\"</b> is called a vertical bar or pipe symbol"
   ]
  },
  {
   "cell_type": "markdown",
   "id": "48272049",
   "metadata": {},
   "source": [
    "#### 9. In regular expressions, what does the character stand for?"
   ]
  },
  {
   "cell_type": "markdown",
   "id": "4c1a443c",
   "metadata": {},
   "source": [
    "The vertical bar or pipe symbol <b> \"|\"</b> is used as a logical OR operator. It allows you to specify multiple alternative patterns or options within a regular expression."
   ]
  },
  {
   "cell_type": "markdown",
   "id": "d8fe0488",
   "metadata": {},
   "source": [
    "#### 10. In regular expressions, what is the difference between the + and * characters?"
   ]
  },
  {
   "cell_type": "markdown",
   "id": "a93d064c",
   "metadata": {},
   "source": [
    "In regular expressions, the + and * characters are quantifiers used to specify the repetition of the preceding element in the pattern. They have different meanings and behaviors:\n",
    "\n",
    ">+ (Plus):\n",
    "- The + character matches one or more occurrences of the preceding element.\n",
    "- It requires that the preceding element must appear at least once in the input string, but it can repeat more than once.\n",
    "- For example, the pattern cat+ will match \"cat\", \"catt\", \"cattt\", and so on, but it will not match \"ca\" because the t is required to appear one or more times.\n",
    "\n",
    ">* (Asterisk):\n",
    "- The * character matches zero or more occurrences of the preceding element.\n",
    "- It allows for optional matching of the preceding element; it can appear zero times or any number of times.\n",
    "- For example, the pattern ab*c will match \"ac\", \"abc\", \"abbc\", \"abbbc\", and so on, including cases where the b is repeated zero times."
   ]
  },
  {
   "cell_type": "markdown",
   "id": "772adeb6",
   "metadata": {},
   "source": [
    "#### 11. What is the difference between {4} and {4,5} in regular expression?"
   ]
  },
  {
   "cell_type": "markdown",
   "id": "ca7ad623",
   "metadata": {},
   "source": [
    "In regular expressions, the curly braces {} are used as quantifiers to specify the exact number of repetitions of the preceding element. The numbers inside the curly braces indicate the range of repetition. The difference between {4} and {4,5} is as follows:\n",
    "\n",
    ">{4}: This specifies an exact repetition of the preceding element. It matches exactly four occurrences of the preceding element.\n",
    "For example, the pattern a{4} will match \"aaaa\" but will not match \"aaa\" or \"aaaaa\".\n",
    "\n",
    ">{4,5}: This specifies a range of repetition for the preceding element. It matches a minimum of four occurrences and a maximum of five occurrences of the preceding element.\n",
    "For example, the pattern a{4,5} will match \"aaaa\" and \"aaaaa\", but not \"aaa\" or \"aaaaaaaa\".\n",
    "\n",
    "It's worth noting that if you only provide a single number in the curly braces, such as {4,}, it means \"at least\" that many occurrences. For example, {4,} matches four or more occurrences of the preceding element"
   ]
  },
  {
   "cell_type": "markdown",
   "id": "016ed3cc",
   "metadata": {},
   "source": [
    "#### 12. What do you mean by the \\d, \\w, and \\s shorthand character classes signify in regular expressions?"
   ]
  },
  {
   "cell_type": "markdown",
   "id": "1ecca9d4",
   "metadata": {},
   "source": [
    "- \\d: This shorthand represents the digit character class. It matches any digit from 0 to 9. For example, the pattern \\d will match any single digit character.\n",
    "\n",
    "- \\w: This shorthand represents the word character class. It matches any alphanumeric character (letters A-Z, a-z, and digits 0-9) as well as the underscore character ( _ ).For example, the pattern \\w will match any single alphanumeric character or underscore.\n",
    "\n",
    "- \\s: This shorthand represents the whitespace character class. It matches any whitespace character, including spaces, tabs, and line breaks. For example, the pattern \\s will match a single whitespace character.\n",
    "\n",
    ">These shorthand character classes can be used in combination with other regular expression elements to form more complex patterns. For instance, \\d+ will match one or more consecutive digits, \\w* will match zero or more alphanumeric characters or underscores, and \\s? will match an optional whitespace character."
   ]
  },
  {
   "cell_type": "markdown",
   "id": "d322be88",
   "metadata": {},
   "source": [
    "#### 13. What do means by \\D, \\W, and \\S shorthand character classes signify in regular expressions?"
   ]
  },
  {
   "cell_type": "markdown",
   "id": "933df086",
   "metadata": {},
   "source": [
    "The uppercase counterparts \\D, \\W, and \\S are negated versions of the shorthand character classes \\d, \\w, and \\s, respectively. They represent the complement sets of characters that do not match the corresponding lowercase shorthand classes. Here's what each negated shorthand character class signifies:\n",
    "\n",
    "- \\D: This shorthand represents the negation of the digit character class. It matches any character that is not a digit. For example, the pattern \\D will match any character that is not a digit, such as letters, symbols, or whitespace.\n",
    "\n",
    "- \\W: This shorthand represents the negation of the word character class. It matches any character that is not an alphanumeric character or underscore.For example, the pattern \\W will match any character that is not an alphanumeric character or underscore, such as symbols or whitespace.\n",
    "\n",
    "- \\S: This shorthand represents the negation of the whitespace character class. It matches any character that is not a whitespace character. For example, the pattern \\S will match any character that is not a whitespace character, such as letters, digits, or symbols.\n",
    "\n",
    ">These negated shorthand character classes are useful when you want to match characters that do not belong to a specific character class. For example, \\D+ will match one or more consecutive non-digit characters, \\W* will match zero or more characters that are not alphanumeric or underscores, and \\S? will match an optional non-whitespace character."
   ]
  },
  {
   "cell_type": "markdown",
   "id": "d6ec623b",
   "metadata": {},
   "source": [
    "#### 14. What is the difference between '.* ?' and '.*' ?"
   ]
  },
  {
   "cell_type": "markdown",
   "id": "997a3efa",
   "metadata": {},
   "source": [
    "The difference between <b>. * ? </b> and <b> . *</b> lies in their behavior of matching characters in regular expressions. Let's explore each of them:\n",
    "> 1 <b>. * ?  (Reluctant / Lazy Quantifier):\n",
    "- The . * ? pattern is a combination of the .* expression and the ? modifier. It matches any character (except newline characters) zero or more times in a non-greedy or reluctant manner.\n",
    "- The ? modifier makes the preceding * or + quantifier lazy, meaning it matches as few characters as possible to satisfy the overall pattern.\n",
    "- For example, if you have the input string \"abcabcabc\", and the pattern is a '. * ?' c, the '. * ?' will match \"ab\" because it matches as few characters as possible to reach the subsequent \"c\" in the pattern."
   ]
  },
  {
   "cell_type": "markdown",
   "id": "4170d1e2",
   "metadata": {},
   "source": [
    "> 2 <b> . * (Greedy Quantifier):</b>\n",
    "\n",
    "- The '.* ' pattern, without the ? modifier, matches any character (except newline characters) zero or more times in a greedy manner.\n",
    "- The greedy behavior means it matches as many characters as possible to satisfy the overall pattern.\n",
    "- For example, if you have the input string \"abcabcabc\", and the pattern is a'.* 'c, the '.* ' will match \"abcabcab\" because it matches as many characters as possible until the last \"c\" in the pattern."
   ]
  },
  {
   "cell_type": "markdown",
   "id": "ff8babd4",
   "metadata": {},
   "source": [
    "#### 15. What is the syntax for matching both numbers and lowercase letters with a character class?"
   ]
  },
  {
   "cell_type": "markdown",
   "id": "29978bf6",
   "metadata": {},
   "source": [
    "In this syntax:\n",
    "\n",
    "- 0-9 represents the range of numbers from 0 to 9.\n",
    "- a-z represents the range of lowercase letters from \"a\" to \"z\".\n",
    "By combining these ranges within square brackets, [0-9a-z], you create a character class that matches any character that is either a number or a lowercase letter.\n",
    "\n",
    "For example, the pattern [0-9a-z]+ will match one or more consecutive occurrences of either a number or a lowercase letter.\n",
    "\n",
    "Here are a few examples of how this character class can be used:"
   ]
  },
  {
   "cell_type": "code",
   "execution_count": null,
   "id": "2f20fcfd",
   "metadata": {},
   "outputs": [],
   "source": [
    "[0-9a-z]       # Matches a single digit or lowercase letter\n",
    "[0-9a-z]+      # Matches one or more consecutive digits or lowercase letters\n",
    "[0-9a-z]{3}    # Matches exactly three digits or lowercase letters\n",
    "[0-9a-z]{2,4}  # Matches two to four consecutive digits or lowercase letters"
   ]
  },
  {
   "cell_type": "markdown",
   "id": "88324f8a",
   "metadata": {},
   "source": [
    "#### 16. What is the procedure for making a normal expression in regax case insensitive?"
   ]
  },
  {
   "cell_type": "markdown",
   "id": "6d7f9121",
   "metadata": {},
   "source": [
    "In Python, you can make a regular expression case insensitive by using the <b>\"re.IGNORECASE\"</b> flag or the <b>\"re.I\"</b> flag. Here's the procedure to create a case-insensitive regular expression:"
   ]
  },
  {
   "cell_type": "code",
   "execution_count": 2,
   "id": "0acf735c",
   "metadata": {},
   "outputs": [
    {
     "name": "stdout",
     "output_type": "stream",
     "text": [
      "Match found!\n"
     ]
    }
   ],
   "source": [
    "import re #                    (1) Import the regex module\n",
    "#                              (2) Construct your regular expression pattern using the desired case-insensitive pattern.\n",
    "text = \"I have an Apple\"#          For example, let's say we want to match the word \"apple\" in a case-insensitive manner.\n",
    "#                              (3) Compile the regular expression pattern using the re.compile() function\n",
    "pattern = re.compile(\"apple\", re.IGNORECASE) # and pass the re.IGNORECASE flag as the second argument:\n",
    "\n",
    "match = pattern.search(text)#(4)Use the compiled pattern with the desired regex function, such as match(),search(),or findall().\n",
    "\n",
    "if match:\n",
    "    print(\"Match found!\")\n",
    "else:\n",
    "    print(\"No match found.\")\n"
   ]
  },
  {
   "cell_type": "markdown",
   "id": "66fbc7c0",
   "metadata": {},
   "source": [
    "#### 17. What does the . character normally match? What does it match if re.DOTALL is passed as 2nd argument in re.compile()?"
   ]
  },
  {
   "cell_type": "markdown",
   "id": "995a727c",
   "metadata": {},
   "source": [
    "In regular expressions, the . (dot) character normally matches any character except a newline character (\\n). It matches a single occurrence of any character, including letters, digits, symbols, and whitespace, but it does not match newline characters.\n",
    "However, if the <b>re.DOTALL</b> flag (or <b>re.S</b> flag) is passed as the second argument when compiling a regular expression using <b>re.compile()</b>, the behavior of the <b>'.'</b> character changes. With <b>re.DOTALL</b> enabled, the <b>\".\"</b> character will match any character, including newline characters."
   ]
  },
  {
   "cell_type": "code",
   "execution_count": 3,
   "id": "f8542ae2",
   "metadata": {},
   "outputs": [
    {
     "name": "stdout",
     "output_type": "stream",
     "text": [
      "None\n",
      "<re.Match object; span=(0, 11), match='Hello\\nWorld'>\n"
     ]
    }
   ],
   "source": [
    "import re\n",
    "\n",
    "text = \"Hello\\nWorld\"\n",
    "\n",
    "pattern1 = re.compile(\"Hello.World\")\n",
    "match1 = pattern1.search(text)\n",
    "print(match1)  # No match because newline is not matched by '.'\n",
    "\n",
    "pattern2 = re.compile(\"Hello.World\", re.DOTALL)\n",
    "match2 = pattern2.search(text)\n",
    "print(match2)  # Match because newline is matched by '.'"
   ]
  },
  {
   "cell_type": "markdown",
   "id": "cc2258ff",
   "metadata": {},
   "source": [
    "In the above example, the input text contains a newline character between \"Hello\" and \"World\". The first pattern, <b>\"Hello.World\"</b>, is compiled without the <b>re.DOTALL</b> flag, so the dot does not match the newline character. Therefore, the <b>search()</b> function using this pattern does not find a match.\n",
    "\n",
    "On the other hand, the second pattern, <b>\"Hello.World\"</b>, is compiled with the <b>re.DOTALL</b> flag. This enables the dot to match any character, including newline characters. Therefore, the <b>search()</b> function using this pattern finds a match, considering the newline character between \"Hello\" and \"World\" as part of the match."
   ]
  },
  {
   "cell_type": "markdown",
   "id": "70d6b4dd",
   "metadata": {},
   "source": [
    "#### 18. If numReg = re.compile(r&#39;\\d+&#39;), what will numRegex.sub(&#39;X&#39;, &#39;11 drummers, 10 pipers, five rings, 4 hen&#39;) return?"
   ]
  },
  {
   "cell_type": "code",
   "execution_count": 5,
   "id": "1bb966e4",
   "metadata": {},
   "outputs": [
    {
     "name": "stdout",
     "output_type": "stream",
     "text": [
      "X drummers, X pipers, five rings, X hens\n"
     ]
    }
   ],
   "source": [
    "import re\n",
    "\n",
    "numRegex = re.compile(r'\\d+')\n",
    "result = numRegex.sub('X', '11 drummers, 10 pipers, five rings, 4 hens')\n",
    "print(result)"
   ]
  },
  {
   "cell_type": "markdown",
   "id": "6d7b435b",
   "metadata": {},
   "source": [
    "<b>Explanation</b>:\n",
    "\n",
    "- The regular expression pattern r'\\d+' matches one or more digits.\n",
    "- The numRegex.sub('X', '11 drummers, 10 pipers, five rings, 4 hens') statement substitutes all matches of the pattern in the second argument ('11 drummers, 10 pipers, five rings, 4 hens') with the replacement string 'X'.\n",
    "- In the input string, there are four matches for the pattern: \"11\", \"10\", \"4\", and \"5\" (although \"5\" is not matched due to the non-digit characters surrounding it).\n",
    "- Each match is replaced with the letter \"X\", resulting in the output string 'X drummers, X pipers, five rings, X hens'.\n",
    "- The numbers \"11\", \"10\", and \"4\" are replaced, while the word \"five\" (with non-digit characters) is not affected by the substitution."
   ]
  },
  {
   "cell_type": "markdown",
   "id": "07e3bc77",
   "metadata": {},
   "source": [
    "#### 19. What does passing re.VERBOSE as the 2nd argument to re.compile() allow to do?"
   ]
  },
  {
   "cell_type": "markdown",
   "id": "1f11b54d",
   "metadata": {},
   "source": [
    "Passing re.VERBOSE as the second argument to re.compile() allows you to write more readable and organized regular expressions by enabling verbose mode. Here's what it allows you to do:\n",
    "\n",
    "- Ignore Whitespace: The re.VERBOSE flag allows you to ignore whitespace and comments within the regular expression pattern. Whitespace characters (except those within character classes) and comments starting with # are ignored, allowing you to add spaces, line breaks, and indentation to improve readability.\n",
    "\n",
    "- Add Comments: You can add comments within the regular expression pattern using #. These comments are ignored by the regex engine and serve as a way to document and explain the pattern.\n",
    "\n",
    "- Enable Multiline Patterns: When using re.VERBOSE, a multiline regular expression pattern can be written across multiple lines, making it easier to structure and organize complex patterns."
   ]
  },
  {
   "cell_type": "code",
   "execution_count": 6,
   "id": "61050372",
   "metadata": {},
   "outputs": [
    {
     "name": "stdout",
     "output_type": "stream",
     "text": [
      "['123-4567', '987-6543', '555-1234']\n"
     ]
    }
   ],
   "source": [
    "import re\n",
    "\n",
    "pattern = re.compile(r\"\"\"\n",
    "    \\d{3}     # Match three digits\n",
    "    \\s*       # Match optional whitespace\n",
    "    -         # Match a hyphen\n",
    "    \\s*       # Match optional whitespace\n",
    "    \\d{4}     # Match four digits\n",
    "\"\"\", re.VERBOSE)\n",
    "\n",
    "text = \"Phone numbers: 123-4567, 987-6543, 555-1234\"\n",
    "matches = pattern.findall(text)\n",
    "print(matches)"
   ]
  },
  {
   "cell_type": "markdown",
   "id": "20b65e9a",
   "metadata": {},
   "source": [
    "In the above example, the regular expression pattern is written across multiple lines using re.VERBOSE. Whitespace and comments are used to improve readability and understanding of the pattern. The pattern matches phone numbers in the format \"###-####\". The resulting matches will be a list of phone numbers found in the input text.\n",
    "\n",
    "Using re.VERBOSE is optional, and it doesn't affect the functionality or the matching behavior of the regular expression. It only provides a way to make the pattern more readable and maintainable by ignoring whitespace and adding comments."
   ]
  },
  {
   "cell_type": "markdown",
   "id": "17b86ae2",
   "metadata": {},
   "source": [
    "#### 20. How would you write a regex that match a number with comma for every three digits? It must match the given following: &#39;42&#39; &#39;1,234&#39; &#39;6,368,745&#39;\n",
    "#### but not the following: &#39;12,34,567&#39; (which has only two digits between the commas) &#39;1234&#39; (which lacks commas)"
   ]
  },
  {
   "cell_type": "markdown",
   "id": "f2723ce2",
   "metadata": {},
   "source": [
    "To match a number with commas for every three digits, you can use the following regular expression pattern:\n",
    "\n",
    ">^\\d{1,3}(,\\d{3})*$\n"
   ]
  },
  {
   "cell_type": "code",
   "execution_count": 7,
   "id": "2c3c89ec",
   "metadata": {},
   "outputs": [
    {
     "name": "stdout",
     "output_type": "stream",
     "text": [
      "42 is a valid number.\n",
      "1,234 is a valid number.\n",
      "6,368,745 is a valid number.\n",
      "12,34,567 is not a valid number.\n",
      "1234 is not a valid number.\n"
     ]
    }
   ],
   "source": [
    "import re\n",
    "\n",
    "pattern = re.compile(r'^\\d{1,3}(,\\d{3})*$')\n",
    "\n",
    "numbers = ['42', '1,234', '6,368,745', '12,34,567', '1234']\n",
    "\n",
    "for number in numbers:\n",
    "    match = pattern.match(number)\n",
    "    if match:\n",
    "        print(f\"{number} is a valid number.\")\n",
    "    else:\n",
    "        print(f\"{number} is not a valid number.\")\n"
   ]
  },
  {
   "cell_type": "markdown",
   "id": "0e2008e7",
   "metadata": {},
   "source": [
    "<b> Explanation of the pattern:</b>\n",
    "- ^ and $ are anchors to match the start and end of the string, ensuring that the entire string is matched.\n",
    "- \\d{1,3} matches one to three digits at the beginning of the string.\n",
    "- (,\\d{3})* matches zero or more occurrences of a comma followed by exactly three digits.\n",
    "- Combining the above parts, the pattern matches a number with commas for every three digits."
   ]
  },
  {
   "cell_type": "markdown",
   "id": "4359d4ee",
   "metadata": {},
   "source": [
    "#### 21. How would you write a regex that matches the full name of someone whose last name is Watanabe? You can assume that the first name that comes before it will always be one word that begins with a capital letter. The regex must match the following: &#39;Haruto Watanabe&#39; ; &#39;Alice Watanabe&#39; ; &#39;RoboCop Watanabe&#39;\n",
    "<b>but not the following: &#39;haruto Watanabe&#39; (where the first name is not capitalized); &#39;Mr. Watanabe&#39; (where the preceding word has a nonletter character); &#39;Watanabe&#39; (which has no first name) &#39;Haruto watanabe&#39; (where Watanabe is not capitalized)</b>"
   ]
  },
  {
   "cell_type": "markdown",
   "id": "bedcff54",
   "metadata": {},
   "source": [
    "To match the full name of someone whose last name is \"Watanabe\" with the conditions specified, you can use the following regular expression pattern:  \n",
    ">^[A-Z][a-zA-Z]*\\sWatanabe$"
   ]
  },
  {
   "cell_type": "code",
   "execution_count": 8,
   "id": "93240027",
   "metadata": {},
   "outputs": [
    {
     "name": "stdout",
     "output_type": "stream",
     "text": [
      "Haruto Watanabe is a valid name.\n",
      "Alice Watanabe is a valid name.\n",
      "RoboCop Watanabe is a valid name.\n",
      "haruto Watanabe is not a valid name.\n",
      "Mr. Watanabe is not a valid name.\n",
      "Watanabe is not a valid name.\n",
      "Haruto watanabe is not a valid name.\n"
     ]
    }
   ],
   "source": [
    "import re\n",
    "\n",
    "pattern = re.compile(r'^[A-Z][a-zA-Z]*\\sWatanabe$')\n",
    "\n",
    "names = ['Haruto Watanabe', 'Alice Watanabe', 'RoboCop Watanabe', 'haruto Watanabe', 'Mr. Watanabe', 'Watanabe', 'Haruto watanabe']\n",
    "\n",
    "for name in names:\n",
    "    match = pattern.match(name)\n",
    "    if match:\n",
    "        print(f\"{name} is a valid name.\")\n",
    "    else:\n",
    "        print(f\"{name} is not a valid name.\")\n"
   ]
  },
  {
   "cell_type": "markdown",
   "id": "32a479b9",
   "metadata": {},
   "source": [
    "<b>Explanation of the pattern:</b>\n",
    "- ^ and $ are anchors to match the start and end of the string, ensuring that the entire string is matched.\n",
    "- [A-Z] matches an uppercase letter at the beginning of the string (first name's first letter).\n",
    "- [a-zA-Z]* matches zero or more lowercase or uppercase letters for the rest of the first name.\n",
    "- \\s matches a whitespace character.\n",
    "- Watanabe matches the last name exactly as \"Watanabe\"."
   ]
  },
  {
   "cell_type": "markdown",
   "id": "c8407892",
   "metadata": {},
   "source": [
    "#### 22. How would you write a regex that matches a sentence where the first word is either Alice, Bob, 'or Carol; the second word is either eats, pets, or throws; the third word is apples, cats, or baseballs;and the sentence ends with a period? This regex should be case-insensitive. It must match the following:\n",
    "\n",
    "<b>&#39;Alice eats apples.&#39;\n",
    "&#39;Bob pets cats.&#39;\n",
    "&#39;Carol throws baseballs.&#39;\n",
    "&#39;Alice throws Apples.&#39;\n",
    "&#39;BOB EATS CATS.&#39;\n",
    "but not the following:\n",
    "&#39;RoboCop eats apples.&#39;\n",
    "&#39;ALICE THROWS FOOTBALLS.&#39;\n",
    "&#39;Carol eats 7 cats.&#39;</b>"
   ]
  },
  {
   "cell_type": "markdown",
   "id": "eddafdcd",
   "metadata": {},
   "source": [
    "To match a sentence with specific patterns as described, you can use the following regular expression with the re.IGNORECASE flag:\n",
    ">^(Alice|Bob|Carol)\\s(eats|pets|throws)\\s(apples|cats|baseballs)\\.$\n"
   ]
  },
  {
   "cell_type": "code",
   "execution_count": 9,
   "id": "5bededcc",
   "metadata": {},
   "outputs": [
    {
     "name": "stdout",
     "output_type": "stream",
     "text": [
      "Alice eats apples. is a valid sentence.\n",
      "Bob pets cats. is a valid sentence.\n",
      "Carol throws baseballs. is a valid sentence.\n",
      "Alice throws Apples. is a valid sentence.\n",
      "BOB EATS CATS. is a valid sentence.\n",
      "RoboCop eats apples. is not a valid sentence.\n",
      "ALICE THROWS FOOTBALLS. is not a valid sentence.\n",
      "Carol eats 7 cats. is not a valid sentence.\n"
     ]
    }
   ],
   "source": [
    "import re\n",
    "\n",
    "pattern = re.compile(r'^(Alice|Bob|Carol)\\s(eats|pets|throws)\\s(apples|cats|baseballs)\\.$', re.IGNORECASE)\n",
    "\n",
    "sentences = ['Alice eats apples.', 'Bob pets cats.', 'Carol throws baseballs.', 'Alice throws Apples.', 'BOB EATS CATS.',\n",
    "             'RoboCop eats apples.', 'ALICE THROWS FOOTBALLS.', 'Carol eats 7 cats.']\n",
    "\n",
    "for sentence in sentences:\n",
    "    match = pattern.match(sentence)\n",
    "    if match:\n",
    "        print(f\"{sentence} is a valid sentence.\")\n",
    "    else:\n",
    "        print(f\"{sentence} is not a valid sentence.\")\n"
   ]
  },
  {
   "cell_type": "markdown",
   "id": "30761470",
   "metadata": {},
   "source": [
    "<b>Explanation of the pattern:</b>\n",
    "- ^ and $ are anchors to match the start and end of the string, ensuring that the entire string is matched.\n",
    "- (Alice|Bob|Carol) matches either \"Alice\", \"Bob\", or \"Carol\" as the first word, using a group with the | alternation operator.\n",
    "- \\s matches a whitespace character between the words.\n",
    "- (eats|pets|throws) matches either \"eats\", \"pets\", or \"throws\" as the second word.\n",
    "- (apples|cats|baseballs) matches either \"apples\", \"cats\", or \"baseballs\" as the third word.\n",
    "- \\. matches a period at the end of the sentence.\n",
    "\n",
    "In this example, the sentences are tested against the regular expression pattern. The sentences that match the specified format (following the given words and ending with a period) are considered valid, while sentences that don't meet the conditions are considered invalid. The re.IGNORECASE flag is used to make the pattern case-insensitive, allowing matches regardless of the letter case."
   ]
  }
 ],
 "metadata": {
  "kernelspec": {
   "display_name": "Python 3",
   "language": "python",
   "name": "python3"
  },
  "language_info": {
   "codemirror_mode": {
    "name": "ipython",
    "version": 3
   },
   "file_extension": ".py",
   "mimetype": "text/x-python",
   "name": "python",
   "nbconvert_exporter": "python",
   "pygments_lexer": "ipython3",
   "version": "3.8.8"
  }
 },
 "nbformat": 4,
 "nbformat_minor": 5
}
